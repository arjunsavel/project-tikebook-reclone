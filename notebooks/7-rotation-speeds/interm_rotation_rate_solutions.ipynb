{
 "cells": [
  {
   "cell_type": "code",
   "execution_count": 4,
   "id": "51672fa9-7fc5-4491-9a28-0f91c6a6bc3c",
   "metadata": {
    "ExecuteTime": {
     "end_time": "2023-08-21T01:40:23.507797Z",
     "start_time": "2023-08-21T01:40:21.576687Z"
    },
    "tags": []
   },
   "outputs": [
    {
     "ename": "ModuleNotFoundError",
     "evalue": "No module named 'keras'",
     "output_type": "error",
     "traceback": [
      "\u001b[0;31m---------------------------------------------------------------------------\u001b[0m",
      "\u001b[0;31mModuleNotFoundError\u001b[0m                       Traceback (most recent call last)",
      "Cell \u001b[0;32mIn[4], line 18\u001b[0m\n\u001b[1;32m     14\u001b[0m \u001b[38;5;28;01mfrom\u001b[39;00m \u001b[38;5;21;01mlightkurve\u001b[39;00m\u001b[38;5;21;01m.\u001b[39;00m\u001b[38;5;21;01msearch\u001b[39;00m \u001b[38;5;28;01mimport\u001b[39;00m search_lightcurve\n\u001b[1;32m     16\u001b[0m \u001b[38;5;66;03m# machine learning and data packages\u001b[39;00m\n\u001b[0;32m---> 18\u001b[0m \u001b[38;5;28;01mimport\u001b[39;00m \u001b[38;5;21;01mkeras\u001b[39;00m\n\u001b[1;32m     19\u001b[0m \u001b[38;5;28;01mfrom\u001b[39;00m \u001b[38;5;21;01mkeras\u001b[39;00m\u001b[38;5;21;01m.\u001b[39;00m\u001b[38;5;21;01mmodels\u001b[39;00m \u001b[38;5;28;01mimport\u001b[39;00m Sequential, Model, load_model\n\u001b[1;32m     20\u001b[0m \u001b[38;5;28;01mfrom\u001b[39;00m \u001b[38;5;21;01mkeras\u001b[39;00m\u001b[38;5;21;01m.\u001b[39;00m\u001b[38;5;21;01mlayers\u001b[39;00m \u001b[38;5;28;01mimport\u001b[39;00m Input, Flatten, Dense, Activation, Dropout, BatchNormalization\n",
      "\u001b[0;31mModuleNotFoundError\u001b[0m: No module named 'keras'"
     ]
    }
   ],
   "source": [
    "# manipulating and plotting arrays\n",
    "import numpy as np\n",
    "import matplotlib.pyplot as plt\n",
    "from matplotlib import ticker\n",
    "\n",
    "# file handling and units\n",
    "import tarfile\n",
    "from tqdm import tqdm\n",
    "import astropy\n",
    "from astropy.io import fits\n",
    "import astropy.constants as const\n",
    "import astropy.units as u\n",
    "from astropy.utils.data import download_file\n",
    "from lightkurve.search import search_lightcurve\n",
    "\n",
    "# machine learning and data packages\n",
    "\n",
    "import keras\n",
    "from keras.models import Sequential, Model, load_model\n",
    "from keras.layers import Input, Flatten, Dense, Activation, Dropout, BatchNormalization\n",
    "from keras.layers.convolutional import Convolution1D, MaxPooling1D\n",
    "from sklearn import metrics\n",
    "import scipy\n",
    "\n",
    "\n",
    "\n",
    "#setting random seeds\n",
    "seed = 42\n",
    "np.random.seed(seed)\n",
    "import os\n",
    "os.environ['PYTHONHASHSEED']=str(seed)\n",
    "import random\n",
    "random.seed(seed)\n",
    "import tensorflow as tf\n",
    "tf.random.set_seed(seed)\n",
    "\n",
    "# read from cloud datasets as opposed to downloading from on-premise servers\n",
    "from astroquery.mast import Observations\n",
    "Observations.enable_cloud_dataset()\n",
    "\n",
    "\n",
    "%matplotlib inline"
   ]
  },
  {
   "cell_type": "code",
   "execution_count": 2,
   "id": "b8475512-b261-4fbb-b3c1-f45c0ab90e63",
   "metadata": {
    "tags": []
   },
   "outputs": [
    {
     "name": "stdout",
     "output_type": "stream",
     "text": [
      "Collecting git+https://github.com/afeinstein20/stella\n",
      "  Cloning https://github.com/afeinstein20/stella to /tmp/pip-req-build-wygryxnj\n",
      "  Resolved https://github.com/afeinstein20/stella to commit f9ffd78d1c7279012e870f3657812595f18eee74\n",
      "  Preparing metadata (setup.py): started\n",
      "  Preparing metadata (setup.py): finished with status 'done'\n",
      "Requirement already satisfied: nbsphinx in /opt/conda/envs/tess/lib/python3.8/site-packages (from stella==0.2.0rc2) (0.9.2)\n",
      "Requirement already satisfied: ipykernel in /opt/conda/envs/tess/lib/python3.8/site-packages (from stella==0.2.0rc2) (6.24.0)\n",
      "Requirement already satisfied: tensorflow>=2.1.0 in /opt/conda/envs/tess/lib/python3.8/site-packages (from stella==0.2.0rc2) (2.9.0)\n",
      "Requirement already satisfied: astroquery in /opt/conda/envs/tess/lib/python3.8/site-packages (from stella==0.2.0rc2) (0.4.6)\n",
      "Requirement already satisfied: astropy in /opt/conda/envs/tess/lib/python3.8/site-packages (from stella==0.2.0rc2) (5.2.2)\n",
      "Requirement already satisfied: tqdm in /opt/conda/envs/tess/lib/python3.8/site-packages (from stella==0.2.0rc2) (4.65.0)\n",
      "Requirement already satisfied: cython in /opt/conda/envs/tess/lib/python3.8/site-packages (from stella==0.2.0rc2) (0.29.36)\n",
      "Requirement already satisfied: codecov in /opt/conda/envs/tess/lib/python3.8/site-packages (from stella==0.2.0rc2) (2.1.13)\n",
      "Requirement already satisfied: coverage in /opt/conda/envs/tess/lib/python3.8/site-packages (from stella==0.2.0rc2) (7.2.7)\n",
      "Requirement already satisfied: pytest in /opt/conda/envs/tess/lib/python3.8/site-packages (from stella==0.2.0rc2) (7.4.0)\n",
      "Requirement already satisfied: pytest-cov in /opt/conda/envs/tess/lib/python3.8/site-packages (from stella==0.2.0rc2) (4.1.0)\n",
      "Requirement already satisfied: lxml in /opt/conda/envs/tess/lib/python3.8/site-packages (from stella==0.2.0rc2) (4.9.3)\n",
      "Requirement already satisfied: pybind11 in /opt/conda/envs/tess/lib/python3.8/site-packages (from stella==0.2.0rc2) (2.11.1)\n",
      "Requirement already satisfied: tornado in /opt/conda/envs/tess/lib/python3.8/site-packages (from stella==0.2.0rc2) (6.3.2)\n",
      "Requirement already satisfied: matplotlib in /opt/conda/envs/tess/lib/python3.8/site-packages (from stella==0.2.0rc2) (3.5.3)\n",
      "Requirement already satisfied: lightkurve>=2.0.0 in /opt/conda/envs/tess/lib/python3.8/site-packages (from stella==0.2.0rc2) (2.4.1.dev0)\n",
      "Requirement already satisfied: numpy in /opt/conda/envs/tess/lib/python3.8/site-packages (from stella==0.2.0rc2) (1.21.6)\n",
      "Requirement already satisfied: sklearn in /opt/conda/envs/tess/lib/python3.8/site-packages (from stella==0.2.0rc2) (0.0.post7)\n",
      "Requirement already satisfied: more-itertools in /opt/conda/envs/tess/lib/python3.8/site-packages (from stella==0.2.0rc2) (9.1.0)\n",
      "Requirement already satisfied: scipy!=1.4.1 in /opt/conda/envs/tess/lib/python3.8/site-packages (from stella==0.2.0rc2) (1.7.3)\n",
      "Requirement already satisfied: poetry in /opt/conda/envs/tess/lib/python3.8/site-packages (from stella==0.2.0rc2) (1.5.1)\n",
      "Requirement already satisfied: beautifulsoup4>=4.6.0 in /opt/conda/envs/tess/lib/python3.8/site-packages (from lightkurve>=2.0.0->stella==0.2.0rc2) (4.12.2)\n",
      "Requirement already satisfied: bokeh>=2.0.0 in /opt/conda/envs/tess/lib/python3.8/site-packages (from lightkurve>=2.0.0->stella==0.2.0rc2) (3.1.1)\n",
      "Requirement already satisfied: fbpca>=1.0 in /opt/conda/envs/tess/lib/python3.8/site-packages (from lightkurve>=2.0.0->stella==0.2.0rc2) (1.0)\n",
      "Requirement already satisfied: memoization>=0.3.1 in /opt/conda/envs/tess/lib/python3.8/site-packages (from lightkurve>=2.0.0->stella==0.2.0rc2) (0.4.0)\n",
      "Requirement already satisfied: oktopus>=0.1.2 in /opt/conda/envs/tess/lib/python3.8/site-packages (from lightkurve>=2.0.0->stella==0.2.0rc2) (0.1.2)\n",
      "Requirement already satisfied: pandas>=1.1.4 in /opt/conda/envs/tess/lib/python3.8/site-packages (from lightkurve>=2.0.0->stella==0.2.0rc2) (2.0.3)\n",
      "Requirement already satisfied: patsy>=0.5.0 in /opt/conda/envs/tess/lib/python3.8/site-packages (from lightkurve>=2.0.0->stella==0.2.0rc2) (0.5.3)\n",
      "Requirement already satisfied: requests>=2.22.0 in /opt/conda/envs/tess/lib/python3.8/site-packages (from lightkurve>=2.0.0->stella==0.2.0rc2) (2.31.0)\n",
      "Requirement already satisfied: scikit-learn>=0.24.0 in /opt/conda/envs/tess/lib/python3.8/site-packages (from lightkurve>=2.0.0->stella==0.2.0rc2) (1.3.0)\n",
      "Requirement already satisfied: uncertainties>=3.1.4 in /opt/conda/envs/tess/lib/python3.8/site-packages (from lightkurve>=2.0.0->stella==0.2.0rc2) (3.1.7)\n",
      "Requirement already satisfied: urllib3>=1.23 in /opt/conda/envs/tess/lib/python3.8/site-packages (from lightkurve>=2.0.0->stella==0.2.0rc2) (1.26.16)\n",
      "Requirement already satisfied: pyerfa>=2.0 in /opt/conda/envs/tess/lib/python3.8/site-packages (from astropy->stella==0.2.0rc2) (2.0.0.3)\n",
      "Requirement already satisfied: PyYAML>=3.13 in /opt/conda/envs/tess/lib/python3.8/site-packages (from astropy->stella==0.2.0rc2) (6.0.1)\n",
      "Requirement already satisfied: packaging>=19.0 in /opt/conda/envs/tess/lib/python3.8/site-packages (from astropy->stella==0.2.0rc2) (23.1)\n",
      "Requirement already satisfied: html5lib>=0.999 in /opt/conda/envs/tess/lib/python3.8/site-packages (from astroquery->stella==0.2.0rc2) (1.1)\n",
      "Requirement already satisfied: keyring>=4.0 in /opt/conda/envs/tess/lib/python3.8/site-packages (from astroquery->stella==0.2.0rc2) (23.13.1)\n",
      "Requirement already satisfied: pyvo>=1.1 in /opt/conda/envs/tess/lib/python3.8/site-packages (from astroquery->stella==0.2.0rc2) (1.4.1)\n",
      "Requirement already satisfied: cycler>=0.10 in /opt/conda/envs/tess/lib/python3.8/site-packages (from matplotlib->stella==0.2.0rc2) (0.11.0)\n",
      "Requirement already satisfied: fonttools>=4.22.0 in /opt/conda/envs/tess/lib/python3.8/site-packages (from matplotlib->stella==0.2.0rc2) (4.41.0)\n",
      "Requirement already satisfied: kiwisolver>=1.0.1 in /opt/conda/envs/tess/lib/python3.8/site-packages (from matplotlib->stella==0.2.0rc2) (1.4.4)\n",
      "Requirement already satisfied: pillow>=6.2.0 in /opt/conda/envs/tess/lib/python3.8/site-packages (from matplotlib->stella==0.2.0rc2) (10.0.0)\n",
      "Requirement already satisfied: pyparsing>=2.2.1 in /opt/conda/envs/tess/lib/python3.8/site-packages (from matplotlib->stella==0.2.0rc2) (3.1.0)\n",
      "Requirement already satisfied: python-dateutil>=2.7 in /opt/conda/envs/tess/lib/python3.8/site-packages (from matplotlib->stella==0.2.0rc2) (2.8.2)\n",
      "Requirement already satisfied: absl-py>=1.0.0 in /opt/conda/envs/tess/lib/python3.8/site-packages (from tensorflow>=2.1.0->stella==0.2.0rc2) (1.4.0)\n",
      "Requirement already satisfied: astunparse>=1.6.0 in /opt/conda/envs/tess/lib/python3.8/site-packages (from tensorflow>=2.1.0->stella==0.2.0rc2) (1.6.3)\n",
      "Requirement already satisfied: flatbuffers<2,>=1.12 in /opt/conda/envs/tess/lib/python3.8/site-packages (from tensorflow>=2.1.0->stella==0.2.0rc2) (1.12)\n",
      "Requirement already satisfied: gast<=0.4.0,>=0.2.1 in /opt/conda/envs/tess/lib/python3.8/site-packages (from tensorflow>=2.1.0->stella==0.2.0rc2) (0.4.0)\n",
      "Requirement already satisfied: google-pasta>=0.1.1 in /opt/conda/envs/tess/lib/python3.8/site-packages (from tensorflow>=2.1.0->stella==0.2.0rc2) (0.2.0)\n",
      "Requirement already satisfied: grpcio<2.0,>=1.24.3 in /opt/conda/envs/tess/lib/python3.8/site-packages (from tensorflow>=2.1.0->stella==0.2.0rc2) (1.56.0)\n",
      "Requirement already satisfied: h5py>=2.9.0 in /opt/conda/envs/tess/lib/python3.8/site-packages (from tensorflow>=2.1.0->stella==0.2.0rc2) (3.9.0)\n",
      "Requirement already satisfied: keras<2.10.0,>=2.9.0rc0 in /opt/conda/envs/tess/lib/python3.8/site-packages (from tensorflow>=2.1.0->stella==0.2.0rc2) (2.9.0)\n",
      "Requirement already satisfied: keras-preprocessing>=1.1.1 in /opt/conda/envs/tess/lib/python3.8/site-packages (from tensorflow>=2.1.0->stella==0.2.0rc2) (1.1.2)\n",
      "Requirement already satisfied: libclang>=13.0.0 in /opt/conda/envs/tess/lib/python3.8/site-packages (from tensorflow>=2.1.0->stella==0.2.0rc2) (16.0.6)\n",
      "Requirement already satisfied: opt-einsum>=2.3.2 in /opt/conda/envs/tess/lib/python3.8/site-packages (from tensorflow>=2.1.0->stella==0.2.0rc2) (3.3.0)\n",
      "Requirement already satisfied: protobuf>=3.9.2 in /opt/conda/envs/tess/lib/python3.8/site-packages (from tensorflow>=2.1.0->stella==0.2.0rc2) (3.20.0)\n",
      "Requirement already satisfied: setuptools in /opt/conda/envs/tess/lib/python3.8/site-packages (from tensorflow>=2.1.0->stella==0.2.0rc2) (68.0.0)\n",
      "Requirement already satisfied: six>=1.12.0 in /opt/conda/envs/tess/lib/python3.8/site-packages (from tensorflow>=2.1.0->stella==0.2.0rc2) (1.16.0)\n",
      "Requirement already satisfied: tensorboard<2.10,>=2.9 in /opt/conda/envs/tess/lib/python3.8/site-packages (from tensorflow>=2.1.0->stella==0.2.0rc2) (2.9.0)\n",
      "Requirement already satisfied: tensorflow-io-gcs-filesystem>=0.23.1 in /opt/conda/envs/tess/lib/python3.8/site-packages (from tensorflow>=2.1.0->stella==0.2.0rc2) (0.32.0)\n",
      "Requirement already satisfied: tensorflow-estimator<2.10.0,>=2.9.0rc0 in /opt/conda/envs/tess/lib/python3.8/site-packages (from tensorflow>=2.1.0->stella==0.2.0rc2) (2.9.0)\n",
      "Requirement already satisfied: termcolor>=1.1.0 in /opt/conda/envs/tess/lib/python3.8/site-packages (from tensorflow>=2.1.0->stella==0.2.0rc2) (2.3.0)\n",
      "Requirement already satisfied: typing-extensions>=3.6.6 in /opt/conda/envs/tess/lib/python3.8/site-packages (from tensorflow>=2.1.0->stella==0.2.0rc2) (4.7.1)\n",
      "Requirement already satisfied: wrapt>=1.11.0 in /opt/conda/envs/tess/lib/python3.8/site-packages (from tensorflow>=2.1.0->stella==0.2.0rc2) (1.15.0)\n",
      "Requirement already satisfied: comm>=0.1.1 in /opt/conda/envs/tess/lib/python3.8/site-packages (from ipykernel->stella==0.2.0rc2) (0.1.3)\n",
      "Requirement already satisfied: debugpy>=1.6.5 in /opt/conda/envs/tess/lib/python3.8/site-packages (from ipykernel->stella==0.2.0rc2) (1.6.7)\n",
      "Requirement already satisfied: ipython>=7.23.1 in /opt/conda/envs/tess/lib/python3.8/site-packages (from ipykernel->stella==0.2.0rc2) (8.12.2)\n",
      "Requirement already satisfied: jupyter-client>=6.1.12 in /opt/conda/envs/tess/lib/python3.8/site-packages (from ipykernel->stella==0.2.0rc2) (8.3.0)\n",
      "Requirement already satisfied: jupyter-core!=5.0.*,>=4.12 in /opt/conda/envs/tess/lib/python3.8/site-packages (from ipykernel->stella==0.2.0rc2) (5.3.1)\n",
      "Requirement already satisfied: matplotlib-inline>=0.1 in /opt/conda/envs/tess/lib/python3.8/site-packages (from ipykernel->stella==0.2.0rc2) (0.1.6)\n",
      "Requirement already satisfied: nest-asyncio in /opt/conda/envs/tess/lib/python3.8/site-packages (from ipykernel->stella==0.2.0rc2) (1.5.6)\n",
      "Requirement already satisfied: psutil in /opt/conda/envs/tess/lib/python3.8/site-packages (from ipykernel->stella==0.2.0rc2) (5.9.5)\n",
      "Requirement already satisfied: pyzmq>=20 in /opt/conda/envs/tess/lib/python3.8/site-packages (from ipykernel->stella==0.2.0rc2) (25.1.0)\n",
      "Requirement already satisfied: traitlets>=5.4.0 in /opt/conda/envs/tess/lib/python3.8/site-packages (from ipykernel->stella==0.2.0rc2) (5.9.0)\n",
      "Requirement already satisfied: docutils in /opt/conda/envs/tess/lib/python3.8/site-packages (from nbsphinx->stella==0.2.0rc2) (0.18.1)\n",
      "Requirement already satisfied: jinja2 in /opt/conda/envs/tess/lib/python3.8/site-packages (from nbsphinx->stella==0.2.0rc2) (3.1.2)\n",
      "Requirement already satisfied: nbconvert!=5.4 in /opt/conda/envs/tess/lib/python3.8/site-packages (from nbsphinx->stella==0.2.0rc2) (7.7.1)\n",
      "Requirement already satisfied: nbformat in /opt/conda/envs/tess/lib/python3.8/site-packages (from nbsphinx->stella==0.2.0rc2) (5.9.1)\n",
      "Requirement already satisfied: sphinx>=1.8 in /opt/conda/envs/tess/lib/python3.8/site-packages (from nbsphinx->stella==0.2.0rc2) (6.2.1)\n",
      "Requirement already satisfied: build<0.11.0,>=0.10.0 in /opt/conda/envs/tess/lib/python3.8/site-packages (from poetry->stella==0.2.0rc2) (0.10.0)\n",
      "Requirement already satisfied: cachecontrol[filecache]<0.13.0,>=0.12.9 in /opt/conda/envs/tess/lib/python3.8/site-packages (from poetry->stella==0.2.0rc2) (0.12.14)\n",
      "Requirement already satisfied: cleo<3.0.0,>=2.0.0 in /opt/conda/envs/tess/lib/python3.8/site-packages (from poetry->stella==0.2.0rc2) (2.0.1)\n",
      "Requirement already satisfied: crashtest<0.5.0,>=0.4.1 in /opt/conda/envs/tess/lib/python3.8/site-packages (from poetry->stella==0.2.0rc2) (0.4.1)\n",
      "Requirement already satisfied: dulwich<0.22.0,>=0.21.2 in /opt/conda/envs/tess/lib/python3.8/site-packages (from poetry->stella==0.2.0rc2) (0.21.5)\n",
      "Requirement already satisfied: filelock<4.0.0,>=3.8.0 in /opt/conda/envs/tess/lib/python3.8/site-packages (from poetry->stella==0.2.0rc2) (3.12.2)\n",
      "Requirement already satisfied: importlib-metadata>=4.4 in /opt/conda/envs/tess/lib/python3.8/site-packages (from poetry->stella==0.2.0rc2) (6.8.0)\n",
      "Requirement already satisfied: installer<0.8.0,>=0.7.0 in /opt/conda/envs/tess/lib/python3.8/site-packages (from poetry->stella==0.2.0rc2) (0.7.0)\n",
      "Requirement already satisfied: jsonschema<5.0.0,>=4.10.0 in /opt/conda/envs/tess/lib/python3.8/site-packages (from poetry->stella==0.2.0rc2) (4.17.3)\n",
      "Requirement already satisfied: lockfile<0.13.0,>=0.12.2 in /opt/conda/envs/tess/lib/python3.8/site-packages (from poetry->stella==0.2.0rc2) (0.12.2)\n",
      "Requirement already satisfied: pexpect<5.0.0,>=4.7.0 in /opt/conda/envs/tess/lib/python3.8/site-packages (from poetry->stella==0.2.0rc2) (4.8.0)\n",
      "Requirement already satisfied: pkginfo<2.0.0,>=1.9.4 in /opt/conda/envs/tess/lib/python3.8/site-packages (from poetry->stella==0.2.0rc2) (1.9.6)\n",
      "Requirement already satisfied: platformdirs<4.0.0,>=3.0.0 in /opt/conda/envs/tess/lib/python3.8/site-packages (from poetry->stella==0.2.0rc2) (3.9.1)\n",
      "Requirement already satisfied: poetry-core==1.6.1 in /opt/conda/envs/tess/lib/python3.8/site-packages (from poetry->stella==0.2.0rc2) (1.6.1)\n",
      "Requirement already satisfied: poetry-plugin-export<2.0.0,>=1.4.0 in /opt/conda/envs/tess/lib/python3.8/site-packages (from poetry->stella==0.2.0rc2) (1.4.0)\n",
      "Requirement already satisfied: pyproject-hooks<2.0.0,>=1.0.0 in /opt/conda/envs/tess/lib/python3.8/site-packages (from poetry->stella==0.2.0rc2) (1.0.0)\n",
      "Requirement already satisfied: requests-toolbelt<2,>=0.9.1 in /opt/conda/envs/tess/lib/python3.8/site-packages (from poetry->stella==0.2.0rc2) (1.0.0)\n",
      "Requirement already satisfied: shellingham<2.0,>=1.5 in /opt/conda/envs/tess/lib/python3.8/site-packages (from poetry->stella==0.2.0rc2) (1.5.0.post1)\n",
      "Requirement already satisfied: tomli<3.0.0,>=2.0.1 in /opt/conda/envs/tess/lib/python3.8/site-packages (from poetry->stella==0.2.0rc2) (2.0.1)\n",
      "Requirement already satisfied: tomlkit<1.0.0,>=0.11.4 in /opt/conda/envs/tess/lib/python3.8/site-packages (from poetry->stella==0.2.0rc2) (0.11.8)\n",
      "Requirement already satisfied: trove-classifiers>=2022.5.19 in /opt/conda/envs/tess/lib/python3.8/site-packages (from poetry->stella==0.2.0rc2) (2023.7.6)\n",
      "Requirement already satisfied: virtualenv<21.0.0,>=20.22.0 in /opt/conda/envs/tess/lib/python3.8/site-packages (from poetry->stella==0.2.0rc2) (20.24.0)\n",
      "Requirement already satisfied: iniconfig in /opt/conda/envs/tess/lib/python3.8/site-packages (from pytest->stella==0.2.0rc2) (2.0.0)\n",
      "Requirement already satisfied: pluggy<2.0,>=0.12 in /opt/conda/envs/tess/lib/python3.8/site-packages (from pytest->stella==0.2.0rc2) (1.2.0)\n",
      "Requirement already satisfied: exceptiongroup>=1.0.0rc8 in /opt/conda/envs/tess/lib/python3.8/site-packages (from pytest->stella==0.2.0rc2) (1.1.2)\n",
      "Requirement already satisfied: wheel<1.0,>=0.23.0 in /opt/conda/envs/tess/lib/python3.8/site-packages (from astunparse>=1.6.0->tensorflow>=2.1.0->stella==0.2.0rc2) (0.40.0)\n",
      "Requirement already satisfied: soupsieve>1.2 in /opt/conda/envs/tess/lib/python3.8/site-packages (from beautifulsoup4>=4.6.0->lightkurve>=2.0.0->stella==0.2.0rc2) (2.4.1)\n",
      "Requirement already satisfied: contourpy>=1 in /opt/conda/envs/tess/lib/python3.8/site-packages (from bokeh>=2.0.0->lightkurve>=2.0.0->stella==0.2.0rc2) (1.1.0)\n",
      "Requirement already satisfied: xyzservices>=2021.09.1 in /opt/conda/envs/tess/lib/python3.8/site-packages (from bokeh>=2.0.0->lightkurve>=2.0.0->stella==0.2.0rc2) (2023.7.0)\n",
      "Requirement already satisfied: msgpack>=0.5.2 in /opt/conda/envs/tess/lib/python3.8/site-packages (from cachecontrol[filecache]<0.13.0,>=0.12.9->poetry->stella==0.2.0rc2) (1.0.5)\n",
      "Requirement already satisfied: rapidfuzz<3.0.0,>=2.2.0 in /opt/conda/envs/tess/lib/python3.8/site-packages (from cleo<3.0.0,>=2.0.0->poetry->stella==0.2.0rc2) (2.15.1)\n",
      "Requirement already satisfied: webencodings in /opt/conda/envs/tess/lib/python3.8/site-packages (from html5lib>=0.999->astroquery->stella==0.2.0rc2) (0.5.1)\n",
      "Requirement already satisfied: zipp>=0.5 in /opt/conda/envs/tess/lib/python3.8/site-packages (from importlib-metadata>=4.4->poetry->stella==0.2.0rc2) (3.16.2)\n",
      "Requirement already satisfied: backcall in /opt/conda/envs/tess/lib/python3.8/site-packages (from ipython>=7.23.1->ipykernel->stella==0.2.0rc2) (0.2.0)\n",
      "Requirement already satisfied: decorator in /opt/conda/envs/tess/lib/python3.8/site-packages (from ipython>=7.23.1->ipykernel->stella==0.2.0rc2) (5.1.1)\n",
      "Requirement already satisfied: jedi>=0.16 in /opt/conda/envs/tess/lib/python3.8/site-packages (from ipython>=7.23.1->ipykernel->stella==0.2.0rc2) (0.18.2)\n",
      "Requirement already satisfied: pickleshare in /opt/conda/envs/tess/lib/python3.8/site-packages (from ipython>=7.23.1->ipykernel->stella==0.2.0rc2) (0.7.5)\n",
      "Requirement already satisfied: prompt-toolkit!=3.0.37,<3.1.0,>=3.0.30 in /opt/conda/envs/tess/lib/python3.8/site-packages (from ipython>=7.23.1->ipykernel->stella==0.2.0rc2) (3.0.39)\n",
      "Requirement already satisfied: pygments>=2.4.0 in /opt/conda/envs/tess/lib/python3.8/site-packages (from ipython>=7.23.1->ipykernel->stella==0.2.0rc2) (2.15.1)\n",
      "Requirement already satisfied: stack-data in /opt/conda/envs/tess/lib/python3.8/site-packages (from ipython>=7.23.1->ipykernel->stella==0.2.0rc2) (0.6.2)\n",
      "Requirement already satisfied: MarkupSafe>=2.0 in /opt/conda/envs/tess/lib/python3.8/site-packages (from jinja2->nbsphinx->stella==0.2.0rc2) (2.1.3)\n",
      "Requirement already satisfied: attrs>=17.4.0 in /opt/conda/envs/tess/lib/python3.8/site-packages (from jsonschema<5.0.0,>=4.10.0->poetry->stella==0.2.0rc2) (23.1.0)\n",
      "Requirement already satisfied: importlib-resources>=1.4.0 in /opt/conda/envs/tess/lib/python3.8/site-packages (from jsonschema<5.0.0,>=4.10.0->poetry->stella==0.2.0rc2) (6.0.0)\n",
      "Requirement already satisfied: pkgutil-resolve-name>=1.3.10 in /opt/conda/envs/tess/lib/python3.8/site-packages (from jsonschema<5.0.0,>=4.10.0->poetry->stella==0.2.0rc2) (1.3.10)\n",
      "Requirement already satisfied: pyrsistent!=0.17.0,!=0.17.1,!=0.17.2,>=0.14.0 in /opt/conda/envs/tess/lib/python3.8/site-packages (from jsonschema<5.0.0,>=4.10.0->poetry->stella==0.2.0rc2) (0.19.3)\n",
      "Requirement already satisfied: jaraco.classes in /opt/conda/envs/tess/lib/python3.8/site-packages (from keyring>=4.0->astroquery->stella==0.2.0rc2) (3.3.0)\n",
      "Requirement already satisfied: SecretStorage>=3.2 in /opt/conda/envs/tess/lib/python3.8/site-packages (from keyring>=4.0->astroquery->stella==0.2.0rc2) (3.3.3)\n",
      "Requirement already satisfied: jeepney>=0.4.2 in /opt/conda/envs/tess/lib/python3.8/site-packages (from keyring>=4.0->astroquery->stella==0.2.0rc2) (0.8.0)\n",
      "Requirement already satisfied: bleach!=5.0.0 in /opt/conda/envs/tess/lib/python3.8/site-packages (from nbconvert!=5.4->nbsphinx->stella==0.2.0rc2) (6.0.0)\n",
      "Requirement already satisfied: defusedxml in /opt/conda/envs/tess/lib/python3.8/site-packages (from nbconvert!=5.4->nbsphinx->stella==0.2.0rc2) (0.7.1)\n",
      "Requirement already satisfied: jupyterlab-pygments in /opt/conda/envs/tess/lib/python3.8/site-packages (from nbconvert!=5.4->nbsphinx->stella==0.2.0rc2) (0.2.2)\n",
      "Requirement already satisfied: mistune<4,>=2.0.3 in /opt/conda/envs/tess/lib/python3.8/site-packages (from nbconvert!=5.4->nbsphinx->stella==0.2.0rc2) (3.0.1)\n",
      "Requirement already satisfied: nbclient>=0.5.0 in /opt/conda/envs/tess/lib/python3.8/site-packages (from nbconvert!=5.4->nbsphinx->stella==0.2.0rc2) (0.8.0)\n",
      "Requirement already satisfied: pandocfilters>=1.4.1 in /opt/conda/envs/tess/lib/python3.8/site-packages (from nbconvert!=5.4->nbsphinx->stella==0.2.0rc2) (1.5.0)\n",
      "Requirement already satisfied: tinycss2 in /opt/conda/envs/tess/lib/python3.8/site-packages (from nbconvert!=5.4->nbsphinx->stella==0.2.0rc2) (1.2.1)\n",
      "Requirement already satisfied: fastjsonschema in /opt/conda/envs/tess/lib/python3.8/site-packages (from nbformat->nbsphinx->stella==0.2.0rc2) (2.17.1)\n",
      "Requirement already satisfied: autograd in /opt/conda/envs/tess/lib/python3.8/site-packages (from oktopus>=0.1.2->lightkurve>=2.0.0->stella==0.2.0rc2) (1.6.2)\n",
      "Requirement already satisfied: pytz>=2020.1 in /opt/conda/envs/tess/lib/python3.8/site-packages (from pandas>=1.1.4->lightkurve>=2.0.0->stella==0.2.0rc2) (2023.3)\n",
      "Requirement already satisfied: tzdata>=2022.1 in /opt/conda/envs/tess/lib/python3.8/site-packages (from pandas>=1.1.4->lightkurve>=2.0.0->stella==0.2.0rc2) (2023.3)\n",
      "Requirement already satisfied: ptyprocess>=0.5 in /opt/conda/envs/tess/lib/python3.8/site-packages (from pexpect<5.0.0,>=4.7.0->poetry->stella==0.2.0rc2) (0.7.0)\n",
      "Requirement already satisfied: charset-normalizer<4,>=2 in /opt/conda/envs/tess/lib/python3.8/site-packages (from requests>=2.22.0->lightkurve>=2.0.0->stella==0.2.0rc2) (3.2.0)\n",
      "Requirement already satisfied: idna<4,>=2.5 in /opt/conda/envs/tess/lib/python3.8/site-packages (from requests>=2.22.0->lightkurve>=2.0.0->stella==0.2.0rc2) (3.4)\n",
      "Requirement already satisfied: certifi>=2017.4.17 in /opt/conda/envs/tess/lib/python3.8/site-packages (from requests>=2.22.0->lightkurve>=2.0.0->stella==0.2.0rc2) (2023.5.7)\n",
      "Requirement already satisfied: joblib>=1.1.1 in /opt/conda/envs/tess/lib/python3.8/site-packages (from scikit-learn>=0.24.0->lightkurve>=2.0.0->stella==0.2.0rc2) (1.3.1)\n",
      "Requirement already satisfied: threadpoolctl>=2.0.0 in /opt/conda/envs/tess/lib/python3.8/site-packages (from scikit-learn>=0.24.0->lightkurve>=2.0.0->stella==0.2.0rc2) (3.2.0)\n",
      "Requirement already satisfied: sphinxcontrib-applehelp in /opt/conda/envs/tess/lib/python3.8/site-packages (from sphinx>=1.8->nbsphinx->stella==0.2.0rc2) (1.0.4)\n",
      "Requirement already satisfied: sphinxcontrib-devhelp in /opt/conda/envs/tess/lib/python3.8/site-packages (from sphinx>=1.8->nbsphinx->stella==0.2.0rc2) (1.0.2)\n",
      "Requirement already satisfied: sphinxcontrib-jsmath in /opt/conda/envs/tess/lib/python3.8/site-packages (from sphinx>=1.8->nbsphinx->stella==0.2.0rc2) (1.0.1)\n",
      "Requirement already satisfied: sphinxcontrib-htmlhelp>=2.0.0 in /opt/conda/envs/tess/lib/python3.8/site-packages (from sphinx>=1.8->nbsphinx->stella==0.2.0rc2) (2.0.1)\n",
      "Requirement already satisfied: sphinxcontrib-serializinghtml>=1.1.5 in /opt/conda/envs/tess/lib/python3.8/site-packages (from sphinx>=1.8->nbsphinx->stella==0.2.0rc2) (1.1.5)\n",
      "Requirement already satisfied: sphinxcontrib-qthelp in /opt/conda/envs/tess/lib/python3.8/site-packages (from sphinx>=1.8->nbsphinx->stella==0.2.0rc2) (1.0.3)\n",
      "Requirement already satisfied: snowballstemmer>=2.0 in /opt/conda/envs/tess/lib/python3.8/site-packages (from sphinx>=1.8->nbsphinx->stella==0.2.0rc2) (2.2.0)\n",
      "Requirement already satisfied: babel>=2.9 in /opt/conda/envs/tess/lib/python3.8/site-packages (from sphinx>=1.8->nbsphinx->stella==0.2.0rc2) (2.12.1)\n",
      "Requirement already satisfied: alabaster<0.8,>=0.7 in /opt/conda/envs/tess/lib/python3.8/site-packages (from sphinx>=1.8->nbsphinx->stella==0.2.0rc2) (0.7.13)\n",
      "Requirement already satisfied: imagesize>=1.3 in /opt/conda/envs/tess/lib/python3.8/site-packages (from sphinx>=1.8->nbsphinx->stella==0.2.0rc2) (1.4.1)\n",
      "Requirement already satisfied: google-auth<3,>=1.6.3 in /opt/conda/envs/tess/lib/python3.8/site-packages (from tensorboard<2.10,>=2.9->tensorflow>=2.1.0->stella==0.2.0rc2) (2.22.0)\n",
      "Requirement already satisfied: google-auth-oauthlib<0.5,>=0.4.1 in /opt/conda/envs/tess/lib/python3.8/site-packages (from tensorboard<2.10,>=2.9->tensorflow>=2.1.0->stella==0.2.0rc2) (0.4.6)\n",
      "Requirement already satisfied: markdown>=2.6.8 in /opt/conda/envs/tess/lib/python3.8/site-packages (from tensorboard<2.10,>=2.9->tensorflow>=2.1.0->stella==0.2.0rc2) (3.4.3)\n",
      "Requirement already satisfied: tensorboard-data-server<0.7.0,>=0.6.0 in /opt/conda/envs/tess/lib/python3.8/site-packages (from tensorboard<2.10,>=2.9->tensorflow>=2.1.0->stella==0.2.0rc2) (0.6.1)\n",
      "Requirement already satisfied: tensorboard-plugin-wit>=1.6.0 in /opt/conda/envs/tess/lib/python3.8/site-packages (from tensorboard<2.10,>=2.9->tensorflow>=2.1.0->stella==0.2.0rc2) (1.8.1)\n",
      "Requirement already satisfied: werkzeug>=1.0.1 in /opt/conda/envs/tess/lib/python3.8/site-packages (from tensorboard<2.10,>=2.9->tensorflow>=2.1.0->stella==0.2.0rc2) (2.3.6)\n",
      "Requirement already satisfied: future in /opt/conda/envs/tess/lib/python3.8/site-packages (from uncertainties>=3.1.4->lightkurve>=2.0.0->stella==0.2.0rc2) (0.18.3)\n",
      "Requirement already satisfied: distlib<1,>=0.3.6 in /opt/conda/envs/tess/lib/python3.8/site-packages (from virtualenv<21.0.0,>=20.22.0->poetry->stella==0.2.0rc2) (0.3.7)\n",
      "Requirement already satisfied: cachetools<6.0,>=2.0.0 in /opt/conda/envs/tess/lib/python3.8/site-packages (from google-auth<3,>=1.6.3->tensorboard<2.10,>=2.9->tensorflow>=2.1.0->stella==0.2.0rc2) (5.3.1)\n",
      "Requirement already satisfied: pyasn1-modules>=0.2.1 in /opt/conda/envs/tess/lib/python3.8/site-packages (from google-auth<3,>=1.6.3->tensorboard<2.10,>=2.9->tensorflow>=2.1.0->stella==0.2.0rc2) (0.3.0)\n",
      "Requirement already satisfied: rsa<5,>=3.1.4 in /opt/conda/envs/tess/lib/python3.8/site-packages (from google-auth<3,>=1.6.3->tensorboard<2.10,>=2.9->tensorflow>=2.1.0->stella==0.2.0rc2) (4.9)\n",
      "Requirement already satisfied: requests-oauthlib>=0.7.0 in /opt/conda/envs/tess/lib/python3.8/site-packages (from google-auth-oauthlib<0.5,>=0.4.1->tensorboard<2.10,>=2.9->tensorflow>=2.1.0->stella==0.2.0rc2) (1.3.1)\n",
      "Requirement already satisfied: parso<0.9.0,>=0.8.0 in /opt/conda/envs/tess/lib/python3.8/site-packages (from jedi>=0.16->ipython>=7.23.1->ipykernel->stella==0.2.0rc2) (0.8.3)\n",
      "Requirement already satisfied: wcwidth in /opt/conda/envs/tess/lib/python3.8/site-packages (from prompt-toolkit!=3.0.37,<3.1.0,>=3.0.30->ipython>=7.23.1->ipykernel->stella==0.2.0rc2) (0.2.6)\n",
      "Requirement already satisfied: cryptography>=2.0 in /opt/conda/envs/tess/lib/python3.8/site-packages (from SecretStorage>=3.2->keyring>=4.0->astroquery->stella==0.2.0rc2) (41.0.2)\n",
      "Requirement already satisfied: executing>=1.2.0 in /opt/conda/envs/tess/lib/python3.8/site-packages (from stack-data->ipython>=7.23.1->ipykernel->stella==0.2.0rc2) (1.2.0)\n",
      "Requirement already satisfied: asttokens>=2.1.0 in /opt/conda/envs/tess/lib/python3.8/site-packages (from stack-data->ipython>=7.23.1->ipykernel->stella==0.2.0rc2) (2.2.1)\n",
      "Requirement already satisfied: pure-eval in /opt/conda/envs/tess/lib/python3.8/site-packages (from stack-data->ipython>=7.23.1->ipykernel->stella==0.2.0rc2) (0.2.2)\n",
      "Requirement already satisfied: cffi>=1.12 in /opt/conda/envs/tess/lib/python3.8/site-packages (from cryptography>=2.0->SecretStorage>=3.2->keyring>=4.0->astroquery->stella==0.2.0rc2) (1.15.1)\n",
      "Requirement already satisfied: pyasn1<0.6.0,>=0.4.6 in /opt/conda/envs/tess/lib/python3.8/site-packages (from pyasn1-modules>=0.2.1->google-auth<3,>=1.6.3->tensorboard<2.10,>=2.9->tensorflow>=2.1.0->stella==0.2.0rc2) (0.5.0)\n",
      "Requirement already satisfied: oauthlib>=3.0.0 in /opt/conda/envs/tess/lib/python3.8/site-packages (from requests-oauthlib>=0.7.0->google-auth-oauthlib<0.5,>=0.4.1->tensorboard<2.10,>=2.9->tensorflow>=2.1.0->stella==0.2.0rc2) (3.2.2)\n",
      "Requirement already satisfied: pycparser in /opt/conda/envs/tess/lib/python3.8/site-packages (from cffi>=1.12->cryptography>=2.0->SecretStorage>=3.2->keyring>=4.0->astroquery->stella==0.2.0rc2) (2.21)\n",
      "\n",
      "  Running command git clone --filter=blob:none --quiet https://github.com/afeinstein20/stella /tmp/pip-req-build-wygryxnj\n",
      "\n",
      "\n",
      "Note: you may need to restart the kernel to use updated packages.\n"
     ]
    }
   ],
   "source": [
    "conda run pip install git+https://github.com/afeinstein20/stella"
   ]
  },
  {
   "cell_type": "code",
   "execution_count": 3,
   "id": "813fa5cc-ca61-4ade-8fae-9f38cb4b7357",
   "metadata": {
    "tags": []
   },
   "outputs": [],
   "source": [
    "import stella"
   ]
  },
  {
   "cell_type": "markdown",
   "id": "bd3aa4da-a063-4c94-89e0-268fe09e0594",
   "metadata": {},
   "source": [
    "# Exercise 1"
   ]
  },
  {
   "cell_type": "markdown",
   "id": "ccd2df45-805f-4f39-b1b2-e328fa075c5d",
   "metadata": {},
   "source": [
    "First, we download the relevant data and confirm that we've plotted the correct lightcurve."
   ]
  },
  {
   "cell_type": "code",
   "execution_count": null,
   "id": "7e5ad607-fd98-4921-be3f-2d0d2a73b932",
   "metadata": {
    "ExecuteTime": {
     "start_time": "2023-08-21T01:41:51.096Z"
    },
    "tags": []
   },
   "outputs": [],
   "source": [
    "# ticids = ['278779899', '139754153', '273418879', '52121469', '188580272', '394015919', '402104884']\n",
    "ticids = ['234295610']\n",
    "\n",
    "\n",
    "# for all the selected targets, pull the available lightcurves using the lightkurve package\n",
    "sectors = [1] # only consider the first few sectors\n",
    "lcs = []\n",
    "for name in ticids:\n",
    "    lc = search_lightcurve(target='TIC'+name, mission='TESS', sector=sectors, author='SPOC')\n",
    "    lc = lc.download_all()[0]\n",
    "    \n",
    "lc.plot()"
   ]
  },
  {
   "cell_type": "markdown",
   "id": "cc06d284-3399-47ef-8518-90d120b148a5",
   "metadata": {},
   "source": [
    "Now, we'd like to inspect the quality flags for those high-flux time stamps. First, we select those regions. Note that we slice the lightcurve using `flux.values`, because otherwise we wouldn't be able to compare the flux array to the unitless `1900` value.\n",
    "\n",
    "Because there's a large time separation between these values (that would be joined by a straight line), let's scatter plot the points."
   ]
  },
  {
   "cell_type": "code",
   "execution_count": 13,
   "id": "5e236f71-d40b-45de-bc59-5b7830757858",
   "metadata": {
    "tags": []
   },
   "outputs": [
    {
     "data": {
      "text/plain": [
       "<AxesSubplot:xlabel='Time - 2457000 [BTJD days]', ylabel='Flux [$\\\\mathrm{e^{-}\\\\,s^{-1}}$]'>"
      ]
     },
     "execution_count": 13,
     "metadata": {},
     "output_type": "execute_result"
    },
    {
     "data": {
      "image/png": "[encoded data removed]",
      "text/plain": [
       "<Figure size 848.5x400 with 1 Axes>"
      ]
     },
     "metadata": {},
     "output_type": "display_data"
    }
   ],
   "source": [
    "lc_check = lc[lc.flux.value>1900]\n",
    "lc_check.scatter()"
   ]
  },
  {
   "cell_type": "markdown",
   "id": "e91eae8a-12d8-4432-ad1f-8bdd3c011aa2",
   "metadata": {},
   "source": [
    "We'll use a code chunk from the [Quality Flags](../../02-quality-flags) notebook below."
   ]
  },
  {
   "cell_type": "code",
   "execution_count": 27,
   "id": "ef0fb7a4-b9e1-4d07-8fd1-5abd91b819c4",
   "metadata": {
    "tags": []
   },
   "outputs": [
    {
     "data": {
      "text/plain": [
       "False"
      ]
     },
     "execution_count": 27,
     "metadata": {},
     "output_type": "execute_result"
    }
   ],
   "source": [
    "quality = lc_check['quality']\n",
    "\n",
    "bad_bits = np.array([1,2,3,4,5,6,8,10,12,13,15])\n",
    "value = 0\n",
    "for v in bad_bits:\n",
    "    value = value + 2**(v-1)\n",
    "    \n",
    "bad_data = np.bitwise_and(quality, value) >= 1 \n",
    "\n",
    "np.any(bad_data)"
   ]
  },
  {
   "cell_type": "markdown",
   "id": "50806278-610a-4434-a287-3a7d7cc4ad80",
   "metadata": {},
   "source": [
    "It seems that none of these high-flux timestamps were flagged by the TESS team as being bad-quality. This lends more credence to the idea that there is a real astrophysical source of the high flux — perhaps flares."
   ]
  },
  {
   "cell_type": "markdown",
   "id": "8032b1ce-da6f-46ad-b5c6-aedb73ac5508",
   "metadata": {},
   "source": [
    "# Exercise 2"
   ]
  },
  {
   "cell_type": "code",
   "execution_count": 30,
   "id": "a6d7d5f7-bcc2-4bb1-a672-4b7819fbf2a2",
   "metadata": {
    "tags": []
   },
   "outputs": [
    {
     "data": {
      "image/png": "[encoded data removed]",
      "text/plain": [
       "<Figure size 848.5x400 with 1 Axes>"
      ]
     },
     "metadata": {},
     "output_type": "display_data"
    }
   ],
   "source": [
    "lc_interval = (lc.time.max() - lc.time.min()).value\n",
    "\n",
    "max_period = lc_interval/2\n",
    "\n",
    "min_period = 1 / 24 / 60 / 60 * 20\n",
    "\n",
    "pg = lc.normalize(unit='ppm').to_periodogram(maximum_period=max_period, minimum_period=min_period)\n",
    "\n",
    "pg.plot(scale='log');"
   ]
  },
  {
   "cell_type": "markdown",
   "id": "e4c42700-bd37-456c-98a0-d0870cc28605",
   "metadata": {},
   "source": [
    "We'd like to investigate whether those peaks are harmonics"
   ]
  },
  {
   "cell_type": "code",
   "execution_count": 31,
   "id": "6bca1f8f-f06a-40e8-9a84-ebe8054b47a8",
   "metadata": {
    "tags": []
   },
   "outputs": [],
   "source": [
    "from scipy.signal import find_peaks"
   ]
  },
  {
   "cell_type": "code",
   "execution_count": 66,
   "id": "8657b362-17f2-46a8-a6fc-d7eca54aaeb6",
   "metadata": {
    "tags": []
   },
   "outputs": [],
   "source": [
    "# peaks = find_peaks(pg.power, distance=2000)[0]\n",
    "peaks = find_peaks(pg.power, height=12500, distance=800)[0]"
   ]
  },
  {
   "cell_type": "code",
   "execution_count": 67,
   "id": "96b3a542-89cf-44a2-b757-cb28eec651e2",
   "metadata": {
    "tags": []
   },
   "outputs": [
    {
     "data": {
      "image/png": "[encoded data removed]",
      "text/plain": [
       "<Figure size 640x480 with 1 Axes>"
      ]
     },
     "metadata": {},
     "output_type": "display_data"
    }
   ],
   "source": [
    "plt.plot(pg.period, pg.power)\n",
    "\n",
    "plt.scatter(pg.period[peaks], pg.power[peaks], color='red', marker='x')\n",
    "plt.xscale('log')"
   ]
  },
  {
   "cell_type": "code",
   "execution_count": 68,
   "id": "4dad93de-153c-4a61-9030-f1000d9a579c",
   "metadata": {
    "tags": []
   },
   "outputs": [
    {
     "data": {
      "text/latex": [
       "$[0.76176521,~0.0013863637,~0.00069381321,~0.00046268261,~0.00034706466,~0.00027767703,~0.00023155227] \\; \\mathrm{d}$"
      ],
      "text/plain": [
       "<Quantity [7.61765205e-01, 1.38636373e-03, 6.93813215e-04, 4.62682613e-04,\n",
       "           3.47064660e-04, 2.77677030e-04, 2.31552268e-04] d>"
      ]
     },
     "execution_count": 68,
     "metadata": {},
     "output_type": "execute_result"
    }
   ],
   "source": [
    "pg.period[peaks]"
   ]
  },
  {
   "cell_type": "code",
   "execution_count": 70,
   "id": "240e77c8-e87f-48e5-aa15-ee7fce767847",
   "metadata": {
    "tags": []
   },
   "outputs": [],
   "source": [
    "first_harmonic = pg.period[peaks][1]"
   ]
  },
  {
   "cell_type": "code",
   "execution_count": 76,
   "id": "2b4188f5-fff6-4348-8afe-45a0e2b783a2",
   "metadata": {
    "tags": []
   },
   "outputs": [],
   "source": [
    "per_ratios = []\n",
    "for per in pg.period[peaks][2:]:\n",
    "    per_ratios += [first_harmonic/per]\n",
    "\n",
    "per_ratios = np.array(per_ratios)\n",
    "        "
   ]
  },
  {
   "cell_type": "code",
   "execution_count": 77,
   "id": "fbd8a6f4-c92d-466b-a1fa-a4ba48205d94",
   "metadata": {
    "tags": []
   },
   "outputs": [
    {
     "data": {
      "text/plain": [
       "array([1.99818006, 2.99636013, 3.99454019, 4.99272026, 5.98726045])"
      ]
     },
     "execution_count": 77,
     "metadata": {},
     "output_type": "execute_result"
    }
   ],
   "source": [
    "per_ratios"
   ]
  },
  {
   "cell_type": "code",
   "execution_count": 91,
   "id": "c4f5a286-e47f-40e8-8aed-94326810bac4",
   "metadata": {
    "tags": []
   },
   "outputs": [
    {
     "data": {
      "text/plain": [
       "Text(0.5, 0, 'Period ratio')"
      ]
     },
     "execution_count": 91,
     "metadata": {},
     "output_type": "execute_result"
    },
    {
     "data": {
      "image/png": "[encoded data removed]",
      "text/plain": [
       "<Figure size 640x480 with 1 Axes>"
      ]
     },
     "metadata": {},
     "output_type": "display_data"
    }
   ],
   "source": [
    "plt.axhline(2, color='gray')\n",
    "plt.axhline(3, color='gray')\n",
    "plt.axhline(4, color='gray')\n",
    "plt.axhline(5, color='gray')\n",
    "plt.axhline(6, color='gray')\n",
    "plt.scatter(np.arange(len(per_ratios)), per_ratios, zorder=100, color='teal')\n",
    "\n",
    "plt.xlabel('Peak number')\n",
    "plt.xlabel('Period ratio')\n"
   ]
  },
  {
   "cell_type": "markdown",
   "id": "b2d733ce-148a-45b4-b636-2cbd684126c4",
   "metadata": {},
   "source": [
    "The period ratios are close to integer values. Looks like harmonics here!"
   ]
  },
  {
   "cell_type": "markdown",
   "id": "0176cc66-7014-461b-8675-7e6d67cdd743",
   "metadata": {},
   "source": [
    "# Exercise 3"
   ]
  },
  {
   "cell_type": "markdown",
   "id": "d6731fa6-bcc9-4313-81da-7283ce5a3fc7",
   "metadata": {
    "tags": []
   },
   "source": [
    "If we change this to just the 1-sigma outliers, the periodicity we're looking for is removed entirely. This is, in short, not good. The implication is that when cleaning our datasets, we should take care to not clean them so much that the signal of interest is removed."
   ]
  },
  {
   "cell_type": "code",
   "execution_count": 93,
   "id": "3f152e81-13ce-4967-96de-ab7e899e3ecb",
   "metadata": {
    "tags": []
   },
   "outputs": [
    {
     "data": {
      "text/plain": [
       "<AxesSubplot:xlabel='Period [$\\\\mathrm{d}$]', ylabel='Power [$\\\\mathrm{ppm}$]'>"
      ]
     },
     "execution_count": 93,
     "metadata": {},
     "output_type": "execute_result"
    },
    {
     "data": {
      "image/png": "[encoded data removed]",
      "text/plain": [
       "<Figure size 848.5x400 with 1 Axes>"
      ]
     },
     "metadata": {},
     "output_type": "display_data"
    }
   ],
   "source": [
    "lc_clipped = lc.remove_outliers(sigma=1)\n",
    "\n",
    "pg_clipped = lc_clipped.normalize(unit='ppm').to_periodogram(maximum_period=max_period, minimum_period=min_period)\n",
    "ax = pg_clipped.plot(scale='log', zorder=1);\n",
    "\n",
    "pg.plot(ax=ax, scale='log')"
   ]
  },
  {
   "cell_type": "markdown",
   "id": "69a02a64-8f1f-48ef-832a-dc343a2ca03f",
   "metadata": {},
   "source": [
    "This makes sense when we take a look at the lightcurve that's been clipped. We've removed way too much of the lightcurve!"
   ]
  },
  {
   "cell_type": "code",
   "execution_count": 94,
   "id": "3124abcc-50ab-4174-8f44-a93a1c3725fb",
   "metadata": {
    "tags": []
   },
   "outputs": [
    {
     "data": {
      "text/plain": [
       "<AxesSubplot:xlabel='Time - 2457000 [BTJD days]', ylabel='Flux [$\\\\mathrm{e^{-}\\\\,s^{-1}}$]'>"
      ]
     },
     "execution_count": 94,
     "metadata": {},
     "output_type": "execute_result"
    },
    {
     "data": {
      "image/png": "[encoded data removed]",
      "text/plain": [
       "<Figure size 848.5x400 with 1 Axes>"
      ]
     },
     "metadata": {},
     "output_type": "display_data"
    }
   ],
   "source": [
    "lc_clipped.plot()"
   ]
  },
  {
   "cell_type": "markdown",
   "id": "4f43814c-10c0-41b8-9c1c-3a5f8af4a0af",
   "metadata": {},
   "source": [
    "# Exercise 4"
   ]
  },
  {
   "cell_type": "code",
   "execution_count": 96,
   "id": "1f4748e0-0876-40b7-a75a-81e165b9e67b",
   "metadata": {
    "tags": []
   },
   "outputs": [
    {
     "name": "stdout",
     "output_type": "stream",
     "text": [
      "Reading in training set files.\n"
     ]
    },
    {
     "name": "stderr",
     "output_type": "stream",
     "text": [
      "100%|██████████| 62/62 [00:00<00:00, 275.60it/s]"
     ]
    },
    {
     "name": "stdout",
     "output_type": "stream",
     "text": [
      "502 positive classes (flare)\n",
      "1342 negative classes (no flare)\n",
      "37.0% class imbalance\n",
      "\n"
     ]
    },
    {
     "name": "stderr",
     "output_type": "stream",
     "text": [
      "\n"
     ]
    }
   ],
   "source": [
    "data_dir = './hellouniverse_stella_500/'\n",
    "filename = 'Guenther_2020_flare_catalog.txt'\n",
    "ds = stella.FlareDataSet(fn_dir=data_dir,\n",
    "                         catalog=data_dir+filename) # using the same catalog as above"
   ]
  },
  {
   "cell_type": "code",
   "execution_count": 97,
   "id": "e42e6995-7fdc-481a-bb07-cfc994100753",
   "metadata": {
    "tags": []
   },
   "outputs": [],
   "source": [
    "# remove lightcurves with NaNs from training, test and validation data\n",
    "def remove_nans(input_data):\n",
    "    '''Determine indices of files without NaNs'''\n",
    "\n",
    "    idx = []\n",
    "    for k in range(np.shape(input_data)[0]):\n",
    "        if len(input_data[k, :, :][np.isnan(input_data[k, :, :])]) == 0:\n",
    "            idx.append(k)\n",
    "    return idx\n",
    "\n",
    "\n",
    "# find indices in train, test and validation sets without NaNs\n",
    "idx_train = remove_nans(ds.train_data)\n",
    "idx_test = remove_nans(ds.test_data)\n",
    "idx_val = remove_nans(ds.val_data)\n",
    "\n",
    "ds.train_data = ds.train_data[idx_train]\n",
    "ds.train_labels = ds.train_labels[idx_train]\n",
    "\n",
    "ds.test_data = ds.test_data[idx_test]\n",
    "ds.test_labels = ds.test_labels[idx_test]\n",
    "\n",
    "ds.val_data = ds.val_data[idx_val]\n",
    "ds.val_labels = ds.val_labels[idx_val]\n"
   ]
  },
  {
   "cell_type": "code",
   "execution_count": 98,
   "id": "758da234-746c-4ac1-86bf-42d3922a58b7",
   "metadata": {
    "tags": []
   },
   "outputs": [],
   "source": [
    "# first, we load the mode.\n",
    "cnn_file = 'initial_flare_model_small_dataset.h5' #AS: ask about where the files are from previous notebooks!\n",
    "model = keras.models.load_model(cnn_file)"
   ]
  },
  {
   "cell_type": "code",
   "execution_count": 99,
   "id": "572229fd-50e3-4da6-b345-531f84cd7d27",
   "metadata": {
    "tags": []
   },
   "outputs": [],
   "source": [
    "# set up the ConvNN object.\n",
    "cnn_stella = stella.ConvNN(output_dir=data_dir, ds=ds)"
   ]
  },
  {
   "cell_type": "code",
   "execution_count": 100,
   "id": "80858f7f-9d22-4a6d-8518-9933fd059aed",
   "metadata": {
    "tags": []
   },
   "outputs": [
    {
     "name": "stderr",
     "output_type": "stream",
     "text": [
      "  0%|          | 0/1 [00:00<?, ?it/s]"
     ]
    },
    {
     "name": "stdout",
     "output_type": "stream",
     "text": [
      "572/572 [==============================] - 3s 4ms/step\n"
     ]
    },
    {
     "name": "stderr",
     "output_type": "stream",
     "text": [
      "100%|██████████| 1/1 [00:05<00:00,  5.02s/it]\n"
     ]
    }
   ],
   "source": [
    "cnn_stella.predict(cnn_file, times=lc.time.value, fluxes=lc.flux, errs=lc.flux_err)"
   ]
  },
  {
   "cell_type": "code",
   "execution_count": 102,
   "id": "59050fed-6e66-4b18-acd0-b84a47eda9ba",
   "metadata": {
    "tags": []
   },
   "outputs": [
    {
     "data": {
      "image/png": "[encoded data removed]",
      "text/plain": [
       "<Figure size 640x480 with 2 Axes>"
      ]
     },
     "metadata": {},
     "output_type": "display_data"
    }
   ],
   "source": [
    "# cnn_stella.predict_flux[0]\n",
    "fig, ax= plt.subplots()\n",
    "im  = ax.scatter(cnn_stella.predict_time[0], cnn_stella.predict_flux[0], c=cnn_stella.predictions[0], s=1. )\n",
    "plt.xlabel('Time (d)')\n",
    "plt.ylabel('Flux (normalized)')\n",
    "plt.colorbar(im, label='Flare probability')\n",
    "plt.xlim(lc.time.min().value, 1336)\n",
    "plt.show()\n"
   ]
  },
  {
   "cell_type": "markdown",
   "id": "1ebda9a8-9f06-4d8f-81fc-ef011fee4fe4",
   "metadata": {},
   "source": [
    "Now, we'd like to count the number of distinct flares. Let's count a transition into and out of hgih flare probability (greater than a rating of 0.5 by the classifier) as a flare."
   ]
  },
  {
   "cell_type": "code",
   "execution_count": 107,
   "id": "9e28e0b0-eeac-4085-83ff-1a14de8ac360",
   "metadata": {
    "tags": []
   },
   "outputs": [],
   "source": [
    "ff = stella.FitFlares(id=[lc.targetid],\n",
    "                      time=[lc.time.value],\n",
    "                      flux=[lc.flux.value],\n",
    "                      flux_err=[lc.flux_err.value],\n",
    "                      predictions=[cnn_stella.predictions[0]])"
   ]
  },
  {
   "cell_type": "code",
   "execution_count": 108,
   "id": "e4f0e7ad-149a-41c2-b1e9-7009ea435c55",
   "metadata": {
    "tags": []
   },
   "outputs": [
    {
     "data": {
      "text/plain": [
       "<stella.mark_flares.FitFlares at 0x7f7b30181df0>"
      ]
     },
     "execution_count": 108,
     "metadata": {},
     "output_type": "execute_result"
    }
   ],
   "source": [
    "ff"
   ]
  },
  {
   "cell_type": "code",
   "execution_count": 110,
   "id": "dc9dd956-7a4e-4bbc-9522-b9e48ca00bd1",
   "metadata": {
    "tags": []
   },
   "outputs": [
    {
     "name": "stderr",
     "output_type": "stream",
     "text": [
      "Finding & Fitting Flares:   0%|          | 0/1 [00:00<?, ?it/s]/opt/conda/envs/tess/lib/python3.8/site-packages/stella/mark_flares.py:92: VisibleDeprecationWarning: Creating an ndarray from ragged nested sequences (which is a list-or-tuple of lists-or-tuples-or ndarrays with different lengths or shapes) is deprecated. If you meant to do this, you must specify 'dtype=object' when creating the ndarray.\n",
      "  return np.array(results)\n",
      "Finding & Fitting Flares: 100%|██████████| 1/1 [00:00<00:00,  1.51it/s]\n"
     ]
    },
    {
     "data": {
      "text/html": [
       "<div><i>Table length=5</i>\n",
       "<table id=\"table140167105385376\" class=\"table-striped table-bordered table-condensed\">\n",
       "<thead><tr><th>Target_ID</th><th>tpeak</th><th>amp</th><th>ed_s</th><th>rise</th><th>fall</th><th>prob</th></tr></thead>\n",
       "<thead><tr><th>float64</th><th>float64</th><th>float64</th><th>float64</th><th>float64</th><th>float64</th><th>float64</th></tr></thead>\n",
       "<tr><td>234295610.0</td><td>1336.5337294934927</td><td>1.0164458841762698</td><td>15.733979526711776</td><td>0.0001</td><td>0.01</td><td>0.7433666586875916</td></tr>\n",
       "<tr><td>234295610.0</td><td>1336.6670634792652</td><td>1.030084465920081</td><td>77.18607677976796</td><td>0.01</td><td>0.01</td><td>0.503517746925354</td></tr>\n",
       "<tr><td>234295610.0</td><td>1340.3767937687605</td><td>1.0188266236793928</td><td>19.615063032310957</td><td>0.0001</td><td>0.01</td><td>0.846248209476471</td></tr>\n",
       "<tr><td>234295610.0</td><td>1341.9031816217816</td><td>1.0166045607867409</td><td>17.27435594647144</td><td>0.0001</td><td>0.01</td><td>0.5975300669670105</td></tr>\n",
       "<tr><td>234295610.0</td><td>1344.9628970090544</td><td>1.0205275288684985</td><td>22.32319766900919</td><td>0.0001</td><td>0.01</td><td>0.715408205986023</td></tr>\n",
       "</table></div>"
      ],
      "text/plain": [
       "<Table length=5>\n",
       " Target_ID        tpeak               amp         ...   fall         prob       \n",
       "  float64        float64            float64       ... float64      float64      \n",
       "----------- ------------------ ------------------ ... ------- ------------------\n",
       "234295610.0 1336.5337294934927 1.0164458841762698 ...    0.01 0.7433666586875916\n",
       "234295610.0 1336.6670634792652  1.030084465920081 ...    0.01  0.503517746925354\n",
       "234295610.0 1340.3767937687605 1.0188266236793928 ...    0.01  0.846248209476471\n",
       "234295610.0 1341.9031816217816 1.0166045607867409 ...    0.01 0.5975300669670105\n",
       "234295610.0 1344.9628970090544 1.0205275288684985 ...    0.01  0.715408205986023"
      ]
     },
     "execution_count": 110,
     "metadata": {},
     "output_type": "execute_result"
    }
   ],
   "source": [
    "ff.identify_flare_peaks(threshold=0.5)\n",
    "ff.flare_table"
   ]
  },
  {
   "cell_type": "markdown",
   "id": "d8738b09-6c52-4ed8-bc0d-cee5eaebce61",
   "metadata": {},
   "source": [
    "These tell us a little more here! right now we're just going to count the flare rate in number of flares per day."
   ]
  },
  {
   "cell_type": "code",
   "execution_count": 111,
   "id": "f8204caf-bb0d-4c3a-aadc-512e75d164ba",
   "metadata": {
    "tags": []
   },
   "outputs": [],
   "source": [
    "def calc_flare_rate(name):\n",
    "    sectors = [1, 2] # only consider the first few sectors\n",
    "    lcs = []\n",
    "    # for name in ticids:\n",
    "    lc = search_lightcurve(target='TIC'+name, mission='TESS', sector=sectors, author='SPOC')\n",
    "    lc = lc.download_all()[0]\n",
    "    \n",
    "    cnn_stella.predict(cnn_file, times=lc.time.value, fluxes=lc.flux, errs=lc.flux_err)\n",
    "    \n",
    "    ff = stella.FitFlares(id=[lc.targetid],\n",
    "                      time=[lc.time.value],\n",
    "                      flux=[lc.flux.value],\n",
    "                      flux_err=[lc.flux_err.value],\n",
    "                      predictions=[cnn_stella.predictions[0]])\n",
    "    \n",
    "    ff.identify_flare_peaks(threshold=0.5)\n",
    "    flare_rate = len(ff.flare_table) / (lc.time.value.max() - lc.time.value.min())    \n",
    "    return flare_rate"
   ]
  },
  {
   "cell_type": "markdown",
   "id": "3594636a-532c-498b-b7ac-954035997532",
   "metadata": {},
   "source": [
    "Let's recalculate those rotation and flare rates."
   ]
  },
  {
   "cell_type": "code",
   "execution_count": 130,
   "id": "bcab9d4a-00fb-459a-8de6-e1fa7741346c",
   "metadata": {
    "tags": []
   },
   "outputs": [],
   "source": [
    "\n",
    "G = const.G\n",
    "M = 1 * u.M_sun\n",
    "R = 1 * u.R_sun\n",
    "vc = (G * M / R)**.5\n",
    "\n",
    "P = 2 * np.pi * R  / vc\n",
    "\n",
    "min_period = P.to(u.day).value/100"
   ]
  },
  {
   "cell_type": "code",
   "execution_count": 131,
   "id": "168e31bd-f89c-4cec-9d8f-33b9455522a0",
   "metadata": {
    "tags": []
   },
   "outputs": [
    {
     "name": "stderr",
     "output_type": "stream",
     "text": [
      "  0%|          | 0/44 [00:00<?, ?it/s]/opt/conda/envs/tess/lib/python3.8/site-packages/astropy/units/quantity.py:673: RuntimeWarning: invalid value encountered in sqrt\n",
      "  result = super().__array_ufunc__(function, method, *arrays, **kwargs)\n",
      "  2%|▏         | 1/44 [00:00<00:16,  2.54it/s]/opt/conda/envs/tess/lib/python3.8/site-packages/astropy/units/quantity.py:673: RuntimeWarning: invalid value encountered in sqrt\n",
      "  result = super().__array_ufunc__(function, method, *arrays, **kwargs)\n",
      "  7%|▋         | 3/44 [00:01<00:20,  2.03it/s]/opt/conda/envs/tess/lib/python3.8/site-packages/astropy/units/quantity.py:673: RuntimeWarning: invalid value encountered in sqrt\n",
      "  result = super().__array_ufunc__(function, method, *arrays, **kwargs)\n",
      "  9%|▉         | 4/44 [00:02<00:22,  1.81it/s]/opt/conda/envs/tess/lib/python3.8/site-packages/astropy/units/quantity.py:673: RuntimeWarning: invalid value encountered in sqrt\n",
      "  result = super().__array_ufunc__(function, method, *arrays, **kwargs)\n",
      " 11%|█▏        | 5/44 [00:02<00:23,  1.70it/s]/opt/conda/envs/tess/lib/python3.8/site-packages/astropy/units/quantity.py:673: RuntimeWarning: invalid value encountered in sqrt\n",
      "  result = super().__array_ufunc__(function, method, *arrays, **kwargs)\n",
      " 18%|█▊        | 8/44 [00:04<00:18,  1.90it/s]/opt/conda/envs/tess/lib/python3.8/site-packages/astropy/units/quantity.py:673: RuntimeWarning: invalid value encountered in sqrt\n",
      "  result = super().__array_ufunc__(function, method, *arrays, **kwargs)\n",
      " 23%|██▎       | 10/44 [00:05<00:17,  1.94it/s]/opt/conda/envs/tess/lib/python3.8/site-packages/astropy/units/quantity.py:673: RuntimeWarning: invalid value encountered in sqrt\n",
      "  result = super().__array_ufunc__(function, method, *arrays, **kwargs)\n",
      " 25%|██▌       | 11/44 [00:05<00:17,  1.84it/s]/opt/conda/envs/tess/lib/python3.8/site-packages/astropy/units/quantity.py:673: RuntimeWarning: invalid value encountered in sqrt\n",
      "  result = super().__array_ufunc__(function, method, *arrays, **kwargs)\n",
      " 27%|██▋       | 12/44 [00:06<00:18,  1.73it/s]/opt/conda/envs/tess/lib/python3.8/site-packages/astropy/units/quantity.py:673: RuntimeWarning: invalid value encountered in sqrt\n",
      "  result = super().__array_ufunc__(function, method, *arrays, **kwargs)\n",
      " 30%|██▉       | 13/44 [00:07<00:18,  1.65it/s]/opt/conda/envs/tess/lib/python3.8/site-packages/astropy/units/quantity.py:673: RuntimeWarning: invalid value encountered in sqrt\n",
      "  result = super().__array_ufunc__(function, method, *arrays, **kwargs)\n",
      " 32%|███▏      | 14/44 [00:07<00:17,  1.72it/s]/opt/conda/envs/tess/lib/python3.8/site-packages/astropy/units/quantity.py:673: RuntimeWarning: invalid value encountered in sqrt\n",
      "  result = super().__array_ufunc__(function, method, *arrays, **kwargs)\n",
      " 34%|███▍      | 15/44 [00:08<00:17,  1.67it/s]/opt/conda/envs/tess/lib/python3.8/site-packages/astropy/units/quantity.py:673: RuntimeWarning: invalid value encountered in sqrt\n",
      "  result = super().__array_ufunc__(function, method, *arrays, **kwargs)\n",
      " 39%|███▊      | 17/44 [00:09<00:15,  1.76it/s]/opt/conda/envs/tess/lib/python3.8/site-packages/astropy/units/quantity.py:673: RuntimeWarning: invalid value encountered in sqrt\n",
      "  result = super().__array_ufunc__(function, method, *arrays, **kwargs)\n",
      " 41%|████      | 18/44 [00:10<00:14,  1.78it/s]/opt/conda/envs/tess/lib/python3.8/site-packages/astropy/units/quantity.py:673: RuntimeWarning: invalid value encountered in sqrt\n",
      "  result = super().__array_ufunc__(function, method, *arrays, **kwargs)\n",
      " 43%|████▎     | 19/44 [00:10<00:15,  1.62it/s]/opt/conda/envs/tess/lib/python3.8/site-packages/astropy/units/quantity.py:673: RuntimeWarning: invalid value encountered in sqrt\n",
      "  result = super().__array_ufunc__(function, method, *arrays, **kwargs)\n",
      " 45%|████▌     | 20/44 [00:11<00:14,  1.66it/s]/opt/conda/envs/tess/lib/python3.8/site-packages/astropy/units/quantity.py:673: RuntimeWarning: invalid value encountered in sqrt\n",
      "  result = super().__array_ufunc__(function, method, *arrays, **kwargs)\n",
      " 48%|████▊     | 21/44 [00:11<00:13,  1.71it/s]/opt/conda/envs/tess/lib/python3.8/site-packages/astropy/units/quantity.py:673: RuntimeWarning: invalid value encountered in sqrt\n",
      "  result = super().__array_ufunc__(function, method, *arrays, **kwargs)\n",
      " 52%|█████▏    | 23/44 [00:13<00:11,  1.75it/s]/opt/conda/envs/tess/lib/python3.8/site-packages/astropy/units/quantity.py:673: RuntimeWarning: invalid value encountered in sqrt\n",
      "  result = super().__array_ufunc__(function, method, *arrays, **kwargs)\n",
      " 55%|█████▍    | 24/44 [00:13<00:11,  1.67it/s]/opt/conda/envs/tess/lib/python3.8/site-packages/astropy/units/quantity.py:673: RuntimeWarning: invalid value encountered in sqrt\n",
      "  result = super().__array_ufunc__(function, method, *arrays, **kwargs)\n",
      " 57%|█████▋    | 25/44 [00:14<00:11,  1.65it/s]/opt/conda/envs/tess/lib/python3.8/site-packages/astropy/units/quantity.py:673: RuntimeWarning: invalid value encountered in sqrt\n",
      "  result = super().__array_ufunc__(function, method, *arrays, **kwargs)\n",
      " 59%|█████▉    | 26/44 [00:14<00:11,  1.62it/s]/opt/conda/envs/tess/lib/python3.8/site-packages/astropy/units/quantity.py:673: RuntimeWarning: invalid value encountered in sqrt\n",
      "  result = super().__array_ufunc__(function, method, *arrays, **kwargs)\n",
      " 61%|██████▏   | 27/44 [00:15<00:10,  1.58it/s]/opt/conda/envs/tess/lib/python3.8/site-packages/astropy/units/quantity.py:673: RuntimeWarning: invalid value encountered in sqrt\n",
      "  result = super().__array_ufunc__(function, method, *arrays, **kwargs)\n",
      " 64%|██████▎   | 28/44 [00:16<00:10,  1.57it/s]/opt/conda/envs/tess/lib/python3.8/site-packages/astropy/units/quantity.py:673: RuntimeWarning: invalid value encountered in sqrt\n",
      "  result = super().__array_ufunc__(function, method, *arrays, **kwargs)\n",
      " 66%|██████▌   | 29/44 [00:16<00:09,  1.56it/s]/opt/conda/envs/tess/lib/python3.8/site-packages/astropy/units/quantity.py:673: RuntimeWarning: invalid value encountered in sqrt\n",
      "  result = super().__array_ufunc__(function, method, *arrays, **kwargs)\n",
      " 68%|██████▊   | 30/44 [00:17<00:08,  1.68it/s]/opt/conda/envs/tess/lib/python3.8/site-packages/astropy/units/quantity.py:673: RuntimeWarning: invalid value encountered in sqrt\n",
      "  result = super().__array_ufunc__(function, method, *arrays, **kwargs)\n",
      " 70%|███████   | 31/44 [00:17<00:07,  1.83it/s]/opt/conda/envs/tess/lib/python3.8/site-packages/astropy/units/quantity.py:673: RuntimeWarning: invalid value encountered in sqrt\n",
      "  result = super().__array_ufunc__(function, method, *arrays, **kwargs)\n",
      " 73%|███████▎  | 32/44 [00:18<00:06,  1.73it/s]/opt/conda/envs/tess/lib/python3.8/site-packages/astropy/units/quantity.py:673: RuntimeWarning: invalid value encountered in sqrt\n",
      "  result = super().__array_ufunc__(function, method, *arrays, **kwargs)\n",
      " 75%|███████▌  | 33/44 [00:19<00:06,  1.62it/s]/opt/conda/envs/tess/lib/python3.8/site-packages/astropy/units/quantity.py:673: RuntimeWarning: invalid value encountered in sqrt\n",
      "  result = super().__array_ufunc__(function, method, *arrays, **kwargs)\n",
      " 77%|███████▋  | 34/44 [00:19<00:06,  1.65it/s]/opt/conda/envs/tess/lib/python3.8/site-packages/astropy/units/quantity.py:673: RuntimeWarning: invalid value encountered in sqrt\n",
      "  result = super().__array_ufunc__(function, method, *arrays, **kwargs)\n",
      " 80%|███████▉  | 35/44 [00:20<00:05,  1.74it/s]/opt/conda/envs/tess/lib/python3.8/site-packages/astropy/units/quantity.py:673: RuntimeWarning: invalid value encountered in sqrt\n",
      "  result = super().__array_ufunc__(function, method, *arrays, **kwargs)\n",
      " 82%|████████▏ | 36/44 [00:20<00:04,  1.77it/s]/opt/conda/envs/tess/lib/python3.8/site-packages/astropy/units/quantity.py:673: RuntimeWarning: invalid value encountered in sqrt\n",
      "  result = super().__array_ufunc__(function, method, *arrays, **kwargs)\n",
      " 84%|████████▍ | 37/44 [00:21<00:04,  1.55it/s]/opt/conda/envs/tess/lib/python3.8/site-packages/astropy/units/quantity.py:673: RuntimeWarning: invalid value encountered in sqrt\n",
      "  result = super().__array_ufunc__(function, method, *arrays, **kwargs)\n",
      " 86%|████████▋ | 38/44 [00:22<00:03,  1.64it/s]/opt/conda/envs/tess/lib/python3.8/site-packages/astropy/units/quantity.py:673: RuntimeWarning: invalid value encountered in sqrt\n",
      "  result = super().__array_ufunc__(function, method, *arrays, **kwargs)\n",
      " 91%|█████████ | 40/44 [00:23<00:02,  1.53it/s]/opt/conda/envs/tess/lib/python3.8/site-packages/astropy/units/quantity.py:673: RuntimeWarning: invalid value encountered in sqrt\n",
      "  result = super().__array_ufunc__(function, method, *arrays, **kwargs)\n",
      " 93%|█████████▎| 41/44 [00:24<00:01,  1.64it/s]/opt/conda/envs/tess/lib/python3.8/site-packages/astropy/units/quantity.py:673: RuntimeWarning: invalid value encountered in sqrt\n",
      "  result = super().__array_ufunc__(function, method, *arrays, **kwargs)\n",
      " 98%|█████████▊| 43/44 [00:25<00:00,  1.82it/s]/opt/conda/envs/tess/lib/python3.8/site-packages/astropy/units/quantity.py:673: RuntimeWarning: invalid value encountered in sqrt\n",
      "  result = super().__array_ufunc__(function, method, *arrays, **kwargs)\n",
      "100%|██████████| 44/44 [00:25<00:00,  1.70it/s]\n"
     ]
    }
   ],
   "source": [
    "def calc_rotation_rate(name):\n",
    "    \"\"\"\n",
    "    Calculates the roation period of a star, assuming that rotation is the primary driver of the star's periodicity. \n",
    "    \n",
    "    Inputs\n",
    "    ------\n",
    "        :name: name of star (str)\n",
    "        \n",
    "    Outputs\n",
    "    -------\n",
    "        :period_at_max_power: the dominant period in the light curve. [float]\n",
    "    \"\"\"\n",
    "    \n",
    "    \n",
    "    # for all the selected targets, pull the available lightcurves using the lightkurve package\n",
    "    sectors = [1, 2] # only consider the first few sectors\n",
    "    lcs = []\n",
    "    # for name in ticids:\n",
    "    lc = search_lightcurve(target='TIC'+name, mission='TESS', sector=sectors, author='SPOC')\n",
    "    lc = lc.download_all()[0]\n",
    "    \n",
    "    pg = lc.normalize(unit='ppm').to_periodogram(maximum_period=max_period, minimum_period=min_period)\n",
    "    \n",
    "    return pg.period_at_max_power\n",
    "\n",
    "\n",
    "filename = 'Guenther_2020_flare_catalog.txt'\n",
    "\n",
    "catalog = astropy.io.ascii.read(data_dir + filename)  \n",
    "stars = catalog['TIC'].data\n",
    "\n",
    "\n",
    "\n",
    "\n",
    "rot_rates = []\n",
    "\n",
    "# iterate though stars\n",
    "for star in tqdm(stars[::200]):\n",
    "    star_name = str(star) # the rotation rate function takes strings\n",
    "    \n",
    "    rot_rate = calc_rotation_rate(star_name)\n",
    "    \n",
    "    # store result of rotation rate calculation\n",
    "    rot_rates += [rot_rate]"
   ]
  },
  {
   "cell_type": "code",
   "execution_count": 119,
   "id": "23adb2c5-2bbf-4491-9461-714321a09340",
   "metadata": {
    "tags": []
   },
   "outputs": [
    {
     "name": "stderr",
     "output_type": "stream",
     "text": [
      "  0%|          | 0/1 [00:00<?, ?it/s]"
     ]
    },
    {
     "name": "stdout",
     "output_type": "stream",
     "text": [
      "572/572 [==============================] - 3s 4ms/step\n"
     ]
    },
    {
     "name": "stderr",
     "output_type": "stream",
     "text": [
      "100%|██████████| 1/1 [00:04<00:00,  4.94s/it]\n",
      "Finding & Fitting Flares:   0%|          | 0/1 [00:00<?, ?it/s]/opt/conda/envs/tess/lib/python3.8/site-packages/stella/mark_flares.py:92: VisibleDeprecationWarning: Creating an ndarray from ragged nested sequences (which is a list-or-tuple of lists-or-tuples-or ndarrays with different lengths or shapes) is deprecated. If you meant to do this, you must specify 'dtype=object' when creating the ndarray.\n",
      "  return np.array(results)\n",
      "Finding & Fitting Flares: 100%|██████████| 1/1 [00:00<00:00, 10.67it/s]\n",
      "  0%|          | 0/1 [00:00<?, ?it/s]"
     ]
    },
    {
     "name": "stdout",
     "output_type": "stream",
     "text": [
      "572/572 [==============================] - 2s 4ms/step\n"
     ]
    },
    {
     "name": "stderr",
     "output_type": "stream",
     "text": [
      "100%|██████████| 1/1 [00:04<00:00,  4.79s/it]\n",
      "Finding & Fitting Flares:   0%|          | 0/1 [00:00<?, ?it/s]/opt/conda/envs/tess/lib/python3.8/site-packages/stella/mark_flares.py:92: VisibleDeprecationWarning: Creating an ndarray from ragged nested sequences (which is a list-or-tuple of lists-or-tuples-or ndarrays with different lengths or shapes) is deprecated. If you meant to do this, you must specify 'dtype=object' when creating the ndarray.\n",
      "  return np.array(results)\n",
      "Finding & Fitting Flares: 100%|██████████| 1/1 [00:00<00:00,  1.69it/s]\n",
      "  0%|          | 0/1 [00:00<?, ?it/s]"
     ]
    },
    {
     "name": "stdout",
     "output_type": "stream",
     "text": [
      "570/570 [==============================] - 3s 5ms/step\n"
     ]
    },
    {
     "name": "stderr",
     "output_type": "stream",
     "text": [
      "100%|██████████| 1/1 [00:04<00:00,  4.94s/it]\n",
      "Finding & Fitting Flares:   0%|          | 0/1 [00:00<?, ?it/s]/opt/conda/envs/tess/lib/python3.8/site-packages/stella/mark_flares.py:92: VisibleDeprecationWarning: Creating an ndarray from ragged nested sequences (which is a list-or-tuple of lists-or-tuples-or ndarrays with different lengths or shapes) is deprecated. If you meant to do this, you must specify 'dtype=object' when creating the ndarray.\n",
      "  return np.array(results)\n",
      "Finding & Fitting Flares: 100%|██████████| 1/1 [00:00<00:00, 12.21it/s]\n",
      "  0%|          | 0/1 [00:00<?, ?it/s]"
     ]
    },
    {
     "name": "stdout",
     "output_type": "stream",
     "text": [
      "572/572 [==============================] - 3s 4ms/step\n"
     ]
    },
    {
     "name": "stderr",
     "output_type": "stream",
     "text": [
      "100%|██████████| 1/1 [00:04<00:00,  4.89s/it]\n",
      "Finding & Fitting Flares:   0%|          | 0/1 [00:00<?, ?it/s]/opt/conda/envs/tess/lib/python3.8/site-packages/stella/mark_flares.py:92: VisibleDeprecationWarning: Creating an ndarray from ragged nested sequences (which is a list-or-tuple of lists-or-tuples-or ndarrays with different lengths or shapes) is deprecated. If you meant to do this, you must specify 'dtype=object' when creating the ndarray.\n",
      "  return np.array(results)\n",
      "Finding & Fitting Flares: 100%|██████████| 1/1 [00:00<00:00,  3.97it/s]\n",
      "  0%|          | 0/1 [00:00<?, ?it/s]"
     ]
    },
    {
     "name": "stdout",
     "output_type": "stream",
     "text": [
      "572/572 [==============================] - 3s 4ms/step\n"
     ]
    },
    {
     "name": "stderr",
     "output_type": "stream",
     "text": [
      "100%|██████████| 1/1 [00:04<00:00,  4.54s/it]\n",
      "Finding & Fitting Flares:   0%|          | 0/1 [00:00<?, ?it/s]/opt/conda/envs/tess/lib/python3.8/site-packages/stella/mark_flares.py:92: VisibleDeprecationWarning: Creating an ndarray from ragged nested sequences (which is a list-or-tuple of lists-or-tuples-or ndarrays with different lengths or shapes) is deprecated. If you meant to do this, you must specify 'dtype=object' when creating the ndarray.\n",
      "  return np.array(results)\n",
      "Finding & Fitting Flares: 100%|██████████| 1/1 [00:00<00:00, 62.77it/s]\n",
      "  0%|          | 0/1 [00:00<?, ?it/s]"
     ]
    },
    {
     "name": "stdout",
     "output_type": "stream",
     "text": [
      "572/572 [==============================] - 2s 4ms/step\n"
     ]
    },
    {
     "name": "stderr",
     "output_type": "stream",
     "text": [
      "100%|██████████| 1/1 [00:04<00:00,  4.93s/it]\n",
      "Finding & Fitting Flares:   0%|          | 0/1 [00:00<?, ?it/s]/opt/conda/envs/tess/lib/python3.8/site-packages/stella/mark_flares.py:92: VisibleDeprecationWarning: Creating an ndarray from ragged nested sequences (which is a list-or-tuple of lists-or-tuples-or ndarrays with different lengths or shapes) is deprecated. If you meant to do this, you must specify 'dtype=object' when creating the ndarray.\n",
      "  return np.array(results)\n",
      "Finding & Fitting Flares: 100%|██████████| 1/1 [00:00<00:00, 10.79it/s]\n",
      "  0%|          | 0/1 [00:00<?, ?it/s]"
     ]
    },
    {
     "name": "stdout",
     "output_type": "stream",
     "text": [
      "572/572 [==============================] - 3s 4ms/step\n"
     ]
    },
    {
     "name": "stderr",
     "output_type": "stream",
     "text": [
      "100%|██████████| 1/1 [00:04<00:00,  4.94s/it]\n",
      "Finding & Fitting Flares:   0%|          | 0/1 [00:00<?, ?it/s]/opt/conda/envs/tess/lib/python3.8/site-packages/stella/mark_flares.py:92: VisibleDeprecationWarning: Creating an ndarray from ragged nested sequences (which is a list-or-tuple of lists-or-tuples-or ndarrays with different lengths or shapes) is deprecated. If you meant to do this, you must specify 'dtype=object' when creating the ndarray.\n",
      "  return np.array(results)\n",
      "Finding & Fitting Flares: 100%|██████████| 1/1 [00:02<00:00,  2.01s/it]\n",
      "  0%|          | 0/1 [00:00<?, ?it/s]"
     ]
    },
    {
     "name": "stdout",
     "output_type": "stream",
     "text": [
      "569/569 [==============================] - 3s 5ms/step\n"
     ]
    },
    {
     "name": "stderr",
     "output_type": "stream",
     "text": [
      "100%|██████████| 1/1 [00:04<00:00,  4.80s/it]\n",
      "Finding & Fitting Flares:   0%|          | 0/1 [00:00<?, ?it/s]/opt/conda/envs/tess/lib/python3.8/site-packages/stella/mark_flares.py:92: VisibleDeprecationWarning: Creating an ndarray from ragged nested sequences (which is a list-or-tuple of lists-or-tuples-or ndarrays with different lengths or shapes) is deprecated. If you meant to do this, you must specify 'dtype=object' when creating the ndarray.\n",
      "  return np.array(results)\n",
      "Finding & Fitting Flares: 100%|██████████| 1/1 [00:00<00:00, 13.70it/s]\n",
      "  0%|          | 0/1 [00:00<?, ?it/s]"
     ]
    },
    {
     "name": "stdout",
     "output_type": "stream",
     "text": [
      "572/572 [==============================] - 3s 5ms/step\n"
     ]
    },
    {
     "name": "stderr",
     "output_type": "stream",
     "text": [
      "100%|██████████| 1/1 [00:05<00:00,  5.33s/it]\n",
      "Finding & Fitting Flares:   0%|          | 0/1 [00:00<?, ?it/s]/opt/conda/envs/tess/lib/python3.8/site-packages/stella/mark_flares.py:92: VisibleDeprecationWarning: Creating an ndarray from ragged nested sequences (which is a list-or-tuple of lists-or-tuples-or ndarrays with different lengths or shapes) is deprecated. If you meant to do this, you must specify 'dtype=object' when creating the ndarray.\n",
      "  return np.array(results)\n",
      "Finding & Fitting Flares: 100%|██████████| 1/1 [00:00<00:00, 11.40it/s]\n",
      "  0%|          | 0/1 [00:00<?, ?it/s]"
     ]
    },
    {
     "name": "stdout",
     "output_type": "stream",
     "text": [
      "572/572 [==============================] - 3s 5ms/step\n"
     ]
    },
    {
     "name": "stderr",
     "output_type": "stream",
     "text": [
      "100%|██████████| 1/1 [00:05<00:00,  5.80s/it]\n",
      "Finding & Fitting Flares:   0%|          | 0/1 [00:00<?, ?it/s]/opt/conda/envs/tess/lib/python3.8/site-packages/stella/mark_flares.py:92: VisibleDeprecationWarning: Creating an ndarray from ragged nested sequences (which is a list-or-tuple of lists-or-tuples-or ndarrays with different lengths or shapes) is deprecated. If you meant to do this, you must specify 'dtype=object' when creating the ndarray.\n",
      "  return np.array(results)\n",
      "Finding & Fitting Flares: 100%|██████████| 1/1 [00:00<00:00,  8.78it/s]\n",
      "  0%|          | 0/1 [00:00<?, ?it/s]"
     ]
    },
    {
     "name": "stdout",
     "output_type": "stream",
     "text": [
      "572/572 [==============================] - 3s 5ms/step\n"
     ]
    },
    {
     "name": "stderr",
     "output_type": "stream",
     "text": [
      "100%|██████████| 1/1 [00:04<00:00,  4.83s/it]\n",
      "Finding & Fitting Flares:   0%|          | 0/1 [00:00<?, ?it/s]/opt/conda/envs/tess/lib/python3.8/site-packages/stella/mark_flares.py:92: VisibleDeprecationWarning: Creating an ndarray from ragged nested sequences (which is a list-or-tuple of lists-or-tuples-or ndarrays with different lengths or shapes) is deprecated. If you meant to do this, you must specify 'dtype=object' when creating the ndarray.\n",
      "  return np.array(results)\n",
      "Finding & Fitting Flares: 100%|██████████| 1/1 [00:00<00:00,  7.07it/s]\n",
      "  0%|          | 0/1 [00:00<?, ?it/s]"
     ]
    },
    {
     "name": "stdout",
     "output_type": "stream",
     "text": [
      "572/572 [==============================] - 3s 5ms/step\n"
     ]
    },
    {
     "name": "stderr",
     "output_type": "stream",
     "text": [
      "100%|██████████| 1/1 [00:04<00:00,  4.89s/it]\n",
      "Finding & Fitting Flares:   0%|          | 0/1 [00:00<?, ?it/s]/opt/conda/envs/tess/lib/python3.8/site-packages/stella/mark_flares.py:92: VisibleDeprecationWarning: Creating an ndarray from ragged nested sequences (which is a list-or-tuple of lists-or-tuples-or ndarrays with different lengths or shapes) is deprecated. If you meant to do this, you must specify 'dtype=object' when creating the ndarray.\n",
      "  return np.array(results)\n",
      "Finding & Fitting Flares: 100%|██████████| 1/1 [00:00<00:00,  1.74it/s]\n",
      "  0%|          | 0/1 [00:00<?, ?it/s]"
     ]
    },
    {
     "name": "stdout",
     "output_type": "stream",
     "text": [
      "572/572 [==============================] - 3s 5ms/step\n"
     ]
    },
    {
     "name": "stderr",
     "output_type": "stream",
     "text": [
      "100%|██████████| 1/1 [00:05<00:00,  5.02s/it]\n",
      "Finding & Fitting Flares:   0%|          | 0/1 [00:00<?, ?it/s]/opt/conda/envs/tess/lib/python3.8/site-packages/stella/mark_flares.py:92: VisibleDeprecationWarning: Creating an ndarray from ragged nested sequences (which is a list-or-tuple of lists-or-tuples-or ndarrays with different lengths or shapes) is deprecated. If you meant to do this, you must specify 'dtype=object' when creating the ndarray.\n",
      "  return np.array(results)\n",
      "Finding & Fitting Flares: 100%|██████████| 1/1 [00:00<00:00,  4.22it/s]\n",
      "  0%|          | 0/1 [00:00<?, ?it/s]"
     ]
    },
    {
     "name": "stdout",
     "output_type": "stream",
     "text": [
      "572/572 [==============================] - 3s 5ms/step\n"
     ]
    },
    {
     "name": "stderr",
     "output_type": "stream",
     "text": [
      "100%|██████████| 1/1 [00:04<00:00,  4.88s/it]\n",
      "Finding & Fitting Flares:   0%|          | 0/1 [00:00<?, ?it/s]/opt/conda/envs/tess/lib/python3.8/site-packages/stella/mark_flares.py:92: VisibleDeprecationWarning: Creating an ndarray from ragged nested sequences (which is a list-or-tuple of lists-or-tuples-or ndarrays with different lengths or shapes) is deprecated. If you meant to do this, you must specify 'dtype=object' when creating the ndarray.\n",
      "  return np.array(results)\n",
      "Finding & Fitting Flares: 100%|██████████| 1/1 [00:00<00:00,  5.69it/s]\n",
      "  0%|          | 0/1 [00:00<?, ?it/s]"
     ]
    },
    {
     "name": "stdout",
     "output_type": "stream",
     "text": [
      "572/572 [==============================] - 2s 4ms/step\n"
     ]
    },
    {
     "name": "stderr",
     "output_type": "stream",
     "text": [
      "100%|██████████| 1/1 [00:04<00:00,  4.33s/it]\n",
      "Finding & Fitting Flares:   0%|          | 0/1 [00:00<?, ?it/s]/opt/conda/envs/tess/lib/python3.8/site-packages/stella/mark_flares.py:92: VisibleDeprecationWarning: Creating an ndarray from ragged nested sequences (which is a list-or-tuple of lists-or-tuples-or ndarrays with different lengths or shapes) is deprecated. If you meant to do this, you must specify 'dtype=object' when creating the ndarray.\n",
      "  return np.array(results)\n",
      "Finding & Fitting Flares: 100%|██████████| 1/1 [00:00<00:00, 32.52it/s]\n",
      "  0%|          | 0/1 [00:00<?, ?it/s]"
     ]
    },
    {
     "name": "stdout",
     "output_type": "stream",
     "text": [
      "572/572 [==============================] - 3s 5ms/step\n"
     ]
    },
    {
     "name": "stderr",
     "output_type": "stream",
     "text": [
      "100%|██████████| 1/1 [00:04<00:00,  4.64s/it]\n",
      "Finding & Fitting Flares:   0%|          | 0/1 [00:00<?, ?it/s]/opt/conda/envs/tess/lib/python3.8/site-packages/stella/mark_flares.py:92: VisibleDeprecationWarning: Creating an ndarray from ragged nested sequences (which is a list-or-tuple of lists-or-tuples-or ndarrays with different lengths or shapes) is deprecated. If you meant to do this, you must specify 'dtype=object' when creating the ndarray.\n",
      "  return np.array(results)\n",
      "Finding & Fitting Flares: 100%|██████████| 1/1 [00:00<00:00,  7.64it/s]\n",
      "  0%|          | 0/1 [00:00<?, ?it/s]"
     ]
    },
    {
     "name": "stdout",
     "output_type": "stream",
     "text": [
      "572/572 [==============================] - 3s 5ms/step\n"
     ]
    },
    {
     "name": "stderr",
     "output_type": "stream",
     "text": [
      "100%|██████████| 1/1 [00:05<00:00,  5.11s/it]\n",
      "Finding & Fitting Flares:   0%|          | 0/1 [00:00<?, ?it/s]/opt/conda/envs/tess/lib/python3.8/site-packages/stella/mark_flares.py:92: VisibleDeprecationWarning: Creating an ndarray from ragged nested sequences (which is a list-or-tuple of lists-or-tuples-or ndarrays with different lengths or shapes) is deprecated. If you meant to do this, you must specify 'dtype=object' when creating the ndarray.\n",
      "  return np.array(results)\n",
      "Finding & Fitting Flares: 100%|██████████| 1/1 [00:00<00:00,  2.50it/s]\n",
      "  0%|          | 0/1 [00:00<?, ?it/s]"
     ]
    },
    {
     "name": "stdout",
     "output_type": "stream",
     "text": [
      "572/572 [==============================] - 2s 4ms/step\n"
     ]
    },
    {
     "name": "stderr",
     "output_type": "stream",
     "text": [
      "100%|██████████| 1/1 [00:04<00:00,  4.40s/it]\n",
      "Finding & Fitting Flares:   0%|          | 0/1 [00:00<?, ?it/s]/opt/conda/envs/tess/lib/python3.8/site-packages/stella/mark_flares.py:92: VisibleDeprecationWarning: Creating an ndarray from ragged nested sequences (which is a list-or-tuple of lists-or-tuples-or ndarrays with different lengths or shapes) is deprecated. If you meant to do this, you must specify 'dtype=object' when creating the ndarray.\n",
      "  return np.array(results)\n",
      "Finding & Fitting Flares: 100%|██████████| 1/1 [00:00<00:00, 10.26it/s]\n",
      "  0%|          | 0/1 [00:00<?, ?it/s]"
     ]
    },
    {
     "name": "stdout",
     "output_type": "stream",
     "text": [
      "572/572 [==============================] - 2s 4ms/step\n"
     ]
    },
    {
     "name": "stderr",
     "output_type": "stream",
     "text": [
      "100%|██████████| 1/1 [00:04<00:00,  4.36s/it]\n",
      "Finding & Fitting Flares:   0%|          | 0/1 [00:00<?, ?it/s]/opt/conda/envs/tess/lib/python3.8/site-packages/stella/mark_flares.py:92: VisibleDeprecationWarning: Creating an ndarray from ragged nested sequences (which is a list-or-tuple of lists-or-tuples-or ndarrays with different lengths or shapes) is deprecated. If you meant to do this, you must specify 'dtype=object' when creating the ndarray.\n",
      "  return np.array(results)\n",
      "Finding & Fitting Flares: 100%|██████████| 1/1 [00:00<00:00,  1.07it/s]\n",
      "  0%|          | 0/1 [00:00<?, ?it/s]"
     ]
    },
    {
     "name": "stdout",
     "output_type": "stream",
     "text": [
      "537/537 [==============================] - 2s 4ms/step\n"
     ]
    },
    {
     "name": "stderr",
     "output_type": "stream",
     "text": [
      "100%|██████████| 1/1 [00:03<00:00,  3.89s/it]\n",
      "Finding & Fitting Flares:   0%|          | 0/1 [00:00<?, ?it/s]/opt/conda/envs/tess/lib/python3.8/site-packages/stella/mark_flares.py:92: VisibleDeprecationWarning: Creating an ndarray from ragged nested sequences (which is a list-or-tuple of lists-or-tuples-or ndarrays with different lengths or shapes) is deprecated. If you meant to do this, you must specify 'dtype=object' when creating the ndarray.\n",
      "  return np.array(results)\n",
      "/opt/conda/envs/tess/lib/python3.8/site-packages/astropy/utils/masked/core.py:938: RuntimeWarning: All-NaN slice encountered\n",
      "  kwargs[\"initial\"] = initial_func(self.unmasked)\n",
      "/opt/conda/envs/tess/lib/python3.8/site-packages/astropy/utils/masked/core.py:827: RuntimeWarning: invalid value encountered in true_divide\n",
      "  result = getattr(ufunc, method)(*unmasked, **kwargs)\n",
      "Finding & Fitting Flares: 100%|██████████| 1/1 [00:00<00:00, 10.20it/s]\n",
      "  0%|          | 0/1 [00:00<?, ?it/s]"
     ]
    },
    {
     "name": "stdout",
     "output_type": "stream",
     "text": [
      "572/572 [==============================] - 3s 6ms/step\n"
     ]
    },
    {
     "name": "stderr",
     "output_type": "stream",
     "text": [
      "100%|██████████| 1/1 [00:05<00:00,  5.73s/it]\n",
      "Finding & Fitting Flares:   0%|          | 0/1 [00:00<?, ?it/s]/opt/conda/envs/tess/lib/python3.8/site-packages/stella/mark_flares.py:92: VisibleDeprecationWarning: Creating an ndarray from ragged nested sequences (which is a list-or-tuple of lists-or-tuples-or ndarrays with different lengths or shapes) is deprecated. If you meant to do this, you must specify 'dtype=object' when creating the ndarray.\n",
      "  return np.array(results)\n",
      "Finding & Fitting Flares: 100%|██████████| 1/1 [00:00<00:00,  1.29it/s]\n",
      "  0%|          | 0/1 [00:00<?, ?it/s]"
     ]
    },
    {
     "name": "stdout",
     "output_type": "stream",
     "text": [
      "572/572 [==============================] - 3s 5ms/step\n"
     ]
    },
    {
     "name": "stderr",
     "output_type": "stream",
     "text": [
      "100%|██████████| 1/1 [00:04<00:00,  4.93s/it]\n",
      "Finding & Fitting Flares:   0%|          | 0/1 [00:00<?, ?it/s]/opt/conda/envs/tess/lib/python3.8/site-packages/stella/mark_flares.py:92: VisibleDeprecationWarning: Creating an ndarray from ragged nested sequences (which is a list-or-tuple of lists-or-tuples-or ndarrays with different lengths or shapes) is deprecated. If you meant to do this, you must specify 'dtype=object' when creating the ndarray.\n",
      "  return np.array(results)\n",
      "Finding & Fitting Flares: 100%|██████████| 1/1 [00:00<00:00,  4.69it/s]\n",
      "  0%|          | 0/1 [00:00<?, ?it/s]"
     ]
    },
    {
     "name": "stdout",
     "output_type": "stream",
     "text": [
      "572/572 [==============================] - 4s 7ms/step\n"
     ]
    },
    {
     "name": "stderr",
     "output_type": "stream",
     "text": [
      "100%|██████████| 1/1 [00:07<00:00,  7.35s/it]\n",
      "Finding & Fitting Flares:   0%|          | 0/1 [00:00<?, ?it/s]/opt/conda/envs/tess/lib/python3.8/site-packages/stella/mark_flares.py:92: VisibleDeprecationWarning: Creating an ndarray from ragged nested sequences (which is a list-or-tuple of lists-or-tuples-or ndarrays with different lengths or shapes) is deprecated. If you meant to do this, you must specify 'dtype=object' when creating the ndarray.\n",
      "  return np.array(results)\n",
      "Finding & Fitting Flares: 100%|██████████| 1/1 [00:00<00:00,  2.84it/s]\n",
      "  0%|          | 0/1 [00:00<?, ?it/s]"
     ]
    },
    {
     "name": "stdout",
     "output_type": "stream",
     "text": [
      "568/568 [==============================] - 4s 6ms/step\n"
     ]
    },
    {
     "name": "stderr",
     "output_type": "stream",
     "text": [
      "100%|██████████| 1/1 [00:06<00:00,  6.40s/it]\n",
      "Finding & Fitting Flares:   0%|          | 0/1 [00:00<?, ?it/s]/opt/conda/envs/tess/lib/python3.8/site-packages/stella/mark_flares.py:92: VisibleDeprecationWarning: Creating an ndarray from ragged nested sequences (which is a list-or-tuple of lists-or-tuples-or ndarrays with different lengths or shapes) is deprecated. If you meant to do this, you must specify 'dtype=object' when creating the ndarray.\n",
      "  return np.array(results)\n",
      "Finding & Fitting Flares: 100%|██████████| 1/1 [00:00<00:00, 22.43it/s]\n",
      "  0%|          | 0/1 [00:00<?, ?it/s]"
     ]
    },
    {
     "name": "stdout",
     "output_type": "stream",
     "text": [
      "572/572 [==============================] - 4s 7ms/step\n"
     ]
    },
    {
     "name": "stderr",
     "output_type": "stream",
     "text": [
      "100%|██████████| 1/1 [00:07<00:00,  7.80s/it]\n",
      "Finding & Fitting Flares:   0%|          | 0/1 [00:00<?, ?it/s]/opt/conda/envs/tess/lib/python3.8/site-packages/stella/mark_flares.py:92: VisibleDeprecationWarning: Creating an ndarray from ragged nested sequences (which is a list-or-tuple of lists-or-tuples-or ndarrays with different lengths or shapes) is deprecated. If you meant to do this, you must specify 'dtype=object' when creating the ndarray.\n",
      "  return np.array(results)\n",
      "Finding & Fitting Flares: 100%|██████████| 1/1 [00:00<00:00,  4.52it/s]\n",
      "  0%|          | 0/1 [00:00<?, ?it/s]"
     ]
    },
    {
     "name": "stdout",
     "output_type": "stream",
     "text": [
      "520/520 [==============================] - 3s 6ms/step\n"
     ]
    },
    {
     "name": "stderr",
     "output_type": "stream",
     "text": [
      "100%|██████████| 1/1 [00:06<00:00,  6.30s/it]\n",
      "Finding & Fitting Flares:   0%|          | 0/1 [00:00<?, ?it/s]/opt/conda/envs/tess/lib/python3.8/site-packages/stella/mark_flares.py:92: VisibleDeprecationWarning: Creating an ndarray from ragged nested sequences (which is a list-or-tuple of lists-or-tuples-or ndarrays with different lengths or shapes) is deprecated. If you meant to do this, you must specify 'dtype=object' when creating the ndarray.\n",
      "  return np.array(results)\n",
      "/opt/conda/envs/tess/lib/python3.8/site-packages/astropy/utils/masked/core.py:938: RuntimeWarning: All-NaN slice encountered\n",
      "  kwargs[\"initial\"] = initial_func(self.unmasked)\n",
      "/opt/conda/envs/tess/lib/python3.8/site-packages/astropy/utils/masked/core.py:827: RuntimeWarning: invalid value encountered in true_divide\n",
      "  result = getattr(ufunc, method)(*unmasked, **kwargs)\n",
      "Finding & Fitting Flares: 100%|██████████| 1/1 [00:00<00:00,  4.24it/s]\n",
      "  0%|          | 0/1 [00:00<?, ?it/s]"
     ]
    },
    {
     "name": "stdout",
     "output_type": "stream",
     "text": [
      "541/541 [==============================] - 2s 4ms/step\n"
     ]
    },
    {
     "name": "stderr",
     "output_type": "stream",
     "text": [
      "100%|██████████| 1/1 [00:04<00:00,  4.91s/it]\n",
      "Finding & Fitting Flares:   0%|          | 0/1 [00:00<?, ?it/s]/opt/conda/envs/tess/lib/python3.8/site-packages/stella/mark_flares.py:92: VisibleDeprecationWarning: Creating an ndarray from ragged nested sequences (which is a list-or-tuple of lists-or-tuples-or ndarrays with different lengths or shapes) is deprecated. If you meant to do this, you must specify 'dtype=object' when creating the ndarray.\n",
      "  return np.array(results)\n",
      "/opt/conda/envs/tess/lib/python3.8/site-packages/astropy/utils/masked/core.py:938: RuntimeWarning: All-NaN slice encountered\n",
      "  kwargs[\"initial\"] = initial_func(self.unmasked)\n",
      "/opt/conda/envs/tess/lib/python3.8/site-packages/astropy/utils/masked/core.py:827: RuntimeWarning: invalid value encountered in true_divide\n",
      "  result = getattr(ufunc, method)(*unmasked, **kwargs)\n",
      "Finding & Fitting Flares: 100%|██████████| 1/1 [00:00<00:00,  8.56it/s]\n",
      "  0%|          | 0/1 [00:00<?, ?it/s]"
     ]
    },
    {
     "name": "stdout",
     "output_type": "stream",
     "text": [
      "572/572 [==============================] - 4s 6ms/step\n"
     ]
    },
    {
     "name": "stderr",
     "output_type": "stream",
     "text": [
      "100%|██████████| 1/1 [00:07<00:00,  7.14s/it]\n",
      "Finding & Fitting Flares:   0%|          | 0/1 [00:00<?, ?it/s]/opt/conda/envs/tess/lib/python3.8/site-packages/stella/mark_flares.py:92: VisibleDeprecationWarning: Creating an ndarray from ragged nested sequences (which is a list-or-tuple of lists-or-tuples-or ndarrays with different lengths or shapes) is deprecated. If you meant to do this, you must specify 'dtype=object' when creating the ndarray.\n",
      "  return np.array(results)\n",
      "Finding & Fitting Flares: 100%|██████████| 1/1 [00:00<00:00, 20.42it/s]\n",
      "  0%|          | 0/1 [00:00<?, ?it/s]"
     ]
    },
    {
     "name": "stdout",
     "output_type": "stream",
     "text": [
      "572/572 [==============================] - 3s 6ms/step\n"
     ]
    },
    {
     "name": "stderr",
     "output_type": "stream",
     "text": [
      "100%|██████████| 1/1 [00:07<00:00,  7.52s/it]\n",
      "Finding & Fitting Flares:   0%|          | 0/1 [00:00<?, ?it/s]/opt/conda/envs/tess/lib/python3.8/site-packages/stella/mark_flares.py:92: VisibleDeprecationWarning: Creating an ndarray from ragged nested sequences (which is a list-or-tuple of lists-or-tuples-or ndarrays with different lengths or shapes) is deprecated. If you meant to do this, you must specify 'dtype=object' when creating the ndarray.\n",
      "  return np.array(results)\n",
      "Finding & Fitting Flares: 100%|██████████| 1/1 [00:01<00:00,  1.31s/it]\n",
      "  0%|          | 0/1 [00:00<?, ?it/s]"
     ]
    },
    {
     "name": "stdout",
     "output_type": "stream",
     "text": [
      "572/572 [==============================] - 4s 7ms/step\n"
     ]
    },
    {
     "name": "stderr",
     "output_type": "stream",
     "text": [
      "100%|██████████| 1/1 [00:07<00:00,  7.08s/it]\n",
      "Finding & Fitting Flares:   0%|          | 0/1 [00:00<?, ?it/s]/opt/conda/envs/tess/lib/python3.8/site-packages/stella/mark_flares.py:92: VisibleDeprecationWarning: Creating an ndarray from ragged nested sequences (which is a list-or-tuple of lists-or-tuples-or ndarrays with different lengths or shapes) is deprecated. If you meant to do this, you must specify 'dtype=object' when creating the ndarray.\n",
      "  return np.array(results)\n",
      "Finding & Fitting Flares: 100%|██████████| 1/1 [00:00<00:00, 10.49it/s]\n",
      "  0%|          | 0/1 [00:00<?, ?it/s]"
     ]
    },
    {
     "name": "stdout",
     "output_type": "stream",
     "text": [
      "572/572 [==============================] - 4s 6ms/step\n"
     ]
    },
    {
     "name": "stderr",
     "output_type": "stream",
     "text": [
      "100%|██████████| 1/1 [00:06<00:00,  6.45s/it]\n",
      "Finding & Fitting Flares:   0%|          | 0/1 [00:00<?, ?it/s]/opt/conda/envs/tess/lib/python3.8/site-packages/stella/mark_flares.py:92: VisibleDeprecationWarning: Creating an ndarray from ragged nested sequences (which is a list-or-tuple of lists-or-tuples-or ndarrays with different lengths or shapes) is deprecated. If you meant to do this, you must specify 'dtype=object' when creating the ndarray.\n",
      "  return np.array(results)\n",
      "Finding & Fitting Flares: 100%|██████████| 1/1 [00:00<00:00,  5.82it/s]\n",
      "  0%|          | 0/1 [00:00<?, ?it/s]"
     ]
    },
    {
     "name": "stdout",
     "output_type": "stream",
     "text": [
      "572/572 [==============================] - 4s 7ms/step\n"
     ]
    },
    {
     "name": "stderr",
     "output_type": "stream",
     "text": [
      "100%|██████████| 1/1 [00:07<00:00,  7.21s/it]\n",
      "Finding & Fitting Flares:   0%|          | 0/1 [00:00<?, ?it/s]/opt/conda/envs/tess/lib/python3.8/site-packages/stella/mark_flares.py:92: VisibleDeprecationWarning: Creating an ndarray from ragged nested sequences (which is a list-or-tuple of lists-or-tuples-or ndarrays with different lengths or shapes) is deprecated. If you meant to do this, you must specify 'dtype=object' when creating the ndarray.\n",
      "  return np.array(results)\n",
      "Finding & Fitting Flares: 100%|██████████| 1/1 [00:00<00:00,  7.14it/s]\n",
      "  0%|          | 0/1 [00:00<?, ?it/s]"
     ]
    },
    {
     "name": "stdout",
     "output_type": "stream",
     "text": [
      "572/572 [==============================] - 4s 7ms/step\n"
     ]
    },
    {
     "name": "stderr",
     "output_type": "stream",
     "text": [
      "100%|██████████| 1/1 [00:06<00:00,  6.68s/it]\n",
      "Finding & Fitting Flares:   0%|          | 0/1 [00:00<?, ?it/s]/opt/conda/envs/tess/lib/python3.8/site-packages/stella/mark_flares.py:92: VisibleDeprecationWarning: Creating an ndarray from ragged nested sequences (which is a list-or-tuple of lists-or-tuples-or ndarrays with different lengths or shapes) is deprecated. If you meant to do this, you must specify 'dtype=object' when creating the ndarray.\n",
      "  return np.array(results)\n",
      "Finding & Fitting Flares: 100%|██████████| 1/1 [00:00<00:00, 12.97it/s]\n",
      "  0%|          | 0/1 [00:00<?, ?it/s]"
     ]
    },
    {
     "name": "stdout",
     "output_type": "stream",
     "text": [
      "572/572 [==============================] - 4s 6ms/step\n"
     ]
    },
    {
     "name": "stderr",
     "output_type": "stream",
     "text": [
      "100%|██████████| 1/1 [00:06<00:00,  6.38s/it]\n",
      "Finding & Fitting Flares:   0%|          | 0/1 [00:00<?, ?it/s]/opt/conda/envs/tess/lib/python3.8/site-packages/stella/mark_flares.py:92: VisibleDeprecationWarning: Creating an ndarray from ragged nested sequences (which is a list-or-tuple of lists-or-tuples-or ndarrays with different lengths or shapes) is deprecated. If you meant to do this, you must specify 'dtype=object' when creating the ndarray.\n",
      "  return np.array(results)\n",
      "Finding & Fitting Flares: 100%|██████████| 1/1 [00:00<00:00, 13.49it/s]\n",
      "  0%|          | 0/1 [00:00<?, ?it/s]"
     ]
    },
    {
     "name": "stdout",
     "output_type": "stream",
     "text": [
      "572/572 [==============================] - 4s 7ms/step\n"
     ]
    },
    {
     "name": "stderr",
     "output_type": "stream",
     "text": [
      "100%|██████████| 1/1 [00:06<00:00,  6.43s/it]\n",
      "Finding & Fitting Flares:   0%|          | 0/1 [00:00<?, ?it/s]/opt/conda/envs/tess/lib/python3.8/site-packages/stella/mark_flares.py:92: VisibleDeprecationWarning: Creating an ndarray from ragged nested sequences (which is a list-or-tuple of lists-or-tuples-or ndarrays with different lengths or shapes) is deprecated. If you meant to do this, you must specify 'dtype=object' when creating the ndarray.\n",
      "  return np.array(results)\n",
      "Finding & Fitting Flares: 100%|██████████| 1/1 [00:00<00:00, 15.82it/s]\n",
      "  0%|          | 0/1 [00:00<?, ?it/s]"
     ]
    },
    {
     "name": "stdout",
     "output_type": "stream",
     "text": [
      "572/572 [==============================] - 3s 6ms/step\n"
     ]
    },
    {
     "name": "stderr",
     "output_type": "stream",
     "text": [
      "100%|██████████| 1/1 [00:06<00:00,  6.47s/it]\n",
      "Finding & Fitting Flares:   0%|          | 0/1 [00:00<?, ?it/s]/opt/conda/envs/tess/lib/python3.8/site-packages/stella/mark_flares.py:92: VisibleDeprecationWarning: Creating an ndarray from ragged nested sequences (which is a list-or-tuple of lists-or-tuples-or ndarrays with different lengths or shapes) is deprecated. If you meant to do this, you must specify 'dtype=object' when creating the ndarray.\n",
      "  return np.array(results)\n",
      "Finding & Fitting Flares: 100%|██████████| 1/1 [00:00<00:00,  3.79it/s]\n",
      "  0%|          | 0/1 [00:00<?, ?it/s]"
     ]
    },
    {
     "name": "stdout",
     "output_type": "stream",
     "text": [
      "572/572 [==============================] - 4s 6ms/step\n"
     ]
    },
    {
     "name": "stderr",
     "output_type": "stream",
     "text": [
      "100%|██████████| 1/1 [00:06<00:00,  6.41s/it]\n",
      "Finding & Fitting Flares:   0%|          | 0/1 [00:00<?, ?it/s]/opt/conda/envs/tess/lib/python3.8/site-packages/stella/mark_flares.py:92: VisibleDeprecationWarning: Creating an ndarray from ragged nested sequences (which is a list-or-tuple of lists-or-tuples-or ndarrays with different lengths or shapes) is deprecated. If you meant to do this, you must specify 'dtype=object' when creating the ndarray.\n",
      "  return np.array(results)\n",
      "Finding & Fitting Flares: 100%|██████████| 1/1 [00:00<00:00, 63.08it/s]\n",
      "  0%|          | 0/1 [00:00<?, ?it/s]"
     ]
    },
    {
     "name": "stdout",
     "output_type": "stream",
     "text": [
      "572/572 [==============================] - 4s 7ms/step\n"
     ]
    },
    {
     "name": "stderr",
     "output_type": "stream",
     "text": [
      "100%|██████████| 1/1 [00:08<00:00,  8.07s/it]\n",
      "Finding & Fitting Flares:   0%|          | 0/1 [00:00<?, ?it/s]/opt/conda/envs/tess/lib/python3.8/site-packages/stella/mark_flares.py:92: VisibleDeprecationWarning: Creating an ndarray from ragged nested sequences (which is a list-or-tuple of lists-or-tuples-or ndarrays with different lengths or shapes) is deprecated. If you meant to do this, you must specify 'dtype=object' when creating the ndarray.\n",
      "  return np.array(results)\n",
      "Finding & Fitting Flares: 100%|██████████| 1/1 [00:00<00:00,  3.89it/s]\n",
      "  0%|          | 0/1 [00:00<?, ?it/s]"
     ]
    },
    {
     "name": "stdout",
     "output_type": "stream",
     "text": [
      "572/572 [==============================] - 4s 7ms/step\n"
     ]
    },
    {
     "name": "stderr",
     "output_type": "stream",
     "text": [
      "100%|██████████| 1/1 [00:06<00:00,  6.73s/it]\n",
      "Finding & Fitting Flares: 100%|██████████| 1/1 [00:00<00:00, 1471.17it/s]\n",
      "  0%|          | 0/1 [00:00<?, ?it/s]"
     ]
    },
    {
     "name": "stdout",
     "output_type": "stream",
     "text": [
      "570/570 [==============================] - 4s 6ms/step\n"
     ]
    },
    {
     "name": "stderr",
     "output_type": "stream",
     "text": [
      "100%|██████████| 1/1 [00:07<00:00,  7.76s/it]\n",
      "Finding & Fitting Flares: 100%|██████████| 1/1 [00:00<00:00, 145.93it/s]\n",
      "  0%|          | 0/1 [00:00<?, ?it/s]"
     ]
    },
    {
     "name": "stdout",
     "output_type": "stream",
     "text": [
      "572/572 [==============================] - 4s 7ms/step\n"
     ]
    },
    {
     "name": "stderr",
     "output_type": "stream",
     "text": [
      "100%|██████████| 1/1 [00:06<00:00,  6.62s/it]\n",
      "Finding & Fitting Flares:   0%|          | 0/1 [00:00<?, ?it/s]/opt/conda/envs/tess/lib/python3.8/site-packages/stella/mark_flares.py:92: VisibleDeprecationWarning: Creating an ndarray from ragged nested sequences (which is a list-or-tuple of lists-or-tuples-or ndarrays with different lengths or shapes) is deprecated. If you meant to do this, you must specify 'dtype=object' when creating the ndarray.\n",
      "  return np.array(results)\n",
      "Finding & Fitting Flares: 100%|██████████| 1/1 [00:00<00:00, 10.14it/s]\n",
      "  0%|          | 0/1 [00:00<?, ?it/s]"
     ]
    },
    {
     "name": "stdout",
     "output_type": "stream",
     "text": [
      "572/572 [==============================] - 4s 6ms/step\n"
     ]
    },
    {
     "name": "stderr",
     "output_type": "stream",
     "text": [
      "100%|██████████| 1/1 [00:06<00:00,  6.16s/it]\n",
      "Finding & Fitting Flares:   0%|          | 0/1 [00:00<?, ?it/s]/opt/conda/envs/tess/lib/python3.8/site-packages/stella/mark_flares.py:92: VisibleDeprecationWarning: Creating an ndarray from ragged nested sequences (which is a list-or-tuple of lists-or-tuples-or ndarrays with different lengths or shapes) is deprecated. If you meant to do this, you must specify 'dtype=object' when creating the ndarray.\n",
      "  return np.array(results)\n",
      "Finding & Fitting Flares: 100%|██████████| 1/1 [00:00<00:00,  7.40it/s]\n",
      "  0%|          | 0/1 [00:00<?, ?it/s]"
     ]
    },
    {
     "name": "stdout",
     "output_type": "stream",
     "text": [
      "572/572 [==============================] - 4s 6ms/step\n"
     ]
    },
    {
     "name": "stderr",
     "output_type": "stream",
     "text": [
      "100%|██████████| 1/1 [00:05<00:00,  5.92s/it]\n",
      "Finding & Fitting Flares:   0%|          | 0/1 [00:00<?, ?it/s]/opt/conda/envs/tess/lib/python3.8/site-packages/stella/mark_flares.py:92: VisibleDeprecationWarning: Creating an ndarray from ragged nested sequences (which is a list-or-tuple of lists-or-tuples-or ndarrays with different lengths or shapes) is deprecated. If you meant to do this, you must specify 'dtype=object' when creating the ndarray.\n",
      "  return np.array(results)\n",
      "Finding & Fitting Flares: 100%|██████████| 1/1 [00:00<00:00,  8.71it/s]\n",
      "  0%|          | 0/1 [00:00<?, ?it/s]"
     ]
    },
    {
     "name": "stdout",
     "output_type": "stream",
     "text": [
      "554/554 [==============================] - 4s 7ms/step\n"
     ]
    },
    {
     "name": "stderr",
     "output_type": "stream",
     "text": [
      "100%|██████████| 1/1 [00:07<00:00,  7.61s/it]\n",
      "Finding & Fitting Flares:   0%|          | 0/1 [00:00<?, ?it/s]/opt/conda/envs/tess/lib/python3.8/site-packages/stella/mark_flares.py:92: VisibleDeprecationWarning: Creating an ndarray from ragged nested sequences (which is a list-or-tuple of lists-or-tuples-or ndarrays with different lengths or shapes) is deprecated. If you meant to do this, you must specify 'dtype=object' when creating the ndarray.\n",
      "  return np.array(results)\n",
      "Finding & Fitting Flares: 100%|██████████| 1/1 [00:00<00:00, 12.05it/s]\n"
     ]
    }
   ],
   "source": [
    "flare_rates = []\n",
    "for star in stars[::200]:\n",
    "    flare_rate = calc_flare_rate(str(star))\n",
    "    \n",
    "    flare_rates += [flare_rate]"
   ]
  },
  {
   "cell_type": "code",
   "execution_count": 132,
   "id": "0337522f-8bd9-499c-add4-73fcd8c67208",
   "metadata": {
    "tags": []
   },
   "outputs": [],
   "source": [
    "rot_rates = [rot_rate.value for rot_rate in rot_rates]"
   ]
  },
  {
   "cell_type": "code",
   "execution_count": 133,
   "id": "53d59776-b77c-4e46-acf8-f9ad89d269ce",
   "metadata": {
    "tags": []
   },
   "outputs": [
    {
     "name": "stderr",
     "output_type": "stream",
     "text": [
      "/tmp/ipykernel_191/212443149.py:1: RuntimeWarning: divide by zero encountered in log10\n",
      "  plt.scatter(np.log10(flare_rates), np.log10(rot_rates), color='teal')\n"
     ]
    },
    {
     "data": {
      "text/plain": [
       "Text(0, 0.5, 'Period at max power (d)')"
      ]
     },
     "execution_count": 133,
     "metadata": {},
     "output_type": "execute_result"
    },
    {
     "data": {
      "image/png": "[encoded data removed]",
      "text/plain": [
       "<Figure size 640x480 with 1 Axes>"
      ]
     },
     "metadata": {},
     "output_type": "display_data"
    }
   ],
   "source": [
    "plt.scatter(np.log10(flare_rates), np.log10(rot_rates), color='teal')\n",
    "            \n",
    "plt.xlabel('Fraction of time spent flaring')\n",
    "plt.ylabel('Period at max power (d)')"
   ]
  },
  {
   "cell_type": "code",
   "execution_count": 134,
   "id": "b178111a-57f4-46ae-89cf-72ab72ea3526",
   "metadata": {
    "tags": []
   },
   "outputs": [],
   "source": [
    "rot_rates, flare_rates = np.array(rot_rates), np.array(flare_rates)"
   ]
  },
  {
   "cell_type": "code",
   "execution_count": 135,
   "id": "e50a597d-513d-4381-ab89-343bb875ca18",
   "metadata": {
    "tags": []
   },
   "outputs": [],
   "source": [
    "rot_rates_cleaned = rot_rates[flare_rates>0.0]\n",
    "flare_rates_cleaned = flare_rates[flare_rates>0.0]"
   ]
  },
  {
   "cell_type": "code",
   "execution_count": 136,
   "id": "3696542f-f669-4e88-838e-056ae9523e45",
   "metadata": {
    "tags": []
   },
   "outputs": [],
   "source": [
    "slope, intercept, r_value, p_value, std_err = scipy.stats.linregress(np.log10(flare_rates_cleaned), np.log10(rot_rates_cleaned))"
   ]
  },
  {
   "cell_type": "code",
   "execution_count": 137,
   "id": "55235ef6-bf57-4ed5-b87f-115aa1844209",
   "metadata": {
    "tags": []
   },
   "outputs": [],
   "source": [
    "x = np.linspace(np.min(np.log10(flare_rates_cleaned)), np.max(np.log10(flare_rates_cleaned)), 100)\n",
    "y = slope * x + intercept"
   ]
  },
  {
   "cell_type": "code",
   "execution_count": 144,
   "id": "f38f5b04-42b7-417a-904c-5800df457f0a",
   "metadata": {
    "tags": []
   },
   "outputs": [
    {
     "data": {
      "image/png": "[encoded data removed]",
      "text/plain": [
       "<Figure size 640x480 with 1 Axes>"
      ]
     },
     "metadata": {},
     "output_type": "display_data"
    }
   ],
   "source": [
    "plt.scatter(np.log10(flare_rates_cleaned), np.log10(rot_rates_cleaned), color='teal', label='TESS data')\n",
    "plt.plot(x,y, color='black', linestyle='--', lw=4, label='Regression best fit')\n",
    "            \n",
    "plt.xlabel('Fraction of time spent flaring')\n",
    "plt.ylabel('Period at max power (d)')\n",
    "plt.legend(fontsize=14);"
   ]
  },
  {
   "cell_type": "code",
   "execution_count": null,
   "id": "76befaf0-1e09-4bd2-896e-023573d2d175",
   "metadata": {},
   "outputs": [],
   "source": []
  },
  {
   "cell_type": "code",
   "execution_count": null,
   "id": "c594ffa6-ffa1-4593-95e8-96541c17d151",
   "metadata": {},
   "outputs": [],
   "source": []
  },
  {
   "cell_type": "code",
   "execution_count": 139,
   "id": "4aa14a03-a9f4-438b-9055-a1b38ac861ce",
   "metadata": {
    "tags": []
   },
   "outputs": [
    {
     "data": {
      "text/plain": [
       "(-0.7410409138692633, -2.6577998704293533)"
      ]
     },
     "execution_count": 139,
     "metadata": {},
     "output_type": "execute_result"
    }
   ],
   "source": [
    "slope, intercept"
   ]
  },
  {
   "cell_type": "code",
   "execution_count": 140,
   "id": "d4ec590b-4a87-4f3e-8b57-a27a87a1dc3b",
   "metadata": {
    "tags": []
   },
   "outputs": [
    {
     "data": {
      "text/plain": [
       "0.032676708574602586"
      ]
     },
     "execution_count": 140,
     "metadata": {},
     "output_type": "execute_result"
    }
   ],
   "source": [
    "r_value**2"
   ]
  },
  {
   "cell_type": "code",
   "execution_count": 151,
   "id": "f6936d79-f6c6-4798-a10c-99be15e91359",
   "metadata": {
    "tags": []
   },
   "outputs": [
    {
     "data": {
      "text/plain": [
       "0.032676708574602586"
      ]
     },
     "execution_count": 151,
     "metadata": {},
     "output_type": "execute_result"
    }
   ],
   "source": [
    "r_value**2"
   ]
  },
  {
   "cell_type": "code",
   "execution_count": 157,
   "id": "abbf50c1-8061-404f-8f9c-4b7505041a2c",
   "metadata": {
    "tags": []
   },
   "outputs": [],
   "source": [
    "lc = lc.normalize()\n",
    "lc = lc.remove_nans()\n"
   ]
  },
  {
   "cell_type": "code",
   "execution_count": 158,
   "id": "6783ca4c-8eb5-45ad-a9d6-525e14c2d38b",
   "metadata": {
    "tags": []
   },
   "outputs": [],
   "source": [
    "mProt = stella.MeasureProt([lc.targetid], [lc.time.value], [lc.flux.value], [lc.flux_err.value])\n"
   ]
  },
  {
   "cell_type": "code",
   "execution_count": 159,
   "id": "ba82149a-7afc-4354-84fc-d6af343ea38e",
   "metadata": {
    "tags": []
   },
   "outputs": [
    {
     "name": "stderr",
     "output_type": "stream",
     "text": [
      "Finding most likely periods: 100%|██████████| 1/1 [00:00<00:00,  5.75it/s]\n"
     ]
    }
   ],
   "source": [
    "mProt.run_LS()\n"
   ]
  },
  {
   "cell_type": "code",
   "execution_count": 164,
   "id": "ed53643c-1046-4b33-951d-373e6b198602",
   "metadata": {
    "tags": []
   },
   "outputs": [
    {
     "data": {
      "text/plain": [
       "0.7617276563470238"
      ]
     },
     "execution_count": 164,
     "metadata": {},
     "output_type": "execute_result"
    }
   ],
   "source": [
    "mProt.LS_results['period_days'].value[0]\n"
   ]
  },
  {
   "cell_type": "code",
   "execution_count": 169,
   "id": "e68c8562-a4b8-4f23-bb26-ec6f62a8277d",
   "metadata": {
    "tags": []
   },
   "outputs": [],
   "source": [
    "def calc_rotation_rate_stella(name):\n",
    "     # for all the selected targets, pull the available lightcurves using the lightkurve package\n",
    "    sectors = [1, 2] # only consider the first few sectors\n",
    "    lcs = []\n",
    "    # for name in ticids:\n",
    "    lc = search_lightcurve(target='TIC'+name, mission='TESS', sector=sectors, author='SPOC')\n",
    "    lc = lc.download_all()[0]\n",
    "    lc = lc.normalize()\n",
    "    lc = lc.remove_nans()\n",
    "    mProt = stella.MeasureProt([lc.targetid], [lc.time.value], [lc.flux.value], [lc.flux_err.value])\n",
    "    mProt.run_LS()\n",
    "\n",
    "    \n",
    "    return mProt.LS_results['period_days'].value[0]\n",
    "    "
   ]
  },
  {
   "cell_type": "code",
   "execution_count": 170,
   "id": "90c8a34c-4577-4977-95c4-7e4055748cf8",
   "metadata": {
    "tags": []
   },
   "outputs": [
    {
     "name": "stderr",
     "output_type": "stream",
     "text": [
      "  0%|          | 0/44 [00:00<?, ?it/s]\n",
      "Finding most likely periods: 100%|██████████| 1/1 [00:00<00:00, 15.87it/s]\n",
      "  2%|▏         | 1/44 [00:00<00:13,  3.16it/s]\n",
      "Finding most likely periods: 100%|██████████| 1/1 [00:00<00:00, 16.57it/s]\n",
      "  5%|▍         | 2/44 [00:00<00:12,  3.43it/s]\n",
      "Finding most likely periods: 100%|██████████| 1/1 [00:00<00:00, 17.72it/s]\n",
      "  7%|▋         | 3/44 [00:00<00:11,  3.48it/s]\n",
      "Finding most likely periods: 100%|██████████| 1/1 [00:00<00:00, 16.36it/s]\n",
      "  9%|▉         | 4/44 [00:01<00:14,  2.81it/s]\n",
      "Finding most likely periods:   0%|          | 0/1 [00:00<?, ?it/s]\u001b[A\n",
      "Finding most likely periods: 100%|██████████| 1/1 [00:00<00:00,  6.23it/s]\u001b[A\n",
      " 11%|█▏        | 5/44 [00:01<00:16,  2.33it/s]\n",
      "Finding most likely periods:   0%|          | 0/1 [00:00<?, ?it/s]\u001b[A\n",
      "Finding most likely periods: 100%|██████████| 1/1 [00:00<00:00,  6.87it/s]\u001b[A\n",
      " 14%|█▎        | 6/44 [00:02<00:17,  2.12it/s]\n",
      "Finding most likely periods: 100%|██████████| 1/1 [00:00<00:00, 16.82it/s]\n",
      " 16%|█▌        | 7/44 [00:02<00:15,  2.45it/s]\n",
      "Finding most likely periods: 100%|██████████| 1/1 [00:00<00:00, 12.64it/s]\n",
      " 18%|█▊        | 8/44 [00:03<00:13,  2.64it/s]\n",
      "Finding most likely periods:   0%|          | 0/1 [00:00<?, ?it/s]\u001b[A\n",
      "Finding most likely periods: 100%|██████████| 1/1 [00:00<00:00,  7.24it/s]\u001b[A\n",
      " 20%|██        | 9/44 [00:03<00:13,  2.52it/s]\n",
      "Finding most likely periods: 100%|██████████| 1/1 [00:00<00:00, 16.51it/s]\n",
      " 23%|██▎       | 10/44 [00:03<00:12,  2.77it/s]\n",
      "Finding most likely periods: 100%|██████████| 1/1 [00:00<00:00, 16.30it/s]\n",
      " 25%|██▌       | 11/44 [00:04<00:12,  2.57it/s]\n",
      "Finding most likely periods: 100%|██████████| 1/1 [00:00<00:00, 17.22it/s]\n",
      " 27%|██▋       | 12/44 [00:04<00:13,  2.39it/s]\n",
      "Finding most likely periods: 100%|██████████| 1/1 [00:00<00:00, 16.79it/s]\n",
      " 30%|██▉       | 13/44 [00:05<00:13,  2.27it/s]\n",
      "Finding most likely periods: 100%|██████████| 1/1 [00:00<00:00, 15.60it/s]\n",
      " 32%|███▏      | 14/44 [00:05<00:11,  2.54it/s]\n",
      "Finding most likely periods: 100%|██████████| 1/1 [00:00<00:00, 15.51it/s]\n",
      " 34%|███▍      | 15/44 [00:05<00:11,  2.44it/s]\n",
      "Finding most likely periods: 100%|██████████| 1/1 [00:00<00:00, 16.54it/s]\n",
      " 36%|███▋      | 16/44 [00:06<00:10,  2.69it/s]\n",
      "Finding most likely periods:   0%|          | 0/1 [00:00<?, ?it/s]\u001b[A\n",
      "Finding most likely periods: 100%|██████████| 1/1 [00:00<00:00,  6.94it/s]\u001b[A\n",
      " 39%|███▊      | 17/44 [00:06<00:10,  2.68it/s]\n",
      "Finding most likely periods: 100%|██████████| 1/1 [00:00<00:00, 16.84it/s]\n",
      " 41%|████      | 18/44 [00:06<00:08,  2.90it/s]\n",
      "Finding most likely periods: 100%|██████████| 1/1 [00:00<00:00, 15.80it/s]\n",
      " 43%|████▎     | 19/44 [00:07<00:09,  2.60it/s]\n",
      "Finding most likely periods: 100%|██████████| 1/1 [00:00<00:00, 18.16it/s]\n",
      " 45%|████▌     | 20/44 [00:07<00:08,  2.82it/s]\n",
      "Finding most likely periods: 100%|██████████| 1/1 [00:00<00:00, 16.68it/s]\n",
      " 48%|████▊     | 21/44 [00:07<00:07,  3.03it/s]\n",
      "Finding most likely periods: 100%|██████████| 1/1 [00:00<00:00, 18.64it/s]\n",
      " 50%|█████     | 22/44 [00:08<00:08,  2.74it/s]\n",
      "Finding most likely periods: 100%|██████████| 1/1 [00:00<00:00, 17.09it/s]\n",
      " 52%|█████▏    | 23/44 [00:08<00:07,  2.95it/s]\n",
      "Finding most likely periods: 100%|██████████| 1/1 [00:00<00:00, 10.00it/s]\n",
      " 55%|█████▍    | 24/44 [00:09<00:07,  2.53it/s]\n",
      "Finding most likely periods: 100%|██████████| 1/1 [00:00<00:00, 13.27it/s]\n",
      " 57%|█████▋    | 25/44 [00:09<00:08,  2.29it/s]\n",
      "Finding most likely periods: 100%|██████████| 1/1 [00:00<00:00, 12.36it/s]\n",
      " 59%|█████▉    | 26/44 [00:10<00:08,  2.07it/s]\n",
      "Finding most likely periods: 100%|██████████| 1/1 [00:00<00:00, 16.71it/s]\n",
      " 61%|██████▏   | 27/44 [00:10<00:08,  1.98it/s]\n",
      "Finding most likely periods: 100%|██████████| 1/1 [00:00<00:00, 17.32it/s]\n",
      " 64%|██████▎   | 28/44 [00:11<00:07,  2.04it/s]\n",
      "Finding most likely periods: 100%|██████████| 1/1 [00:00<00:00, 16.00it/s]\n",
      " 66%|██████▌   | 29/44 [00:11<00:07,  2.08it/s]\n",
      "Finding most likely periods:   0%|          | 0/1 [00:00<?, ?it/s]\u001b[A\n",
      "Finding most likely periods: 100%|██████████| 1/1 [00:00<00:00,  6.71it/s]\u001b[A\n",
      " 68%|██████▊   | 30/44 [00:12<00:06,  2.25it/s]\n",
      "Finding most likely periods:   0%|          | 0/1 [00:00<?, ?it/s]\u001b[A\n",
      "Finding most likely periods: 100%|██████████| 1/1 [00:00<00:00,  6.59it/s]\u001b[A\n",
      " 70%|███████   | 31/44 [00:12<00:05,  2.35it/s]\n",
      "Finding most likely periods: 100%|██████████| 1/1 [00:00<00:00, 17.22it/s]\n",
      " 73%|███████▎  | 32/44 [00:12<00:05,  2.31it/s]\n",
      "Finding most likely periods: 100%|██████████| 1/1 [00:00<00:00, 14.62it/s]\n",
      " 75%|███████▌  | 33/44 [00:13<00:04,  2.26it/s]\n",
      "Finding most likely periods: 100%|██████████| 1/1 [00:00<00:00, 13.24it/s]\n",
      " 77%|███████▋  | 34/44 [00:13<00:04,  2.46it/s]\n",
      "Finding most likely periods: 100%|██████████| 1/1 [00:00<00:00, 12.86it/s]\n",
      " 80%|███████▉  | 35/44 [00:14<00:03,  2.57it/s]\n",
      "Finding most likely periods: 100%|██████████| 1/1 [00:00<00:00, 14.05it/s]\n",
      " 82%|████████▏ | 36/44 [00:14<00:03,  2.65it/s]\n",
      "Finding most likely periods: 100%|██████████| 1/1 [00:00<00:00, 14.76it/s]\n",
      " 84%|████████▍ | 37/44 [00:14<00:02,  2.37it/s]\n",
      "Finding most likely periods: 100%|██████████| 1/1 [00:00<00:00, 15.68it/s]\n",
      " 86%|████████▋ | 38/44 [00:15<00:02,  2.64it/s]\n",
      "Finding most likely periods: 100%|██████████| 1/1 [00:00<00:00, 16.55it/s]\n",
      " 89%|████████▊ | 39/44 [00:15<00:02,  2.49it/s]\n",
      "Finding most likely periods: 100%|██████████| 1/1 [00:00<00:00, 16.87it/s]\n",
      " 91%|█████████ | 40/44 [00:15<00:01,  2.75it/s]\n",
      "Finding most likely periods: 100%|██████████| 1/1 [00:00<00:00, 16.10it/s]\n",
      " 93%|█████████▎| 41/44 [00:16<00:01,  2.97it/s]\n",
      "Finding most likely periods: 100%|██████████| 1/1 [00:00<00:00, 15.80it/s]\n",
      " 95%|█████████▌| 42/44 [00:16<00:00,  3.04it/s]\n",
      "Finding most likely periods: 100%|██████████| 1/1 [00:00<00:00, 15.51it/s]\n",
      " 98%|█████████▊| 43/44 [00:16<00:00,  3.17it/s]\n",
      "Finding most likely periods: 100%|██████████| 1/1 [00:00<00:00, 17.66it/s]\n",
      "100%|██████████| 44/44 [00:17<00:00,  2.57it/s]\n"
     ]
    }
   ],
   "source": [
    "\n",
    "rot_rates = []\n",
    "\n",
    "# iterate though stars\n",
    "for star in tqdm(stars[::200]):\n",
    "    star_name = str(star) # the rotation rate function takes strings\n",
    "    \n",
    "    rot_rate = calc_rotation_rate_stella(star_name)\n",
    "    \n",
    "    # store result of rotation rate calculation\n",
    "    rot_rates += [rot_rate]"
   ]
  },
  {
   "cell_type": "code",
   "execution_count": 171,
   "id": "07cb4fb7-bec0-453e-a7bd-44f30aeaab9b",
   "metadata": {
    "tags": []
   },
   "outputs": [
    {
     "name": "stderr",
     "output_type": "stream",
     "text": [
      "/tmp/ipykernel_191/212443149.py:1: RuntimeWarning: divide by zero encountered in log10\n",
      "  plt.scatter(np.log10(flare_rates), np.log10(rot_rates), color='teal')\n"
     ]
    },
    {
     "data": {
      "text/plain": [
       "Text(0, 0.5, 'Period at max power (d)')"
      ]
     },
     "execution_count": 171,
     "metadata": {},
     "output_type": "execute_result"
    },
    {
     "data": {
      "image/png": "[encoded data removed]",
      "text/plain": [
       "<Figure size 640x480 with 1 Axes>"
      ]
     },
     "metadata": {},
     "output_type": "display_data"
    }
   ],
   "source": [
    "plt.scatter(np.log10(flare_rates), np.log10(rot_rates), color='teal')\n",
    "            \n",
    "plt.xlabel('Fraction of time spent flaring')\n",
    "plt.ylabel('Period at max power (d)')"
   ]
  },
  {
   "cell_type": "markdown",
   "id": "c7c15d91-689a-458d-b18a-cebde2d9b669",
   "metadata": {},
   "source": [
    "This is not nearly as tight a relationship. The number of flares must be measuring a fundamentally different quantity than the fraction of time spent flaring. Or, if the two metrics do measure the same quantity, this most recent approach must do so in a much more messy way. TODO: see whether the flare doesn't catch the things that drive the other trend! Maybe they get filtered out because they're not real flares. maybe they're oscillations. "
   ]
  },
  {
   "cell_type": "markdown",
   "id": "21c0eb2f-7c59-4a6e-9e9e-054f3af540c3",
   "metadata": {},
   "source": [
    "# Exercise 5"
   ]
  },
  {
   "cell_type": "markdown",
   "id": "6d7ab8f9-c6eb-46a6-bf34-f4d3f2770673",
   "metadata": {},
   "source": [
    "We can most easily solve this by writing a new function to find rotation periods."
   ]
  },
  {
   "cell_type": "code",
   "execution_count": 172,
   "id": "f3c898d2-47ed-43a0-9843-6c84e3dc3d14",
   "metadata": {
    "tags": []
   },
   "outputs": [
    {
     "data": {
      "text/html": [
       "<div><i>Table length=1</i>\n",
       "<table id=\"table140166647368240\" class=\"table-striped table-bordered table-condensed\">\n",
       "<thead><tr><th>Target_ID</th><th>period_days</th><th>secondary_period_days</th><th>gauss_width</th><th>max_power</th><th>secondary_max_power</th><th>orbit_flag</th><th>oflag1</th><th>oflag2</th><th>Flags</th><th>avg_period_days</th></tr></thead>\n",
       "<thead><tr><th>int64</th><th>float64</th><th>float64</th><th>float64</th><th>float64</th><th>float64</th><th>float64</th><th>float64</th><th>float64</th><th>int64</th><th>float64</th></tr></thead>\n",
       "<tr><td>234295610</td><td>0.7617276563470238</td><td>0.761719892368407</td><td>0.014571099366043627</td><td>0.3948251840039057</td><td>0.04771755180136625</td><td>0.0</td><td>0.0</td><td>0.0</td><td>0</td><td>0.7617276563470238</td></tr>\n",
       "</table></div>"
      ],
      "text/plain": [
       "<Table length=1>\n",
       "Target_ID    period_days     secondary_period_days ... Flags  avg_period_days  \n",
       "  int64        float64              float64        ... int64      float64      \n",
       "--------- ------------------ --------------------- ... ----- ------------------\n",
       "234295610 0.7617276563470238     0.761719892368407 ...     0 0.7617276563470238"
      ]
     },
     "execution_count": 172,
     "metadata": {},
     "output_type": "execute_result"
    }
   ],
   "source": [
    "mProt.LS_results"
   ]
  },
  {
   "cell_type": "code",
   "execution_count": 174,
   "id": "359114e6-20d6-49a1-948a-f80fc66a470f",
   "metadata": {
    "tags": []
   },
   "outputs": [],
   "source": [
    "def calc_rotation_rate_stella_constrained(name):\n",
    "     # for all the selected targets, pull the available lightcurves using the lightkurve package\n",
    "    sectors = [1, 2] # only consider the first few sectors\n",
    "    lcs = []\n",
    "    # for name in ticids:\n",
    "    lc = search_lightcurve(target='TIC'+name, mission='TESS', sector=sectors, author='SPOC')\n",
    "    lc = lc.download_all()[0]\n",
    "    lc = lc.normalize()\n",
    "    lc = lc.remove_nans()\n",
    "    mProt = stella.MeasureProt([lc.targetid], [lc.time.value], [lc.flux.value], [lc.flux_err.value])\n",
    "    mProt.run_LS()\n",
    "    \n",
    "    period_val = mProt.LS_results['period_days'].value[0]\n",
    "    primary_power = mProt.LS_results['max_power'].value[0]\n",
    "    secondary_power = mProt.LS_results['secondary_max_power'].value[0]\n",
    "    width_val = mProt.LS_results['gauss_width'].value[0]\n",
    "    \n",
    "    # the checks on the rotation period defined in Feinstein+20\n",
    "    period_constraint = period_val > 12\n",
    "    width_constraint = width_val > 0.4 * period_val \n",
    "    secondary_constraint = (primary_power - secondary_power)/primary_power > 0.96\n",
    "    \n",
    "    if period_constraint or width_constraint or secondary_constraint:\n",
    "        return np.nan\n",
    "\n",
    "    return mProt.LS_results['period_days'].value[0]"
   ]
  },
  {
   "cell_type": "code",
   "execution_count": 175,
   "id": "8724d2c5-8a70-4f40-9d7c-71000247dd16",
   "metadata": {
    "tags": []
   },
   "outputs": [
    {
     "name": "stderr",
     "output_type": "stream",
     "text": [
      "  0%|          | 0/44 [00:00<?, ?it/s]\n",
      "Finding most likely periods: 100%|██████████| 1/1 [00:00<00:00, 16.76it/s]\n",
      "  2%|▏         | 1/44 [00:00<00:12,  3.45it/s]\n",
      "Finding most likely periods: 100%|██████████| 1/1 [00:00<00:00, 16.60it/s]\n",
      "  5%|▍         | 2/44 [00:00<00:12,  3.47it/s]\n",
      "Finding most likely periods: 100%|██████████| 1/1 [00:00<00:00, 15.00it/s]\n",
      "  7%|▋         | 3/44 [00:00<00:12,  3.40it/s]\n",
      "Finding most likely periods: 100%|██████████| 1/1 [00:00<00:00, 17.33it/s]\n",
      "  9%|▉         | 4/44 [00:01<00:13,  2.89it/s]\n",
      "Finding most likely periods:   0%|          | 0/1 [00:00<?, ?it/s]\u001b[A\n",
      "Finding most likely periods: 100%|██████████| 1/1 [00:00<00:00,  8.23it/s]\u001b[A\n",
      " 11%|█▏        | 5/44 [00:01<00:16,  2.42it/s]\n",
      "Finding most likely periods:   0%|          | 0/1 [00:00<?, ?it/s]\u001b[A\n",
      "Finding most likely periods: 100%|██████████| 1/1 [00:00<00:00,  8.18it/s]\u001b[A\n",
      " 14%|█▎        | 6/44 [00:02<00:16,  2.30it/s]\n",
      "Finding most likely periods: 100%|██████████| 1/1 [00:00<00:00, 21.20it/s]\n",
      " 16%|█▌        | 7/44 [00:02<00:13,  2.71it/s]\n",
      "Finding most likely periods: 100%|██████████| 1/1 [00:00<00:00, 19.36it/s]\n",
      " 18%|█▊        | 8/44 [00:02<00:11,  3.05it/s]\n",
      "Finding most likely periods:   0%|          | 0/1 [00:00<?, ?it/s]\u001b[A\n",
      "Finding most likely periods: 100%|██████████| 1/1 [00:00<00:00,  8.60it/s]\u001b[A\n",
      " 20%|██        | 9/44 [00:03<00:11,  3.13it/s]\n",
      "Finding most likely periods: 100%|██████████| 1/1 [00:00<00:00, 19.13it/s]\n",
      " 23%|██▎       | 10/44 [00:03<00:10,  3.38it/s]\n",
      "Finding most likely periods: 100%|██████████| 1/1 [00:00<00:00, 19.77it/s]\n",
      " 25%|██▌       | 11/44 [00:03<00:10,  3.06it/s]\n",
      "Finding most likely periods: 100%|██████████| 1/1 [00:00<00:00, 20.09it/s]\n",
      " 27%|██▋       | 12/44 [00:04<00:11,  2.88it/s]\n",
      "Finding most likely periods: 100%|██████████| 1/1 [00:00<00:00, 19.45it/s]\n",
      " 30%|██▉       | 13/44 [00:04<00:11,  2.69it/s]\n",
      "Finding most likely periods: 100%|██████████| 1/1 [00:00<00:00, 19.13it/s]\n",
      " 32%|███▏      | 14/44 [00:04<00:09,  3.03it/s]\n",
      "Finding most likely periods: 100%|██████████| 1/1 [00:00<00:00, 17.08it/s]\n",
      " 34%|███▍      | 15/44 [00:05<00:10,  2.83it/s]\n",
      "Finding most likely periods: 100%|██████████| 1/1 [00:00<00:00, 19.60it/s]\n",
      " 36%|███▋      | 16/44 [00:05<00:08,  3.12it/s]\n",
      "Finding most likely periods:   0%|          | 0/1 [00:00<?, ?it/s]\u001b[A\n",
      "Finding most likely periods: 100%|██████████| 1/1 [00:00<00:00,  8.48it/s]\u001b[A\n",
      " 39%|███▊      | 17/44 [00:05<00:08,  3.16it/s]\n",
      "Finding most likely periods: 100%|██████████| 1/1 [00:00<00:00, 16.37it/s]\n",
      " 41%|████      | 18/44 [00:05<00:07,  3.37it/s]\n",
      "Finding most likely periods: 100%|██████████| 1/1 [00:00<00:00, 18.25it/s]\n",
      " 43%|████▎     | 19/44 [00:06<00:08,  3.05it/s]\n",
      "Finding most likely periods: 100%|██████████| 1/1 [00:00<00:00, 19.82it/s]\n",
      " 45%|████▌     | 20/44 [00:06<00:07,  3.27it/s]\n",
      "Finding most likely periods: 100%|██████████| 1/1 [00:00<00:00, 20.64it/s]\n",
      " 48%|████▊     | 21/44 [00:06<00:06,  3.50it/s]\n",
      "Finding most likely periods: 100%|██████████| 1/1 [00:00<00:00, 19.14it/s]\n",
      " 50%|█████     | 22/44 [00:07<00:07,  3.14it/s]\n",
      "Finding most likely periods: 100%|██████████| 1/1 [00:00<00:00, 21.14it/s]\n",
      " 52%|█████▏    | 23/44 [00:07<00:06,  3.42it/s]\n",
      "Finding most likely periods: 100%|██████████| 1/1 [00:00<00:00, 10.48it/s]\n",
      " 55%|█████▍    | 24/44 [00:08<00:09,  2.17it/s]\n",
      "Finding most likely periods: 100%|██████████| 1/1 [00:00<00:00, 20.07it/s]\n",
      " 57%|█████▋    | 25/44 [00:08<00:08,  2.22it/s]\n",
      "Finding most likely periods: 100%|██████████| 1/1 [00:00<00:00, 20.74it/s]\n",
      " 59%|█████▉    | 26/44 [00:09<00:07,  2.32it/s]\n",
      "Finding most likely periods: 100%|██████████| 1/1 [00:00<00:00, 19.68it/s]\n",
      " 61%|██████▏   | 27/44 [00:09<00:07,  2.38it/s]\n",
      "Finding most likely periods: 100%|██████████| 1/1 [00:00<00:00, 17.87it/s]\n",
      " 64%|██████▎   | 28/44 [00:09<00:06,  2.43it/s]\n",
      "Finding most likely periods: 100%|██████████| 1/1 [00:00<00:00, 20.07it/s]\n",
      " 66%|██████▌   | 29/44 [00:10<00:06,  2.47it/s]\n",
      "Finding most likely periods:   0%|          | 0/1 [00:00<?, ?it/s]\u001b[A\n",
      "Finding most likely periods: 100%|██████████| 1/1 [00:00<00:00,  8.40it/s]\u001b[A\n",
      " 68%|██████▊   | 30/44 [00:10<00:05,  2.67it/s]\n",
      "Finding most likely periods:   0%|          | 0/1 [00:00<?, ?it/s]\u001b[A\n",
      "Finding most likely periods: 100%|██████████| 1/1 [00:00<00:00,  8.62it/s]\u001b[A\n",
      " 70%|███████   | 31/44 [00:10<00:04,  2.84it/s]\n",
      "Finding most likely periods: 100%|██████████| 1/1 [00:00<00:00, 16.09it/s]\n",
      " 73%|███████▎  | 32/44 [00:11<00:04,  2.71it/s]\n",
      "Finding most likely periods: 100%|██████████| 1/1 [00:00<00:00, 20.04it/s]\n",
      " 75%|███████▌  | 33/44 [00:11<00:04,  2.67it/s]\n",
      "Finding most likely periods: 100%|██████████| 1/1 [00:00<00:00, 19.27it/s]\n",
      " 77%|███████▋  | 34/44 [00:11<00:03,  2.97it/s]\n",
      "Finding most likely periods: 100%|██████████| 1/1 [00:00<00:00, 18.49it/s]\n",
      " 80%|███████▉  | 35/44 [00:12<00:02,  3.22it/s]\n",
      "Finding most likely periods: 100%|██████████| 1/1 [00:00<00:00, 17.13it/s]\n",
      " 82%|████████▏ | 36/44 [00:12<00:02,  3.32it/s]\n",
      "Finding most likely periods: 100%|██████████| 1/1 [00:00<00:00, 18.83it/s]\n",
      " 84%|████████▍ | 37/44 [00:12<00:02,  2.92it/s]\n",
      "Finding most likely periods: 100%|██████████| 1/1 [00:00<00:00, 19.28it/s]\n",
      " 86%|████████▋ | 38/44 [00:13<00:01,  3.20it/s]\n",
      "Finding most likely periods: 100%|██████████| 1/1 [00:00<00:00, 19.23it/s]\n",
      " 89%|████████▊ | 39/44 [00:13<00:01,  2.96it/s]\n",
      "Finding most likely periods: 100%|██████████| 1/1 [00:00<00:00, 19.10it/s]\n",
      " 91%|█████████ | 40/44 [00:13<00:01,  3.24it/s]\n",
      "Finding most likely periods: 100%|██████████| 1/1 [00:00<00:00, 19.17it/s]\n",
      " 93%|█████████▎| 41/44 [00:14<00:00,  3.44it/s]\n",
      "Finding most likely periods: 100%|██████████| 1/1 [00:00<00:00, 18.97it/s]\n",
      " 95%|█████████▌| 42/44 [00:14<00:00,  3.59it/s]\n",
      "Finding most likely periods: 100%|██████████| 1/1 [00:00<00:00, 18.97it/s]\n",
      " 98%|█████████▊| 43/44 [00:14<00:00,  3.70it/s]\n",
      "Finding most likely periods: 100%|██████████| 1/1 [00:00<00:00, 19.89it/s]\n",
      "100%|██████████| 44/44 [00:14<00:00,  2.97it/s]\n"
     ]
    }
   ],
   "source": [
    "rot_rates_constrained = []\n",
    "\n",
    "# iterate though stars\n",
    "for star in tqdm(stars[::200]):\n",
    "    star_name = str(star) # the rotation rate function takes strings\n",
    "    \n",
    "    rot_rate = calc_rotation_rate_stella(star_name)\n",
    "    \n",
    "    # store result of rotation rate calculation\n",
    "    rot_rates_constrained += [rot_rate]"
   ]
  },
  {
   "cell_type": "code",
   "execution_count": 179,
   "id": "cc841c2b-f428-43ae-aa10-b91117287de4",
   "metadata": {
    "tags": []
   },
   "outputs": [
    {
     "data": {
      "text/plain": [
       "True"
      ]
     },
     "execution_count": 179,
     "metadata": {},
     "output_type": "execute_result"
    }
   ],
   "source": [
    "len(rot_rates_constrained) == len(rot_rates)"
   ]
  },
  {
   "cell_type": "markdown",
   "id": "f0a603e1-f7f7-4f92-8098-bf995cdd75f8",
   "metadata": {},
   "source": [
    "Looks like we didn't lose any rotation rates by being more precise."
   ]
  },
  {
   "cell_type": "markdown",
   "id": "5f113a30-3d72-4761-bada-a415235996c3",
   "metadata": {},
   "source": [
    "# Exercise 6"
   ]
  },
  {
   "cell_type": "markdown",
   "id": "990975ca-4465-42af-87a7-0625cea61b05",
   "metadata": {},
   "source": [
    "Now, let's be more stringent with our flares."
   ]
  },
  {
   "cell_type": "code",
   "execution_count": 180,
   "id": "22a8bdf9-02a3-4092-aa8f-76489de68e18",
   "metadata": {
    "tags": []
   },
   "outputs": [],
   "source": [
    "def calc_flare_rate(name):\n",
    "    \"\"\"\n",
    "    todo: add docstring.\n",
    "    \"\"\"\n",
    "    sectors = [1, 2] # only consider the first few sectors\n",
    "    lcs = []\n",
    "    # for name in ticids:\n",
    "    lc = search_lightcurve(target='TIC'+name, mission='TESS', sector=sectors, author='SPOC')\n",
    "    lc = lc.download_all()[0]\n",
    "    \n",
    "    cnn_stella.predict(cnn_file, times=lc.time.value, fluxes=lc.flux, errs=lc.flux_err)\n",
    "    \n",
    "    ff = stella.FitFlares(id=[lc.targetid],\n",
    "                      time=[lc.time.value],\n",
    "                      flux=[lc.flux.value],\n",
    "                      flux_err=[lc.flux_err.value],\n",
    "                      predictions=[cnn_stella.predictions[0]])\n",
    "    \n",
    "    ff.identify_flare_peaks(threshold=0.5)\n",
    "    \n",
    "    ff.flare_table\n",
    "    flare_rate = len(ff.flare_table) / (lc.time.value.max() - lc.time.value.min())    \n",
    "    return flare_rate"
   ]
  },
  {
   "cell_type": "code",
   "execution_count": 181,
   "id": "d4ab8db5-fb02-4dd7-b7e8-fc8215ccabc3",
   "metadata": {
    "tags": []
   },
   "outputs": [
    {
     "data": {
      "text/html": [
       "<div><i>Table length=5</i>\n",
       "<table id=\"table140167105385376\" class=\"table-striped table-bordered table-condensed\">\n",
       "<thead><tr><th>Target_ID</th><th>tpeak</th><th>amp</th><th>ed_s</th><th>rise</th><th>fall</th><th>prob</th></tr></thead>\n",
       "<thead><tr><th>float64</th><th>float64</th><th>float64</th><th>float64</th><th>float64</th><th>float64</th><th>float64</th></tr></thead>\n",
       "<tr><td>234295610.0</td><td>1336.5337294934927</td><td>1.0164458841762698</td><td>15.733979526711776</td><td>0.0001</td><td>0.01</td><td>0.7433666586875916</td></tr>\n",
       "<tr><td>234295610.0</td><td>1336.6670634792652</td><td>1.030084465920081</td><td>77.18607677976796</td><td>0.01</td><td>0.01</td><td>0.503517746925354</td></tr>\n",
       "<tr><td>234295610.0</td><td>1340.3767937687605</td><td>1.0188266236793928</td><td>19.615063032310957</td><td>0.0001</td><td>0.01</td><td>0.846248209476471</td></tr>\n",
       "<tr><td>234295610.0</td><td>1341.9031816217816</td><td>1.0166045607867409</td><td>17.27435594647144</td><td>0.0001</td><td>0.01</td><td>0.5975300669670105</td></tr>\n",
       "<tr><td>234295610.0</td><td>1344.9628970090544</td><td>1.0205275288684985</td><td>22.32319766900919</td><td>0.0001</td><td>0.01</td><td>0.715408205986023</td></tr>\n",
       "</table></div>"
      ],
      "text/plain": [
       "<Table length=5>\n",
       " Target_ID        tpeak               amp         ...   fall         prob       \n",
       "  float64        float64            float64       ... float64      float64      \n",
       "----------- ------------------ ------------------ ... ------- ------------------\n",
       "234295610.0 1336.5337294934927 1.0164458841762698 ...    0.01 0.7433666586875916\n",
       "234295610.0 1336.6670634792652  1.030084465920081 ...    0.01  0.503517746925354\n",
       "234295610.0 1340.3767937687605 1.0188266236793928 ...    0.01  0.846248209476471\n",
       "234295610.0 1341.9031816217816 1.0166045607867409 ...    0.01 0.5975300669670105\n",
       "234295610.0 1344.9628970090544 1.0205275288684985 ...    0.01  0.715408205986023"
      ]
     },
     "execution_count": 181,
     "metadata": {},
     "output_type": "execute_result"
    }
   ],
   "source": [
    "ff.flare_table"
   ]
  },
  {
   "cell_type": "code",
   "execution_count": 182,
   "id": "8c10f7fb-e54d-459b-aa60-c2e9e7b6732f",
   "metadata": {
    "tags": []
   },
   "outputs": [],
   "source": [
    "# ok, I think that the flare-finding thing already does this.\n",
    "                              "
   ]
  },
  {
   "cell_type": "markdown",
   "id": "a107c100-8af5-4da9-8a9b-03540d9c5d2f",
   "metadata": {},
   "source": [
    "# Exercise 7"
   ]
  },
  {
   "cell_type": "markdown",
   "id": "b0ed4b80-aeec-45b5-8ebc-6afae9f4ccb3",
   "metadata": {},
   "source": [
    "Now, let's assess the statistical signficance of our fit. There are a number of ways to do this, but one of the more rigorous is Bayesian model selection. Basically, we'll fit a linear model to our data and see if it is preferred over a flat line (with no relationship between our quantities).\n",
    "\n",
    "The below will borrow heavily from the emcee documentation. (todo: link)\n",
    "\n",
    "NOTE: IS THIS STILL FEASIBLE?"
   ]
  },
  {
   "cell_type": "code",
   "execution_count": 1,
   "id": "a4296da9-c1ee-42fc-b91b-3675801afc53",
   "metadata": {
    "ExecuteTime": {
     "end_time": "2023-08-21T01:40:15.950106Z",
     "start_time": "2023-08-21T01:40:15.193296Z"
    },
    "tags": []
   },
   "outputs": [],
   "source": [
    "import emcee"
   ]
  },
  {
   "cell_type": "code",
   "execution_count": null,
   "id": "79fdbe0c",
   "metadata": {
    "ExecuteTime": {
     "start_time": "2023-08-21T02:42:14.298Z"
    }
   },
   "outputs": [],
   "source": [
    "def model(x,  period, phase, amplitude, offset):\n",
    "    \"\"\"\n",
    "    returns a sine wave \n",
    "    \"\"\"\n",
    "    freq = 2 * np.pi / period\n",
    "    return amplitude * np.sin(freq * x + phase) + offset"
   ]
  },
  {
   "cell_type": "markdown",
   "id": "cc9772c3",
   "metadata": {},
   "source": [
    "We can set uniform priors on the period within 50% on each side, to be generous.\n",
    "\n",
    "Note: is this problematic because it's not in linear space?"
   ]
  },
  {
   "cell_type": "code",
   "execution_count": null,
   "id": "fda3b31e",
   "metadata": {},
   "outputs": [],
   "source": [
    "period_fit = 10"
   ]
  },
  {
   "cell_type": "code",
   "execution_count": null,
   "id": "12cba74b",
   "metadata": {
    "ExecuteTime": {
     "start_time": "2023-08-21T02:42:00.572Z"
    }
   },
   "outputs": [],
   "source": [
    "def log_prior(theta):\n",
    "    \"\"\"\n",
    "    some docstring here describing this as a top-hat prior.\n",
    "    \"\"\"\n",
    "    period, phase, amplitude, offset, log_f = theta\n",
    "    \n",
    "    \n",
    "    period_width = 0.5 * period_fit\n",
    "    period_max = period_fit + period_width\n",
    "    period_min = period_fit - period_width\n",
    "    \n",
    "    phase_min = 0\n",
    "    phase_max = 2 * np.pi # a full phase is 2pi\n",
    "    \n",
    "    amplitude_min = 0\n",
    "    amplitude_max = 10 # generous amplitude given the detrending\n",
    "    \n",
    "    offset_min = 0\n",
    "    offset_max = 2 # the phase curves should generally be normalized at 1.\n",
    "    \n",
    "    # these estimates come from the emcee line-fitting tutorial.\n",
    "    log_f_min = -10\n",
    "    log_f_max = 1\n",
    "    \n",
    "    \n",
    "    if period_min < period < period_max \\\n",
    "            and phase_min < phase < phase_max \\\n",
    "            and amplitude_min < amplitude < amplitude_max \\\n",
    "            and offset_min < offset < offset_max \\\n",
    "            and log_f_min < log_f < log_f_max:\n",
    "        \n",
    "        return 0.0\n",
    "    \n",
    "    # want to strongly penalize any walker that steps outside the prior.\n",
    "    return -np.inf"
   ]
  },
  {
   "cell_type": "code",
   "execution_count": null,
   "id": "c1ba0937",
   "metadata": {},
   "outputs": [],
   "source": [
    "def log_probability(theta, x, y, yerr):\n",
    "    lp = log_prior(theta)\n",
    "    if not np.isfinite(lp):\n",
    "        return -np.inf\n",
    "    return lp + log_likelihood(theta, x, y, yerr)"
   ]
  },
  {
   "cell_type": "code",
   "execution_count": null,
   "id": "773cc29e-d641-4654-b3dc-0d86984a92d4",
   "metadata": {
    "ExecuteTime": {
     "start_time": "2023-08-21T02:51:22.785Z"
    },
    "tags": []
   },
   "outputs": [],
   "source": [
    "def log_likelihood(theta, x, y, yerr):\n",
    "    period, phase, amplitude, offset, log_f = theta\n",
    "    model = calc_model(x,  period, phase, amplitude, offset)\n",
    "    sigma2 = yerr**2 + model**2 * np.exp(2 * log_f)\n",
    "    return -0.5 * np.sum((y - model) ** 2 / sigma2 + np.log(sigma2))"
   ]
  },
  {
   "cell_type": "code",
   "execution_count": null,
   "id": "f8545261",
   "metadata": {
    "ExecuteTime": {
     "start_time": "2023-08-21T02:51:30.608Z"
    }
   },
   "outputs": [],
   "source": [
    "# todo: reset x and y and yerr\n",
    "\n",
    "n_dim = 5\n",
    "n_walkers = 32 # seems fine. justify?\n",
    "n_steps = 5000 # seems fine. justify?\n",
    "\n",
    "initial_point = np.array([]) # incorporate as an array and not a list so that we can add to it, etc.\n",
    "gaussian_scatter_level = 1e-4 # seems fine. justify?\n",
    "\n",
    "# add some scatter to the walkers around the initial position.\n",
    "pos = initial_point + gaussian_scatter_level * np.random.randn(n_walkers, ndim)\n",
    "\n",
    "sampler = emcee.EnsembleSampler(\n",
    "    n_walkers, n_dim, log_probability, args=(x, y, yerr)\n",
    ")\n",
    "sampler.run_mcmc(pos, n_steps, progress=True);"
   ]
  },
  {
   "cell_type": "code",
   "execution_count": null,
   "id": "552884c5",
   "metadata": {},
   "outputs": [],
   "source": [
    "fig, axes = plt.subplots(n_dim, figsize=(10, 7), sharex=True)\n",
    "samples = sampler.get_chain()\n",
    "labels = ['period', 'phase', 'amplitude', 'offset', 'log_f']\n",
    "\n",
    "for i in range(n_dim):\n",
    "    ax = axes[i]\n",
    "    ax.plot(samples[:, :, i], \"k\", alpha=0.3)\n",
    "    ax.set_xlim(0, len(samples))\n",
    "    ax.set_ylabel(labels[i])\n",
    "    ax.yaxis.set_label_coords(-0.1, 0.5)\n",
    "\n",
    "axes[-1].set_xlabel(\"step number\");"
   ]
  },
  {
   "cell_type": "code",
   "execution_count": null,
   "id": "a7fe8ab9-88c4-4e5e-b3f7-76def21f3a60",
   "metadata": {
    "ExecuteTime": {
     "start_time": "2023-08-21T02:56:20.349Z"
    },
    "tags": []
   },
   "outputs": [],
   "source": [
    "# well, what's the error on it? let's say it's the width."
   ]
  },
  {
   "cell_type": "code",
   "execution_count": null,
   "id": "b26258c4",
   "metadata": {
    "ExecuteTime": {
     "start_time": "2023-08-21T02:56:36.808Z"
    }
   },
   "outputs": [],
   "source": [
    "tau = sampler.get_autocorr_time()\n",
    "print(tau)"
   ]
  },
  {
   "cell_type": "code",
   "execution_count": null,
   "id": "08f628b8",
   "metadata": {
    "ExecuteTime": {
     "start_time": "2023-08-21T02:56:41.621Z"
    }
   },
   "outputs": [],
   "source": [
    "flat_samples = sampler.get_chain(discard=100, thin=15, flat=True)\n",
    "print(flat_samples.shape)"
   ]
  },
  {
   "cell_type": "code",
   "execution_count": null,
   "id": "865373a9",
   "metadata": {},
   "outputs": [],
   "source": [
    "import corner\n",
    "\n",
    "fig = corner.corner(\n",
    "    flat_samples, labels=labels\n",
    ");"
   ]
  },
  {
   "cell_type": "markdown",
   "id": "c89546d2",
   "metadata": {},
   "source": [
    "Now that we've fit the primary periods, let's fit the underlying trend with a line!\n",
    "\n",
    "or maybe i should gaussian process the whole thing. I feel like that adds too much mathematical complexity, though!"
   ]
  },
  {
   "cell_type": "code",
   "execution_count": null,
   "id": "b6e33852-8aa7-4472-8e82-07f96b5728f7",
   "metadata": {
    "ExecuteTime": {
     "start_time": "2023-08-21T02:58:05.140Z"
    }
   },
   "outputs": [],
   "source": [
    "def log_prior(theta):\n",
    "    m, b, log_f = theta\n",
    "    if -5.0 < m < 0.5 and 0.0 < b < 10.0 and -10.0 < log_f < 1.0:\n",
    "        return 0.0\n",
    "    return -np.inf"
   ]
  },
  {
   "cell_type": "code",
   "execution_count": null,
   "id": "4a639d78",
   "metadata": {
    "ExecuteTime": {
     "start_time": "2023-08-21T02:58:05.488Z"
    }
   },
   "outputs": [],
   "source": [
    "def log_likelihood(theta, x, y, yerr):\n",
    "    m, b, log_f = theta\n",
    "    model = m * x + b\n",
    "    sigma2 = yerr**2 + model**2 * np.exp(2 * log_f)\n",
    "    return -0.5 * np.sum((y - model) ** 2 / sigma2 + np.log(sigma2))"
   ]
  },
  {
   "cell_type": "code",
   "execution_count": null,
   "id": "c9bbbe11",
   "metadata": {
    "ExecuteTime": {
     "start_time": "2023-08-21T02:58:38.621Z"
    }
   },
   "outputs": [],
   "source": [
    "\n",
    "# todo: reset x and y and yerr\n",
    "n_dim = 3\n",
    "n_walkers = 32 # seems fine. justify?\n",
    "n_steps = 5000 # seems fine. justify?\n",
    "\n",
    "initial_point = np.array([]) # incorporate as an array and not a list so that we can add to it, etc.\n",
    "gaussian_scatter_level = 1e-4 # seems fine. justify?\n",
    "\n",
    "# add some scatter to the walkers around the initial position.\n",
    "pos = initial_point + gaussian_scatter_level * np.random.randn(n_walkers, ndim)\n",
    "\n",
    "sampler = emcee.EnsembleSampler(\n",
    "    n_walkers, n_dim, log_probability, args=(x, y, yerr)\n",
    ")\n",
    "sampler.run_mcmc(pos, n_steps, progress=True);\n",
    "\n",
    "fig, axes = plt.subplots(n_dim, figsize=(10, 7), sharex=True)\n",
    "samples = sampler.get_chain()\n",
    "labels = ['m', 'b', 'log_f']\n",
    "\n",
    "for i in range(n_dim):\n",
    "    ax = axes[i]\n",
    "    ax.plot(samples[:, :, i], \"k\", alpha=0.3)\n",
    "    ax.set_xlim(0, len(samples))\n",
    "    ax.set_ylabel(labels[i])\n",
    "    ax.yaxis.set_label_coords(-0.1, 0.5)\n",
    "\n",
    "axes[-1].set_xlabel(\"step number\");"
   ]
  },
  {
   "cell_type": "code",
   "execution_count": null,
   "id": "bfddba04",
   "metadata": {},
   "outputs": [],
   "source": [
    "tau = sampler.get_autocorr_time()\n",
    "print(tau)\n",
    "\n",
    "flat_samples = sampler.get_chain(discard=100, thin=15, flat=True)\n",
    "print(flat_samples.shape)\n",
    "\n",
    "import corner\n",
    "\n",
    "fig = corner.corner(\n",
    "    flat_samples, labels=labels\n",
    ");"
   ]
  },
  {
   "cell_type": "code",
   "execution_count": null,
   "id": "91e32e6f",
   "metadata": {},
   "outputs": [],
   "source": [
    "# now let's fit a flat line to the data.\n",
    "\n",
    "def log_prior(theta):\n",
    "    b, log_f = theta\n",
    "     0.0 < b < 2 and -10.0 < log_f < 1.0:\n",
    "        return 0.0\n",
    "    return -np.inf\n",
    "\n",
    "def log_likelihood(theta, x, y, yerr):\n",
    "    b, log_f = theta\n",
    "    model =  b\n",
    "    sigma2 = yerr**2 + model**2 * np.exp(2 * log_f)\n",
    "    return -0.5 * np.sum((y - model) ** 2 / sigma2 + np.log(sigma2))\n",
    "\n",
    "\n",
    "# todo: reset x and y and yerr\n",
    "n_dim = 2\n",
    "n_walkers = 32 # seems fine. justify?\n",
    "n_steps = 5000 # seems fine. justify?\n",
    "\n",
    "initial_point = np.array([]) # incorporate as an array and not a list so that we can add to it, etc.\n",
    "gaussian_scatter_level = 1e-4 # seems fine. justify?\n",
    "\n",
    "# add some scatter to the walkers around the initial position.\n",
    "pos = initial_point + gaussian_scatter_level * np.random.randn(n_walkers, ndim)\n",
    "\n",
    "sampler = emcee.EnsembleSampler(\n",
    "    n_walkers, n_dim, log_probability, args=(x, y, yerr)\n",
    ")\n",
    "sampler.run_mcmc(pos, n_steps, progress=True);\n",
    "\n",
    "fig, axes = plt.subplots(n_dim, figsize=(10, 7), sharex=True)\n",
    "samples = sampler.get_chain()\n",
    "labels = ['m', 'b', 'log_f']\n",
    "\n",
    "for i in range(n_dim):\n",
    "    ax = axes[i]\n",
    "    ax.plot(samples[:, :, i], \"k\", alpha=0.3)\n",
    "    ax.set_xlim(0, len(samples))\n",
    "    ax.set_ylabel(labels[i])\n",
    "    ax.yaxis.set_label_coords(-0.1, 0.5)\n",
    "\n",
    "axes[-1].set_xlabel(\"step number\");\n",
    "\n",
    "tau = sampler.get_autocorr_time()\n",
    "print(tau)\n",
    "\n",
    "flat_samples = sampler.get_chain(discard=100, thin=15, flat=True)\n",
    "print(flat_samples.shape)\n",
    "\n",
    "import corner\n",
    "\n",
    "fig = corner.corner(\n",
    "    flat_samples, labels=labels\n",
    ");"
   ]
  },
  {
   "cell_type": "code",
   "execution_count": null,
   "id": "c1092d91",
   "metadata": {
    "ExecuteTime": {
     "start_time": "2023-08-21T03:04:20.103Z"
    }
   },
   "outputs": [],
   "source": []
  },
  {
   "cell_type": "code",
   "execution_count": null,
   "id": "03c78e8c",
   "metadata": {
    "ExecuteTime": {
     "start_time": "2023-08-21T03:05:10.397Z"
    }
   },
   "outputs": [],
   "source": [
    "def calc_bic(log_likelihood, n_points, n_params):\n",
    "    \"\"\"\n",
    "    calculates the Bayesian Information Criterion.\n",
    "    \"\"\"\n",
    "    bic = -2 * log_likelihood + log(n_points) * n_params\n",
    "    return bic"
   ]
  },
  {
   "cell_type": "code",
   "execution_count": null,
   "id": "f28227dc",
   "metadata": {
    "ExecuteTime": {
     "start_time": "2023-08-21T03:08:03.981Z"
    }
   },
   "outputs": [],
   "source": [
    "# do BIC.\n",
    "log_likelihood_trend = ...(theta, x, y, yerr) # slice through the middle!\n",
    "log_likelihood_flat = ...(theta, x, y, yerr) # slice through the middle!\n",
    "\n",
    "bic_trend = calc_bic(log_likelihood_trend, n_points, n_params)\n",
    "bic_flat = calc_bic(log_likelihood_flat, n_points, n_params)\n",
    "\n",
    "delta_bic = bic_trend - bic_flat\n",
    "\n"
   ]
  },
  {
   "cell_type": "markdown",
   "id": "6279689a",
   "metadata": {},
   "source": [
    "We've calcualted a $\\Delta$BIC of __. In general, we look for a $\\Delta$BIC greater than 2 before we consider the data to prefer one model over the other (cite?)."
   ]
  },
  {
   "cell_type": "markdown",
   "id": "98466ac8",
   "metadata": {},
   "source": [
    "That's a long way of saying that the trend we found was not statistically significant — even though it aligned with our predictions!\n",
    "\n",
    "That's not to say that our approach is flawed. It may be that further observations could help us differentiate between a trend and a flat line."
   ]
  },
  {
   "cell_type": "code",
   "execution_count": null,
   "id": "eda77025",
   "metadata": {},
   "outputs": [],
   "source": [
    "def BI"
   ]
  }
 ],
 "metadata": {
  "kernelspec": {
   "display_name": "Python 3 (ipykernel)",
   "language": "python",
   "name": "python3"
  },
  "language_info": {
   "codemirror_mode": {
    "name": "ipython",
    "version": 3
   },
   "file_extension": ".py",
   "mimetype": "text/x-python",
   "name": "python",
   "nbconvert_exporter": "python",
   "pygments_lexer": "ipython3",
   "version": "3.10.5"
  }
 },
 "nbformat": 4,
 "nbformat_minor": 5
}
