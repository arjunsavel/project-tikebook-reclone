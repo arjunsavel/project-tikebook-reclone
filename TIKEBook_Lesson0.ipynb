{
 "cells": [
  {
   "cell_type": "markdown",
   "id": "bcca7726",
   "metadata": {},
   "source": [
    "# Lesson 0: Working on TIKE, with Cloud Data"
   ]
  },
  {
   "cell_type": "markdown",
   "id": "007a556d",
   "metadata": {},
   "source": [
    "## Learning Goals: \n",
    "- Learn about TIKE and working on a cloud platform.\n",
    "- Define cloud terminology: what is a “bucket” or a server? For that matter, what is the “cloud”?\n",
    "- Access data through astroquery by name, region, or criteria\n",
    "- Download TESS data and show an image"
   ]
  },
  {
   "cell_type": "markdown",
   "id": "43d45ea7",
   "metadata": {},
   "source": [
    "<!-- ## Lesson Outline:\n",
    "- Go over TIKE: what can it do? What are its limits (memory, processing power, etc.)?\n",
    "- Cloud overview. What does it mean to work “on the cloud”? How is this different from working on a laptop? [Provide motivation: why are we doing this?]\n",
    "- Demo cloud data access using astroquery. Meaningfully interact with data (maybe just read FITS headers) so people see they don’t need to perform a download.\n",
    " -->"
   ]
  },
  {
   "cell_type": "markdown",
   "id": "80a708c0",
   "metadata": {},
   "source": [
    "## Prerequisites\n",
    "If you are unfamiliar with Python, now is your chance to make sure you understand the basics before continuing. Basics include: \n",
    "- installing and importing packages (conda or pip)\n",
    "- data object types (floats, ints, strings, etc.)\n",
    "- arrays and lists\n",
    "- for loops and if statements\n",
    "#### We will use these things but may not explain them in depth."
   ]
  },
  {
   "cell_type": "markdown",
   "id": "4a0551fc",
   "metadata": {},
   "source": [
    "## What is TIKE?\n",
    "\n",
    "TIKE stands for the Time series Integrated Knowledge Engine.\n",
    "\n",
    "TIKE uses a web-based platform, called JupyterHub, which enables users to run Python Notebooks and other software remotely in a web browser without needing to install anything on your local computer. Notebooks are a convenient way of packaging code, its outputs, and visualizations. TIKE is intended for astronomical researchers (or students like you!) to access and analyze data from NASA's Kepler or TESS missions. You can find more info on TESS [here](https://archive.stsci.edu/missions-and-data/tess#section-33e8b9e7-9cc2-414a-b830-c88f2b409b13). \n",
    "\n",
    "TIKE is continually maintained and updated by real humans, so if you run into issues please don't hesistate to let us know or send us your suggestions for packages and tutorials. You can do that either through the [MAST help desk](mailto:archive@stsci.edu) or [opening an issue on GitHub](https://github.com/spacetelescope/tike_content).\n",
    "\n",
    "<!-- #### Wait...what is Github? \n",
    "GitHub is a code hosting platform for version control and collaboration. It lets you and others work together on coding projects from anywhere. And you're in luck! Github hosts a beginnner course on how to get started here: https://github.com/skills/introduction-to-github.  -->"
   ]
  },
  {
   "cell_type": "markdown",
   "id": "fee3a497",
   "metadata": {},
   "source": [
    "## What is the \"cloud\"?\n",
    "\n",
    "The \"cloud\" is a term used to describe a global network of servers, each with a unique function. The cloud is not a physical entity, but instead is a vast network of remote servers around the globe which are hooked together and meant to operate as a single data ecosystem. In other words, the cloud refers to servers that are accessed over the internet, and the software and databases that run on those servers. \n",
    "\n",
    "#### So...whats a server? \n",
    "A server is a computer or computer program which manages access to a centralized resource or service in a network. This can be a physical computer somewhere, or a virtual instance. Think of the server as the waiter in a restaurant, where your data is the food. Like in a restaurant, if there are a lot of people trying to order food (or query data) at one time, it can overwhelm the server and the service will be slower. \n",
    "\n",
    "Additionally, inside a cloud you'll also find something called a \"bucket\", these are basically the data structures that hold your data on the cloud, all the data on a cloud must be contained in a bucket. You can use buckets to organize your data and control access to your data, but unlike directories and folders, you cannot nest buckets.\n",
    "\n",
    "#### Why would I want to work on the cloud?\n",
    "Using the cloud has several benefits, the major one being that you can access data whenever and wherever you want to, from any device, as long as you have WiFi. Additionally, working on the cloud means you don't have to download as much data to your machine, saving memory space and run time. \n",
    "\n",
    "\n",
    "Some common examples of clouds that one can host data on are: \n",
    "   - Amazon Web Services (AWS)\n",
    "   - Google Cloud\n",
    "   - Microsoft Azure\n",
    "   - IBM Cloud\n",
    "\n",
    "The Mikulski Archive for Space Telescopes (MAST) data archive provides a copy of several large NASA data sets via Amazon Web Services (AWS) as part of the MAST AWS Public Datasets program. The data provided by MAST is free to use and download, no need for an AWS account!\n",
    "\n",
    "### What's the difference between working on the cloud and working on TIKE?\n",
    "TIKE allows you to acess data without having to download it to your local machine, everything you do and use can be stored on the TIKE server, it is the platform through which you can access cloud data. In essense, you don't need to understand how cloud computing works in order to utulize its power on TIKE. TIKE makes things as easy as opening up a Jupyter Notebook! "
   ]
  },
  {
   "cell_type": "markdown",
   "id": "fa49beab",
   "metadata": {},
   "source": [
    "## How do I access the cloud?\n",
    "There are many options for accessing data on the cloud, including command line tools and various Python packages. For this lesson, we will be using a Python data query package called Astroquery. \n",
    "\n",
    "Astroquery is a Python package inside the Astropy Project. The Astropy Project is a community effort to develop a common core package for astronomy in Python and fosters an ecosystem of interoperable astronomy packages. Astroquery is a package that allows users to access a variety of data archives for the purposes of astronomical research. We will use it to access TESS data on the cloud hosted by MAST. \n"
   ]
  },
  {
   "cell_type": "markdown",
   "id": "d991a8ab",
   "metadata": {},
   "source": [
    "## Astroquery demonstration"
   ]
  },
  {
   "cell_type": "markdown",
   "id": "d670942a",
   "metadata": {},
   "source": [
    "### Imports\n",
    "The following cell holds the imported packages. These packages are necessary for running the rest of the cells in this notebook, and you can expect to use some of these packages almost everytime you do astronomical research. A description of each import is as follows:\n",
    "\n",
    "* `numpy` to handle array mathematics\n",
    "* `pandas` to handle date conversions\n",
    "* `fits` from astropy.io for accessing FITS files\n",
    "* `Table` from astropy.table for creating tidy tables of the data\n",
    "* `WCS` from astropy.wcs for storing World Coordinate Systems information \n",
    "* `SkyCoord` from astropy.coordinates for defining RA and Dec for targets\n",
    "* `matplotlib.pyplot` for plotting data and images\n",
    "* `Mast` and `Observations` from astroquery.mast for querying data and observations from the MAST archive"
   ]
  },
  {
   "cell_type": "code",
   "execution_count": 6,
   "id": "2c8b5772",
   "metadata": {},
   "outputs": [],
   "source": [
    "from astropy.io import fits\n",
    "from astropy.table import Table\n",
    "from astropy.wcs import WCS\n",
    "from astropy.coordinates import SkyCoord\n",
    "from astroquery.mast import Mast, Observations\n",
    "from astropy.io import ascii\n",
    "import requests\n",
    "import numpy as np\n",
    "import pandas as pd\n",
    "import matplotlib.pyplot as plt\n",
    "\n",
    "%matplotlib inline"
   ]
  },
  {
   "cell_type": "markdown",
   "id": "e992b1ec",
   "metadata": {},
   "source": [
    "### Querying TESS data from MAST\n",
    "We will be using the Observations class in the astroquery.mast subpackage from Astroquery. We will show you a few different ways to access data on an object in the TESS data products. \n",
    "Accessing data can be done with the following functions:\n",
    "- query_object( )\n",
    "- query_region( )\n",
    "- query_criteria( )\n",
    "\n",
    "All of which provide different levels of scrunity for the data you would like to retrieve. \n"
   ]
  },
  {
   "cell_type": "markdown",
   "id": "839d3843",
   "metadata": {},
   "source": [
    "### Choosing a target\n",
    "First, we have to choose star that you'd like to get TESS data of. We can query the MAST cloud server using just the name of the target with the query_object( ) function. It is best practice to reduce the size of the data you are accessing by selecting only data within a certain radius of the target. \n",
    "\n",
    "Let's start with the star Fomalhaut, the brightest star in the southern constellation of Piscis Austrinus, the \"Southern Fish\", and one of the brightest stars in the night sky.\n",
    "\n",
    "<img src=\"https://upload.wikimedia.org/wikipedia/commons/a/ae/Heic0821f.jpg\" width=\"300\">\n",
    "\n",
    "It is located at Right ascension: 22h 57m 39.0465s, Declination: −29° 37′ 20.050″ with an aparant magnitude in the V-band of 1.16. \n"
   ]
  },
  {
   "cell_type": "markdown",
   "id": "3460deed",
   "metadata": {},
   "source": [
    "### query_object( )\n",
    "We can query the MAST cloud server using just the name of the target with the query_object( ) function. It is best practice to reduce the size of the data you are accessing by selecting only data within a certain radius of the target. \n"
   ]
  },
  {
   "cell_type": "code",
   "execution_count": null,
   "id": "a88960dd",
   "metadata": {},
   "outputs": [],
   "source": [
    "#Query MAST for TESS observations of Fomalhaut \n",
    "obs = Observations.query_object(\"Fomalhaut\", radius=\"1s\")\n",
    "# want = (obs['obs_collection'] == \"TESS\") & (obs['sequence_number'] == 29) & (obs['dataproduct_type'] == 'timeseries')\n",
    "\n",
    "#Print out the observations we have queried \n",
    "obs['obs_collection', 'project','obs_id']\n",
    "\n",
    "#Let's parse these observations for just those from TESS\n",
    "want = (obs['obs_collection'] == \"TESS\")\n",
    "\n",
    "#Print out the observations we have queried \n",
    "obs[want]['obs_collection', 'project','obs_id']\n"
   ]
  },
  {
   "cell_type": "markdown",
   "id": "7e1be908",
   "metadata": {},
   "source": [
    "<div class=\"alert-success\">\n",
    "    <b>Using this query method, how many TESS observations are within 1 arcsecond of Trappist-1?</b>\n",
    "</div>"
   ]
  },
  {
   "cell_type": "markdown",
   "id": "d1b4e06e",
   "metadata": {},
   "source": [
    "ANS: \n",
    "<div class=\"alert-danger\">\n",
    "    <b></b>\n",
    "</div>"
   ]
  },
  {
   "cell_type": "markdown",
   "id": "292e4f1d",
   "metadata": {},
   "source": [
    "### query_region( )\n",
    "This function allows us to choose a specific region of the sky and query all the data that TESS has inside that region, defined by some radius from a set of coordinates. So, we will use the coordinates for Fomalhaut with a 2 arcsecond radius around it. \n",
    "\n",
    "TESS requires your coordinates to be converted into degrees. For the Right Ascension, we know that there are 15° in each hour (24 hr a day to rotate 360° = 15° per hour), so let's convert everything to hours and then mulitply by 15. We can do this by dividing our seconds by 3600, dividing our minutes by 60, leaving the hours alone, and adding them all up. For the declination, we can convert to degrees by dividing our arcseconds by 3600, dividing our arcminutes by 60, leaving the degrees alone, and then adding all three values together. So, for Fomalhaut this would be:\n",
    "\n",
    "$ RA = (22h + 57m/60 + 39.0465s/3600) * 15 = 344.41269272° $\n",
    "\n",
    "$ DEC = -29° + 37'/60 + 20.050\"/3600 = -29.62223703° $\n",
    "\n",
    "#### Packages for unit conversion\n",
    "With all that being said, there are robust packages out there for unit conversions. Astropy.units is capable of storing variables with units built-in to the data object and will provide simple conversion options. We will provide an example of this down the line."
   ]
  },
  {
   "cell_type": "code",
   "execution_count": 3,
   "id": "d06399ef",
   "metadata": {},
   "outputs": [
    {
     "name": "stdout",
     "output_type": "stream",
     "text": [
      "obs_collection project                      obs_id                    \n",
      "-------------- ------- -----------------------------------------------\n",
      "          TESS    TESS                                  tess-s0002-1-1\n",
      "          TESS    TESS                                  tess-s0029-1-1\n",
      "          TESS    TESS tess2018234235059-s0002-0000000047552789-0121-s\n",
      "          TESS    TESS tess2020238165205-s0029-0000000047552789-0193-s\n"
     ]
    }
   ],
   "source": [
    "coordinates = SkyCoord(344.41269272, -29.62223703, unit=\"deg\") #defaults to ICRS frame\n",
    "\n",
    "observations = Observations.query_region(coordinates, radius = \"2s\")\n",
    "#Parse the query for only TESS observations\n",
    "obs_wanted = (observations['obs_collection'] == 'TESS') #observations['dataproduct_type'] == 'timeseries')\n",
    "\n",
    "#Let's take a peek at the data\n",
    "print( observations[obs_wanted]['obs_collection', 'project','obs_id'] )"
   ]
  },
  {
   "cell_type": "markdown",
   "id": "e12ba193",
   "metadata": {},
   "source": [
    " <div class=\"alert-success\">\n",
    "    <b>Try to query a larger region, does TESS have more observations when the search radius is larger?</b>\n",
    "</div>"
   ]
  },
  {
   "cell_type": "markdown",
   "id": "7f015f61",
   "metadata": {},
   "source": [
    "ANS: \n",
    "<div class=\"alert-danger\">\n",
    "    No, TESS only has 4 observations on this region of the sky, even when the search radius is made larger around these coordinates, no other observations show up. \n",
    "</div>"
   ]
  },
  {
   "cell_type": "markdown",
   "id": "115b018e",
   "metadata": {},
   "source": [
    " <div class=\"alert-success\">\n",
    "    <b>In what scenarios would query_region be a better choice than query_object?</b>\n",
    "</div>"
   ]
  },
  {
   "cell_type": "markdown",
   "id": "aa10592a",
   "metadata": {},
   "source": [
    "ANS: \n",
    " <div class=\"alert-danger\">\n",
    "    query_region allows you to not specify the object name if you only have or would only like to input the coordinates with a search radius. query_object is just a wrapper function for this which allows you to use an object name if you have one. \n",
    "</div>"
   ]
  },
  {
   "cell_type": "markdown",
   "id": "bc4cc276",
   "metadata": {},
   "source": [
    "### query_criteria( )\n",
    "This function allows us to give astroquery a larger number of parameters to refine the data to exactly what we want in just one line of code. "
   ]
  },
  {
   "cell_type": "code",
   "execution_count": 4,
   "id": "a36aa989",
   "metadata": {},
   "outputs": [
    {
     "data": {
      "text/html": [
       "<i>Table length=4</i>\n",
       "<table id=\"table140388683894304-895982\" class=\"table-striped table-bordered table-condensed\">\n",
       "<thead><tr><th>idx</th><th>instrument_name</th><th>filters</th><th>target_name</th><th>obs_id</th><th>calib_level</th><th>t_exptime</th></tr></thead>\n",
       "<tr><td>0</td><td>Photometer</td><td>TESS</td><td>47552789</td><td>tess2020238165205-s0029-0000000047552789-0193-s</td><td>2</td><td>120.0</td></tr>\n",
       "<tr><td>1</td><td>Photometer</td><td>TESS</td><td>TESS FFI</td><td>tess-s0029-1-1</td><td>3</td><td>475.199793</td></tr>\n",
       "<tr><td>2</td><td>Photometer</td><td>TESS</td><td>47552789</td><td>tess2018234235059-s0002-0000000047552789-0121-s</td><td>2</td><td>120.0</td></tr>\n",
       "<tr><td>3</td><td>Photometer</td><td>TESS</td><td>TESS FFI</td><td>tess-s0002-1-1</td><td>3</td><td>1425.599438</td></tr>\n",
       "</table><style>table.dataTable {clear: both; width: auto !important; margin: 0 !important;}\n",
       ".dataTables_info, .dataTables_length, .dataTables_filter, .dataTables_paginate{\n",
       "display: inline-block; margin-right: 1em; }\n",
       ".paginate_button { margin-right: 5px; }\n",
       "</style>\n",
       "<script>\n",
       "\n",
       "var astropy_sort_num = function(a, b) {\n",
       "    var a_num = parseFloat(a);\n",
       "    var b_num = parseFloat(b);\n",
       "\n",
       "    if (isNaN(a_num) && isNaN(b_num))\n",
       "        return ((a < b) ? -1 : ((a > b) ? 1 : 0));\n",
       "    else if (!isNaN(a_num) && !isNaN(b_num))\n",
       "        return ((a_num < b_num) ? -1 : ((a_num > b_num) ? 1 : 0));\n",
       "    else\n",
       "        return isNaN(a_num) ? -1 : 1;\n",
       "}\n",
       "\n",
       "require.config({paths: {\n",
       "    datatables: 'https://cdn.datatables.net/1.10.12/js/jquery.dataTables.min'\n",
       "}});\n",
       "require([\"datatables\"], function(){\n",
       "    console.log(\"$('#table140388683894304-895982').dataTable()\");\n",
       "    \n",
       "jQuery.extend( jQuery.fn.dataTableExt.oSort, {\n",
       "    \"optionalnum-asc\": astropy_sort_num,\n",
       "    \"optionalnum-desc\": function (a,b) { return -astropy_sort_num(a, b); }\n",
       "});\n",
       "\n",
       "    $('#table140388683894304-895982').dataTable({\n",
       "        order: [],\n",
       "        pageLength: 10,\n",
       "        lengthMenu: [[10, 25, 50, 100, 500, 1000, -1], [10, 25, 50, 100, 500, 1000, 'All']],\n",
       "        pagingType: \"full_numbers\",\n",
       "        columnDefs: [{targets: [0, 5, 6], type: \"optionalnum\"}]\n",
       "    });\n",
       "});\n",
       "</script>\n"
      ],
      "text/plain": [
       "<IPython.core.display.HTML object>"
      ]
     },
     "execution_count": 4,
     "metadata": {},
     "output_type": "execute_result"
    }
   ],
   "source": [
    "TESS_table = Observations.query_criteria(objectname=\"Fomalhaut\",radius=\"2 arcsec\", obs_collection=\"TESS\") #dataproduct_type=\"timeseries\"\n",
    "\n",
    "# Let's print out some relevant columns of this table\n",
    "columns = [\"instrument_name\",\"filters\",\"target_name\",\"obs_id\",\"calib_level\",\"t_exptime\"]\n",
    "TESS_table[columns].show_in_notebook(display_length=10)"
   ]
  },
  {
   "cell_type": "markdown",
   "id": "e64b53af",
   "metadata": {},
   "source": [
    "<div class=\"alert-success\">\n",
    "    <b>How could you tell if the query produced no data?</b>\n",
    "</div>"
   ]
  },
  {
   "cell_type": "markdown",
   "id": "456670a9",
   "metadata": {},
   "source": [
    "ANS: \n",
    "<div class=\"alert-danger\">\n",
    "    The table length would = 0\n",
    "</div>"
   ]
  },
  {
   "cell_type": "markdown",
   "id": "f24313dc",
   "metadata": {},
   "source": [
    "<div class=\"alert-success\">\n",
    "    <b>Which query function is the most general/broad/unspecific/etc. (to choose right word)? How can you tell?</b>\n",
    "</div>"
   ]
  },
  {
   "cell_type": "markdown",
   "id": "42bafbaa",
   "metadata": {},
   "source": [
    "ANS: \n",
    "<div class=\"alert-danger\">\n",
    "    query_object is the most general, if you don't \n",
    "    parse the results it will return any observation that MAST has from any mission for that target name (not just TESS). \n",
    "</div>"
   ]
  },
  {
   "cell_type": "markdown",
   "id": "bc03f5fe",
   "metadata": {},
   "source": [
    "### Plot a Full Frame Image\n",
    "We can see from our observation table that some of the data TESS has on Fomalhaut are Full Frame Images. These will be stored in FITS files which can be downloaded and viewed on TIKE. \n",
    "\n",
    "#### What is a FITS file?\n",
    "File Image Transport System (FITS) is a file format designed to store, transmit, and manipulate scientific images and associated data. It is the most widely used file type in astronomical research. A FITS file consists of one or more Header + Data Units (HDUs), where the first HDU is called the primary HDU, or primary array. The primary array may be empty or contain an N-dimensional array of pixels, such as a 1-D spectrum, a 2-D image, or a 3-D data cube. \n",
    "\n",
    "For more info on FITS files, here is a link to the FITS official [website](https://fits.gsfc.nasa.gov/). "
   ]
  },
  {
   "cell_type": "code",
   "execution_count": 5,
   "id": "870832fb",
   "metadata": {},
   "outputs": [
    {
     "data": {
      "text/html": [
       "<div><i>Table masked=True length=9760</i>\n",
       "<table id=\"table140388683897856\" class=\"table-striped table-bordered table-condensed\">\n",
       "<thead><tr><th>obsID</th><th>obs_collection</th><th>dataproduct_type</th><th>obs_id</th><th>description</th><th>type</th><th>dataURI</th><th>productType</th><th>productGroupDescription</th><th>productSubGroupDescription</th><th>productDocumentationURL</th><th>project</th><th>prvversion</th><th>proposal_id</th><th>productFilename</th><th>size</th><th>parent_obsid</th><th>dataRights</th><th>calib_level</th></tr></thead>\n",
       "<thead><tr><th>str8</th><th>str4</th><th>str10</th><th>str47</th><th>str29</th><th>str1</th><th>str73</th><th>str7</th><th>str28</th><th>str4</th><th>str1</th><th>str4</th><th>str20</th><th>str15</th><th>str55</th><th>int64</th><th>str8</th><th>str6</th><th>int64</th></tr></thead>\n",
       "<tr><td>60896979</td><td>TESS</td><td>image</td><td>tess2018235142941-s0002-1-1-0121-s</td><td>Calibrated full frame image</td><td>S</td><td>mast:TESS/product/tess2018235142941-s0002-1-1-0121-s_ffic.fits</td><td>SCIENCE</td><td>--</td><td>FFIC</td><td>--</td><td>SPOC</td><td>spoc-5.0.16-20201026</td><td>N/A</td><td>tess2018235142941-s0002-1-1-0121-s_ffic.fits</td><td>35536320</td><td>60902953</td><td>PUBLIC</td><td>2</td></tr>\n",
       "<tr><td>60896979</td><td>TESS</td><td>image</td><td>tess2018235142941-s0002-1-1-0121-s</td><td>Uncalibrated full frame image</td><td>S</td><td>mast:TESS/product/tess2018235142941-s0002-1-1-0121-s_ffir.fits</td><td>SCIENCE</td><td>--</td><td>FFIR</td><td>--</td><td>SPOC</td><td>spoc-5.0.16-20201026</td><td>N/A</td><td>tess2018235142941-s0002-1-1-0121-s_ffir.fits</td><td>17769600</td><td>60902953</td><td>PUBLIC</td><td>1</td></tr>\n",
       "<tr><td>60887674</td><td>TESS</td><td>image</td><td>tess2018235145941-s0002-1-1-0121-s</td><td>Calibrated full frame image</td><td>S</td><td>mast:TESS/product/tess2018235145941-s0002-1-1-0121-s_ffic.fits</td><td>SCIENCE</td><td>--</td><td>FFIC</td><td>--</td><td>SPOC</td><td>spoc-5.0.16-20201026</td><td>N/A</td><td>tess2018235145941-s0002-1-1-0121-s_ffic.fits</td><td>35547840</td><td>60902953</td><td>PUBLIC</td><td>2</td></tr>\n",
       "<tr><td>60887674</td><td>TESS</td><td>image</td><td>tess2018235145941-s0002-1-1-0121-s</td><td>Uncalibrated full frame image</td><td>S</td><td>mast:TESS/product/tess2018235145941-s0002-1-1-0121-s_ffir.fits</td><td>SCIENCE</td><td>--</td><td>FFIR</td><td>--</td><td>SPOC</td><td>spoc-5.0.16-20201026</td><td>N/A</td><td>tess2018235145941-s0002-1-1-0121-s_ffir.fits</td><td>17775360</td><td>60902953</td><td>PUBLIC</td><td>1</td></tr>\n",
       "<tr><td>60895527</td><td>TESS</td><td>image</td><td>tess2018235152941-s0002-1-1-0121-s</td><td>Calibrated full frame image</td><td>S</td><td>mast:TESS/product/tess2018235152941-s0002-1-1-0121-s_ffic.fits</td><td>SCIENCE</td><td>--</td><td>FFIC</td><td>--</td><td>SPOC</td><td>spoc-5.0.16-20201026</td><td>N/A</td><td>tess2018235152941-s0002-1-1-0121-s_ffic.fits</td><td>35547840</td><td>60902953</td><td>PUBLIC</td><td>2</td></tr>\n",
       "<tr><td>60895527</td><td>TESS</td><td>image</td><td>tess2018235152941-s0002-1-1-0121-s</td><td>Uncalibrated full frame image</td><td>S</td><td>mast:TESS/product/tess2018235152941-s0002-1-1-0121-s_ffir.fits</td><td>SCIENCE</td><td>--</td><td>FFIR</td><td>--</td><td>SPOC</td><td>spoc-5.0.16-20201026</td><td>N/A</td><td>tess2018235152941-s0002-1-1-0121-s_ffir.fits</td><td>17775360</td><td>60902953</td><td>PUBLIC</td><td>1</td></tr>\n",
       "<tr><td>...</td><td>...</td><td>...</td><td>...</td><td>...</td><td>...</td><td>...</td><td>...</td><td>...</td><td>...</td><td>...</td><td>...</td><td>...</td><td>...</td><td>...</td><td>...</td><td>...</td><td>...</td><td>...</td></tr>\n",
       "<tr><td>27958143</td><td>TESS</td><td>image</td><td>tess2020265213913-s0029-1-1-0193-s</td><td>Uncalibrated full frame image</td><td>S</td><td>mast:TESS/product/tess2020265213913-s0029-1-1-0193-s_ffir.fits</td><td>SCIENCE</td><td>--</td><td>FFIR</td><td>--</td><td>SPOC</td><td>spoc-5.0.15-20201021</td><td>N/A</td><td>tess2020265213913-s0029-1-1-0193-s_ffir.fits</td><td>17775360</td><td>27972854</td><td>PUBLIC</td><td>1</td></tr>\n",
       "<tr><td>27919138</td><td>TESS</td><td>image</td><td>tess2020265214913-s0029-1-1-0193-s</td><td>Calibrated full frame image</td><td>S</td><td>mast:TESS/product/tess2020265214913-s0029-1-1-0193-s_ffic.fits</td><td>SCIENCE</td><td>--</td><td>FFIC</td><td>--</td><td>SPOC</td><td>spoc-5.0.15-20201021</td><td>N/A</td><td>tess2020265214913-s0029-1-1-0193-s_ffic.fits</td><td>35547840</td><td>27972854</td><td>PUBLIC</td><td>2</td></tr>\n",
       "<tr><td>27919138</td><td>TESS</td><td>image</td><td>tess2020265214913-s0029-1-1-0193-s</td><td>Uncalibrated full frame image</td><td>S</td><td>mast:TESS/product/tess2020265214913-s0029-1-1-0193-s_ffir.fits</td><td>SCIENCE</td><td>--</td><td>FFIR</td><td>--</td><td>SPOC</td><td>spoc-5.0.15-20201021</td><td>N/A</td><td>tess2020265214913-s0029-1-1-0193-s_ffir.fits</td><td>17775360</td><td>27972854</td><td>PUBLIC</td><td>1</td></tr>\n",
       "<tr><td>27939489</td><td>TESS</td><td>image</td><td>tess2020265215913-s0029-1-1-0193-s</td><td>Calibrated full frame image</td><td>S</td><td>mast:TESS/product/tess2020265215913-s0029-1-1-0193-s_ffic.fits</td><td>SCIENCE</td><td>--</td><td>FFIC</td><td>--</td><td>SPOC</td><td>spoc-5.0.15-20201021</td><td>N/A</td><td>tess2020265215913-s0029-1-1-0193-s_ffic.fits</td><td>35547840</td><td>27972854</td><td>PUBLIC</td><td>2</td></tr>\n",
       "<tr><td>27939489</td><td>TESS</td><td>image</td><td>tess2020265215913-s0029-1-1-0193-s</td><td>Uncalibrated full frame image</td><td>S</td><td>mast:TESS/product/tess2020265215913-s0029-1-1-0193-s_ffir.fits</td><td>SCIENCE</td><td>--</td><td>FFIR</td><td>--</td><td>SPOC</td><td>spoc-5.0.15-20201021</td><td>N/A</td><td>tess2020265215913-s0029-1-1-0193-s_ffir.fits</td><td>17775360</td><td>27972854</td><td>PUBLIC</td><td>1</td></tr>\n",
       "<tr><td>27953469</td><td>TESS</td><td>image</td><td>tess2020265220913-s0029-1-1-0193-s</td><td>Calibrated full frame image</td><td>S</td><td>mast:TESS/product/tess2020265220913-s0029-1-1-0193-s_ffic.fits</td><td>SCIENCE</td><td>--</td><td>FFIC</td><td>--</td><td>SPOC</td><td>spoc-5.0.15-20201021</td><td>N/A</td><td>tess2020265220913-s0029-1-1-0193-s_ffic.fits</td><td>35547840</td><td>27972854</td><td>PUBLIC</td><td>2</td></tr>\n",
       "<tr><td>27953469</td><td>TESS</td><td>image</td><td>tess2020265220913-s0029-1-1-0193-s</td><td>Uncalibrated full frame image</td><td>S</td><td>mast:TESS/product/tess2020265220913-s0029-1-1-0193-s_ffir.fits</td><td>SCIENCE</td><td>--</td><td>FFIR</td><td>--</td><td>SPOC</td><td>spoc-5.0.15-20201021</td><td>N/A</td><td>tess2020265220913-s0029-1-1-0193-s_ffir.fits</td><td>17775360</td><td>27972854</td><td>PUBLIC</td><td>1</td></tr>\n",
       "</table></div>"
      ],
      "text/plain": [
       "<Table masked=True length=9760>\n",
       " obsID   obs_collection dataproduct_type ... dataRights calib_level\n",
       "  str8        str4           str10       ...    str6       int64   \n",
       "-------- -------------- ---------------- ... ---------- -----------\n",
       "60896979           TESS            image ...     PUBLIC           2\n",
       "60896979           TESS            image ...     PUBLIC           1\n",
       "60887674           TESS            image ...     PUBLIC           2\n",
       "60887674           TESS            image ...     PUBLIC           1\n",
       "60895527           TESS            image ...     PUBLIC           2\n",
       "60895527           TESS            image ...     PUBLIC           1\n",
       "     ...            ...              ... ...        ...         ...\n",
       "27958143           TESS            image ...     PUBLIC           1\n",
       "27919138           TESS            image ...     PUBLIC           2\n",
       "27919138           TESS            image ...     PUBLIC           1\n",
       "27939489           TESS            image ...     PUBLIC           2\n",
       "27939489           TESS            image ...     PUBLIC           1\n",
       "27953469           TESS            image ...     PUBLIC           2\n",
       "27953469           TESS            image ...     PUBLIC           1"
      ]
     },
     "execution_count": 5,
     "metadata": {},
     "output_type": "execute_result"
    }
   ],
   "source": [
    "# Query the observations from MAST to get a list of products for our selected observations\n",
    "data_products = Observations.get_product_list(TESS_table)\n",
    "\n",
    "# Get the minimum required products\n",
    "filtered = Observations.filter_products(data_products, dataproduct_type ='image')\n",
    "\n",
    "#check out what this filter returned\n",
    "filtered"
   ]
  },
  {
   "cell_type": "markdown",
   "id": "3136b903",
   "metadata": {},
   "source": [
    "Let's plot one of the calibrated full frame images of Fomalhaut from TESS. We can choose a Calibrated FFI data product at random, how about obsID 60895527. Let's see how that one looks!\n",
    "\n",
    "We need to filter our data again so that we don't have to download all 9760 data products, we just want the data for obsID 60895527 with a description of \"Calibrated full frame image\". "
   ]
  },
  {
   "cell_type": "code",
   "execution_count": null,
   "id": "02767a2f",
   "metadata": {},
   "outputs": [],
   "source": [
    "filtered2 = Observations.filter_products(data_products, dataproduct_type ='image', obsID = '60895527', description = 'Calibrated full frame image')\n",
    "\n",
    "#Print out the data products we have filtered for\n",
    "filtered2"
   ]
  },
  {
   "cell_type": "markdown",
   "id": "ae948174",
   "metadata": {},
   "source": [
    "Download the FITs file"
   ]
  },
  {
   "cell_type": "code",
   "execution_count": null,
   "id": "b0d975dd",
   "metadata": {},
   "outputs": [],
   "source": [
    "data = Observations.download_products(filtered2)\n",
    "#Take a peek at the FITS file we downloaded\n",
    "fits_file = data['Local Path'][0]"
   ]
  },
  {
   "cell_type": "markdown",
   "id": "920014ed",
   "metadata": {},
   "source": [
    "### Understanding the FITS FFI structure\n",
    "\n",
    "TESS FFI FITS files contain a primary HDU with metadata stored in the header.  The first extension HDU contains more metadata in the header, and stores the full frame image.  The second extension HDU contains the uncertainty values for the image.  Let's examine the structure of the FITS file using the astropy.fits `info` function, which shows the FITS file format in more detail."
   ]
  },
  {
   "cell_type": "code",
   "execution_count": null,
   "id": "608483f9",
   "metadata": {},
   "outputs": [],
   "source": [
    "fits.info(fits_file)"
   ]
  },
  {
   "cell_type": "markdown",
   "id": "48624d1a",
   "metadata": {},
   "source": [
    "<div class=\"alert-success\">\n",
    "    <b>What are the dimensions of the Full Frame Image?</b>\n",
    "</div>"
   ]
  },
  {
   "cell_type": "markdown",
   "id": "aebf5eb4",
   "metadata": {},
   "source": [
    "ANS:\n",
    "<div class=\"alert-danger\">\n",
    "    <b>2136 pixels by 2078 pixels</b>\n",
    "</div>"
   ]
  },
  {
   "cell_type": "markdown",
   "id": "5bb760be",
   "metadata": {},
   "source": [
    "### Reading the WCS and Calibrated Image\n",
    "\n",
    "Now that we have the file, let's store the world coordinate system information for use later. World Coordinate Systems (WCSs) describe the geometric transformations between one set of coordinates and another, almost all the FITS files you come across will have a WCS in its metadata. We can use the astropy.wcs WCS function to store the information from the image extension HDU's header. "
   ]
  },
  {
   "cell_type": "code",
   "execution_count": null,
   "id": "4e4e9e10",
   "metadata": {},
   "outputs": [],
   "source": [
    "# open the file, extract the WCS and Image data, and then close the file\n",
    "with fits.open(fits_file, mode = \"readonly\") as hdulist:\n",
    "    wcs = WCS(hdulist[1].header)\n",
    "    image = hdulist[1].data\n",
    "    header = hdulist[1].header\n",
    "    \n",
    "#Take a peek at the header\n",
    "header"
   ]
  },
  {
   "cell_type": "markdown",
   "id": "794c65b9",
   "metadata": {},
   "source": [
    "### Display the Image\n",
    "\n",
    "Finally, let's plot our full frame image of Fomalhaut. "
   ]
  },
  {
   "cell_type": "code",
   "execution_count": null,
   "id": "accd950c",
   "metadata": {},
   "outputs": [],
   "source": [
    "plt.figure(figsize = (12,12))\n",
    "# plt.subplot(projection = wcs) #TO FIX -this is not working, i think its something to do with my versions of matplotlib and astropy\n",
    "plt.imshow(image, vmin = np.percentile(image,4),vmax = np.percentile(image, 98),origin = \"lower\", cmap = 'inferno')\n",
    "plt.ylim(1100,1900)\n",
    "plt.xlim(200,1000)\n",
    "plt.xlabel('RA')\n",
    "plt.ylabel('Dec')\n",
    "plt.show()"
   ]
  },
  {
   "cell_type": "markdown",
   "id": "2c064138",
   "metadata": {},
   "source": [
    "## Homework\n",
    "1. Choose a star from this list:\n",
    "    - Proxima Centauri\n",
    "    - Procyon (* alf CMi)\n",
    "    - Aldebaran (* alf Tau)\n",
    "    - Polaris (alf UMi)\n",
    "    - Rigel (* bet Ori)\n",
    "    \n",
    "Next, query TESS observations for it, download a fits file for 1 calibrated FFI, and then print out the FITS Header. Answer the following questions using the code above as an example. HINT: you may need to find the coordinates for your chosen star, [SIMBAD](https://simbad.u-strasbg.fr/simbad/sim-fid) is a reliable source. \n",
    "\n",
    "\n",
    "- What is the date of this observation?\n",
    "- What are CRVAL1 and CRVAL2?\n",
    "- How many TESS observations of this star are there?\n",
    "- What are the exposure times of these observations?\n",
    "\n",
    "2. Using the data you queried, plot a FITS FFI for the star. "
   ]
  },
  {
   "cell_type": "markdown",
   "id": "4d9208b5",
   "metadata": {},
   "source": [
    "## Additional Resources\n",
    "Can't get enough? Here are some links to more information!\n",
    "\n",
    "If you need an introduction (or a refresher!) to basic Python syntax, there are several great resources available online. [CodeAcademy](https://www.codecademy.com/learn/learn-python-3) is a great service with a totally free option for getting started with Python, note you will have to create an account to use it. Additionally, the Youtube channel FreeCodeCamp.org has a great [video tutorial](https://www.youtube.com/watch?v=rfscVS0vtbw) on everyting you need to get started programming in Python. Another good resource is the [Python 4 Everyone](https://www.py4e.com/) book. \n",
    "\n",
    "The full astropy documentation can be found [here](https://docs.astropy.org/en/stable/index.html).\n",
    "\n",
    "For more info on FITS files, here is a link to the FITS official [website](https://fits.gsfc.nasa.gov/). \n",
    "\n",
    "SIMBAD is a web-based query service from the University of Strausberg, it is a great resource for getting quick info on stars and other astronomical targets, here is the link to [Fomalhaut's SIMBAD page](https://simbad.u-strasbg.fr/simbad/sim-id?Ident=fomalhaut&NbIdent=1&Radius=2&Radius.unit=arcmin&submit=submit+id)\n"
   ]
  },
  {
   "cell_type": "markdown",
   "id": "f73f7d25",
   "metadata": {},
   "source": [
    "## What's next?\n",
    "\n",
    "Next week we will use what we have learned about gathering TESS data and use it to plot a light curve of an exoplanetary system, in addition to exploring time series data and their applications. This will involve learning how exoplanets are detected and discover what other types of systems can be analyzed using light curves. Stay tuned!\n"
   ]
  },
  {
   "cell_type": "markdown",
   "id": "2899f59f",
   "metadata": {},
   "source": [
    "## Acknowldegements\n",
    "\n",
    "This notebook includes data collected with the TESS mission, obtained from the MAST data archive at the Space Telescope Science Institute (STScI). Funding for the TESS mission is provided by the NASA Explorer Program. STScI is operated by the Association of Universities for Research in Astronomy, Inc., under NASA contract NAS 5–26555.\n",
    "\n",
    "Any published work that uses Astroquery should include a citation which can be found at [this link](https://github.com/astropy/astroquery/blob/main/astroquery/CITATION), or can be printed out in a code cell with: `astroquery.__citation__` as long as the astroquery package is imported. "
   ]
  },
  {
   "cell_type": "markdown",
   "id": "262ba077",
   "metadata": {},
   "source": [
    "### Notebook Information:\n",
    "Author: Emma Lieb\n",
    "\n",
    "Last Updated: 05/19/2023"
   ]
  },
  {
   "cell_type": "code",
   "execution_count": null,
   "id": "a6fd7aa1",
   "metadata": {},
   "outputs": [],
   "source": []
  }
 ],
 "metadata": {
  "kernelspec": {
   "display_name": "Python 3 (ipykernel)",
   "language": "python",
   "name": "python3"
  },
  "language_info": {
   "codemirror_mode": {
    "name": "ipython",
    "version": 3
   },
   "file_extension": ".py",
   "mimetype": "text/x-python",
   "name": "python",
   "nbconvert_exporter": "python",
   "pygments_lexer": "ipython3",
   "version": "3.10.9"
  }
 },
 "nbformat": 4,
 "nbformat_minor": 5
}
